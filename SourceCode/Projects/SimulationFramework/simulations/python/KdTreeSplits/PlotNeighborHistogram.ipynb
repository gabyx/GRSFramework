{
 "cells": [
  {
   "cell_type": "code",
   "execution_count": 1,
   "metadata": {
    "collapsed": false
   },
   "outputs": [
    {
     "data": {
      "text/plain": [
       "'/home/zfmgpu/.config/matplotlib'"
      ]
     },
     "execution_count": 1,
     "metadata": {},
     "output_type": "execute_result"
    }
   ],
   "source": [
    "# import stuff\n",
    "import sys,os\n",
    "\n",
    "import numpy as np\n",
    "import matplotlib as mpl\n",
    "\n",
    "\n",
    "\n",
    "# Load Settings\n",
    "mpl.rcParams = mpl.rc_params_from_file(\"./matplotlibrc\", fail_on_error=True)\n",
    "def cm2inch(value):\n",
    "        return value/2.54\n",
    "        \n",
    "def cm2pt(value):\n",
    "        return cm2inch(value)*72\n",
    "\n",
    "#this works apparently only for savefig stuff\n",
    "mpl.rcParams['figure.figsize']=(cm2inch(7.8),cm2inch(2.5))\n",
    "\n",
    "import matplotlib.cm as cm\n",
    "import matplotlib.pyplot as plt\n",
    "import matplotlib.colors as colors\n",
    "\n",
    "\n",
    "%matplotlib inline\n",
    "%config InlineBackend.figure_format='svg'\n",
    "%config InlineBackend.rc = {'figure.facecolor': 'white', 'figure.subplot.bottom': 0.125, 'figure.edgecolor': 'white', 'savefig.dpi': 300, 'figure.figsize': (12.0, 8.0), 'font.size': 10}\n",
    "\n",
    "#GUi shit\n",
    "%matplotlib tk\n",
    "\n",
    "mpl.get_configdir()\n"
   ]
  },
  {
   "cell_type": "code",
   "execution_count": 2,
   "metadata": {
    "collapsed": true
   },
   "outputs": [],
   "source": [
    "nbCountBad = np.loadtxt(\"./neighborcountBadSplit.txt\")\n",
    "nbCountGood = np.loadtxt(\"./neighborcountGoodSplit.txt\")"
   ]
  },
  {
   "cell_type": "code",
   "execution_count": 66,
   "metadata": {
    "collapsed": false
   },
   "outputs": [
    {
     "name": "stdout",
     "output_type": "stream",
     "text": [
      "15.0\n",
      "2.0\n",
      "7.5\n",
      "8.0\n"
     ]
    }
   ],
   "source": [
    "print(max(np.max(nbCountBad),np.max(nbCountGood)))\n",
    "print(min(np.min(nbCountBad),np.min(nbCountGood)))\n",
    "\n",
    "print(np.median(nbCountBad))\n",
    "print(np.median(nbCountGood))\n",
    "\n",
    "plt.close(\"all\")\n",
    "\n",
    "padding = dict(pad=0.0)\n",
    "s = (cm2inch(7.8),cm2inch(3.5))\n",
    "cc = 0.6\n",
    "c = \"gray\" #(cc,cc,cc)\n",
    "fig = plt.figure(figsize=s)\n",
    "plt.hist(nbCountBad,align='left',bins=14, range=(2,16), color = c)\n",
    "plt.gca().set_xlim([1,16])\n",
    "plt.gca().set_ylim((0.5,1000))\n",
    "plt.gca().set_yscale('log')\n",
    "plt.xlabel(\"neighbor count\")\n",
    "plt.ylabel(\"process count\")\n",
    "plt.tight_layout()\n",
    "plt.subplots_adjust(left=0.18, bottom=0.32, right=0.96, top=0.9, wspace=0, hspace=0)\n",
    "plt.savefig(\"neighborHistogramBad.pdf\")\n",
    "\n",
    "fig = plt.figure(figsize=s)\n",
    "plt.hist(nbCountGood,align='left',bins=14, range=(2,16),color = c)\n",
    "plt.gca().set_xlim([1,16])\n",
    "plt.gca().set_ylim((0.5,1000))\n",
    "plt.gca().set_yscale('log')\n",
    "plt.xlabel(\"neighbor count\")\n",
    "plt.ylabel(\"process count\")\n",
    "plt.tight_layout()\n",
    "plt.subplots_adjust(left=0.18, bottom=0.32, right=0.96, top=0.9, wspace=0, hspace=0)\n",
    "plt.savefig(\"neighborHistogramGood.pdf\")\n",
    "\n",
    "\n"
   ]
  },
  {
   "cell_type": "code",
   "execution_count": null,
   "metadata": {
    "collapsed": true
   },
   "outputs": [],
   "source": []
  }
 ],
 "metadata": {
  "kernelspec": {
   "display_name": "Python 3",
   "language": "python",
   "name": "python3"
  },
  "language_info": {
   "codemirror_mode": {
    "name": "ipython",
    "version": 3
   },
   "file_extension": ".py",
   "mimetype": "text/x-python",
   "name": "python",
   "nbconvert_exporter": "python",
   "pygments_lexer": "ipython3",
   "version": "3.4.3"
  }
 },
 "nbformat": 4,
 "nbformat_minor": 0
}

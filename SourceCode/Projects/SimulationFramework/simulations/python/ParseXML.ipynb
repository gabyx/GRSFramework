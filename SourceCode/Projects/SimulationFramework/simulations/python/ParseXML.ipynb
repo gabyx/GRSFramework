{
 "metadata": {
  "name": ""
 },
 "nbformat": 3,
 "nbformat_minor": 0,
 "worksheets": [
  {
   "cells": [
    {
     "cell_type": "heading",
     "level": 1,
     "metadata": {},
     "source": [
      "Python XML parsing"
     ]
    },
    {
     "cell_type": "code",
     "collapsed": false,
     "input": [
      "from PerformanceTestXMLParser import *;\n",
      "\n",
      "desc,data,columnNames = parsePerformanceXML(\"XMLTest.xml\")\n",
      "\n",
      "print(\"---> Descriptions Keys: \", desc.keys())\n",
      "print(\"---> DataTable Column Identifiers: \" , columnNames)\n",
      "print(\"---> nContacts\", data['nContacts'])"
     ],
     "language": "python",
     "metadata": {},
     "outputs": [
      {
       "output_type": "stream",
       "stream": "stdout",
       "text": [
        "Parsing Performance Test File:  XMLTest.xml\n",
        "---> Descriptions Keys:  dict_keys(['Precision', 'VariantID', 'ConvexSet', 'GPUInfos', 'VariantSettings', 'TotalTestProblemsPerContactSize', 'ProxIterationType', 'Remarks', 'TotalProxIterations', 'VariantName', 'VariantDescription', 'MatchCPUGPU'])\n",
        "---> DataTable Column Identifiers:  ['nContacts', 'nFlop', 'GFlops', 'Memory Bandwith', 'elapsedTimeCopyToGPU_Avg', 'gpuIterationTime_Avg', 'elapsedTimeCopyFromGPU_Avg', 'cpuIterationTime_Avg', 'nIterationsForTradeoff', 'speedUpFactor', 'maxRelTol_Avg', 'avgRelTol_Avg', 'maxUlp_Avg', 'avgUlp_Avg']\n",
        "---> nContacts [ 1000.]\n"
       ]
      }
     ],
     "prompt_number": 59
    }
   ],
   "metadata": {}
  }
 ]
}
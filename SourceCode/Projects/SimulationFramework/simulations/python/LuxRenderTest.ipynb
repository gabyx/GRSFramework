{
 "metadata": {
  "name": ""
 },
 "nbformat": 3,
 "nbformat_minor": 0,
 "worksheets": [
  {
   "cells": [
    {
     "cell_type": "heading",
     "level": 1,
     "metadata": {},
     "source": [
      "Plot Simfile and SimulationData"
     ]
    },
    {
     "cell_type": "code",
     "collapsed": false,
     "input": [
      "import numpy as np\n",
      "\n",
      "from SimFileReader import * \n",
      "\n",
      "dynState = ReadInSimFile( \"../SimFiles/SimDataRECORDMPI_40000first/SimState_5.sim\" ,[3,3.001],[0,40000],False)"
     ],
     "language": "python",
     "metadata": {},
     "outputs": [
      {
       "ename": "FileNotFoundError",
       "evalue": "[Errno 2] No such file or directory: '../SimFiles/SimDataRECORDMPI_40000first/SimState_5.sim'",
       "output_type": "pyerr",
       "traceback": [
        "\u001b[1;31m---------------------------------------------------------------------------\u001b[0m\n\u001b[1;31mFileNotFoundError\u001b[0m                         Traceback (most recent call last)",
        "\u001b[1;32m<ipython-input-2-8b27f3c1759d>\u001b[0m in \u001b[0;36m<module>\u001b[1;34m()\u001b[0m\n\u001b[0;32m      3\u001b[0m \u001b[1;32mfrom\u001b[0m \u001b[0mSimFileReader\u001b[0m \u001b[1;32mimport\u001b[0m \u001b[1;33m*\u001b[0m\u001b[1;33m\u001b[0m\u001b[0m\n\u001b[0;32m      4\u001b[0m \u001b[1;33m\u001b[0m\u001b[0m\n\u001b[1;32m----> 5\u001b[1;33m \u001b[0mdynState\u001b[0m \u001b[1;33m=\u001b[0m \u001b[0mReadInSimFile\u001b[0m\u001b[1;33m(\u001b[0m \u001b[1;34m\"../SimFiles/SimDataRECORDMPI_40000first/SimState_5.sim\"\u001b[0m \u001b[1;33m,\u001b[0m\u001b[1;33m[\u001b[0m\u001b[1;36m3\u001b[0m\u001b[1;33m,\u001b[0m\u001b[1;36m3.001\u001b[0m\u001b[1;33m]\u001b[0m\u001b[1;33m,\u001b[0m\u001b[1;33m[\u001b[0m\u001b[1;36m0\u001b[0m\u001b[1;33m,\u001b[0m\u001b[1;36m40000\u001b[0m\u001b[1;33m]\u001b[0m\u001b[1;33m,\u001b[0m\u001b[1;32mFalse\u001b[0m\u001b[1;33m)\u001b[0m\u001b[1;33m\u001b[0m\u001b[0m\n\u001b[0m",
        "\u001b[1;32m/home/zfmgpu/Desktop/Repository/SimulationFramework/SourceCode/Projects/SimulationFramework/Simulations/PythonScripts/SimFileReader.py\u001b[0m in \u001b[0;36mReadInSimFile\u001b[1;34m(path, timeRange, bodyRange, supressOutput)\u001b[0m\n\u001b[0;32m    208\u001b[0m             \u001b[1;32mreturn\u001b[0m \u001b[0m_ReadInSimFile\u001b[0m\u001b[1;33m(\u001b[0m\u001b[0mpath\u001b[0m\u001b[1;33m,\u001b[0m \u001b[0mtimeRange\u001b[0m\u001b[1;33m,\u001b[0m \u001b[0mbodyRange\u001b[0m\u001b[1;33m)\u001b[0m\u001b[1;33m\u001b[0m\u001b[0m\n\u001b[0;32m    209\u001b[0m     \u001b[1;32melse\u001b[0m\u001b[1;33m:\u001b[0m\u001b[1;33m\u001b[0m\u001b[0m\n\u001b[1;32m--> 210\u001b[1;33m             \u001b[1;32mreturn\u001b[0m \u001b[0m_ReadInSimFile\u001b[0m\u001b[1;33m(\u001b[0m\u001b[0mpath\u001b[0m\u001b[1;33m,\u001b[0m \u001b[0mtimeRange\u001b[0m\u001b[1;33m,\u001b[0m \u001b[0mbodyRange\u001b[0m\u001b[1;33m)\u001b[0m\u001b[1;33m\u001b[0m\u001b[0m\n\u001b[0m\u001b[0;32m    211\u001b[0m \u001b[1;33m\u001b[0m\u001b[0m\n\u001b[0;32m    212\u001b[0m \u001b[1;33m\u001b[0m\u001b[0m\n",
        "\u001b[1;32m/home/zfmgpu/Desktop/Repository/SimulationFramework/SourceCode/Projects/SimulationFramework/Simulations/PythonScripts/SimFileReader.py\u001b[0m in \u001b[0;36m_ReadInSimFile\u001b[1;34m(path, timeRange, bodyRange, dumpToOutputPath)\u001b[0m\n\u001b[0;32m    222\u001b[0m     \u001b[0m_signature\u001b[0m \u001b[1;33m=\u001b[0m \u001b[1;34mb'MBSF'\u001b[0m\u001b[1;33m\u001b[0m\u001b[0m\n\u001b[0;32m    223\u001b[0m     \u001b[0mprint\u001b[0m\u001b[1;33m(\u001b[0m\u001b[1;34m\"Read in SimFile at: \"\u001b[0m \u001b[1;33m+\u001b[0m \u001b[0mpath\u001b[0m\u001b[1;33m)\u001b[0m\u001b[1;33m\u001b[0m\u001b[0m\n\u001b[1;32m--> 224\u001b[1;33m     \u001b[0msF\u001b[0m \u001b[1;33m=\u001b[0m \u001b[0mBinaryReader\u001b[0m\u001b[1;33m(\u001b[0m\u001b[0mpath\u001b[0m\u001b[1;33m)\u001b[0m\u001b[1;33m\u001b[0m\u001b[0m\n\u001b[0m\u001b[0;32m    225\u001b[0m \u001b[1;33m\u001b[0m\u001b[0m\n\u001b[0;32m    226\u001b[0m     \u001b[0msF\u001b[0m\u001b[1;33m.\u001b[0m\u001b[0mfile\u001b[0m\u001b[1;33m.\u001b[0m\u001b[0mseek\u001b[0m\u001b[1;33m(\u001b[0m\u001b[1;36m0\u001b[0m\u001b[1;33m,\u001b[0m\u001b[1;36m2\u001b[0m\u001b[1;33m)\u001b[0m\u001b[1;33m\u001b[0m\u001b[0m\n",
        "\u001b[1;32m/home/zfmgpu/Desktop/Repository/SimulationFramework/SourceCode/Projects/SimulationFramework/Simulations/PythonScripts/SimFileReader.py\u001b[0m in \u001b[0;36m__init__\u001b[1;34m(self, fileName)\u001b[0m\n\u001b[0;32m     44\u001b[0m \u001b[1;33m\u001b[0m\u001b[0m\n\u001b[0;32m     45\u001b[0m     \u001b[1;32mdef\u001b[0m \u001b[0m__init__\u001b[0m\u001b[1;33m(\u001b[0m\u001b[0mself\u001b[0m\u001b[1;33m,\u001b[0m \u001b[0mfileName\u001b[0m\u001b[1;33m)\u001b[0m\u001b[1;33m:\u001b[0m\u001b[1;33m\u001b[0m\u001b[0m\n\u001b[1;32m---> 46\u001b[1;33m         \u001b[0mself\u001b[0m\u001b[1;33m.\u001b[0m\u001b[0mfile\u001b[0m \u001b[1;33m=\u001b[0m \u001b[0mopen\u001b[0m\u001b[1;33m(\u001b[0m\u001b[0mfileName\u001b[0m\u001b[1;33m,\u001b[0m \u001b[1;34m'rb'\u001b[0m\u001b[1;33m)\u001b[0m\u001b[1;33m\u001b[0m\u001b[0m\n\u001b[0m\u001b[0;32m     47\u001b[0m \u001b[1;33m\u001b[0m\u001b[0m\n\u001b[0;32m     48\u001b[0m     \u001b[1;32mdef\u001b[0m \u001b[0mgetSize\u001b[0m\u001b[1;33m(\u001b[0m\u001b[0mself\u001b[0m\u001b[1;33m,\u001b[0m \u001b[0mtypeName\u001b[0m\u001b[1;33m)\u001b[0m\u001b[1;33m:\u001b[0m\u001b[1;33m\u001b[0m\u001b[0m\n",
        "\u001b[1;31mFileNotFoundError\u001b[0m: [Errno 2] No such file or directory: '../SimFiles/SimDataRECORDMPI_40000first/SimState_5.sim'"
       ]
      },
      {
       "output_type": "stream",
       "stream": "stdout",
       "text": [
        "Read in SimFile at: ../SimFiles/SimDataRECORDMPI_40000first/SimState_5.sim\n"
       ]
      }
     ],
     "prompt_number": 2
    },
    {
     "cell_type": "code",
     "collapsed": false,
     "input": [
      "import os;\n",
      "\n",
      "def toTransform(pos,quat):\n",
      "    T = np.zeros((4,4),dtype=numpy.float64);\n",
      "    \n",
      "    fTx  = 2.0*quat[1];\n",
      "    fTy  = 2.0*quat[2];\n",
      "    fTz  = 2.0*quat[3];\n",
      "    fTwx = fTx*quat[0];\n",
      "    fTwy = fTy*quat[0];\n",
      "    fTwz = fTz*quat[0];\n",
      "    fTxx = fTx*quat[1];\n",
      "    fTxy = fTy*quat[1];\n",
      "    fTxz = fTz*quat[1];\n",
      "    fTyy = fTy*quat[2];\n",
      "    fTyz = fTz*quat[2];\n",
      "    fTzz = fTz*quat[3];\n",
      "    \n",
      "    T[0,0] = 1.0-(fTyy+fTzz);\n",
      "    T[0,1] = fTxy-fTwz;\n",
      "    T[0,2] = fTxz+fTwy;\n",
      "    T[1,0] = fTxy+fTwz;\n",
      "    T[1,1] = 1.0-(fTxx+fTzz);\n",
      "    T[1,2] = fTyz-fTwx;\n",
      "    T[2,0] = fTxz-fTwy;\n",
      "    T[2,1] = fTyz+fTwx;\n",
      "    T[2,2] = 1.0-(fTxx+fTyy);\n",
      "    \n",
      "    T[0:3,3] = pos; \n",
      "    T[3,3] = 1.0;\n",
      "    return T;\n",
      "\n",
      "# Rendermand saves matrices in row-major order!\n",
      "def toRendermanTransform(T):\n",
      "    s = 'ConcatTransform  ['\n",
      "    for x in np.nditer(T, order='C'):\n",
      "        s+= str(x) + \" \";\n",
      "    s+= \"]\" + os.linesep;\n",
      "    return s;\n",
      "\n",
      "def writeSphereRenderString(T):\n",
      "    s = 'AttributeBegin' + os.linesep\n",
      "    s += 'NamedMaterial \"sphere\"' + os.linesep\n",
      "    s += 'Transform  ['\n",
      "    for x in np.nditer(T, order='F'):\n",
      "        s+= str(x) + \" \";\n",
      "    s+= \"]\" + os.linesep;\n",
      "    s += 'Shape \"sphere\" \"float radius\" [0.055]' + os.linesep\n",
      "    s += 'AttributeEnd' + os.linesep\n",
      "    return s;"
     ],
     "language": "python",
     "metadata": {},
     "outputs": [],
     "prompt_number": 167
    },
    {
     "cell_type": "code",
     "collapsed": false,
     "input": [
      "#open file\n",
      "f = open(\"Rendering/RenderTestLux/RenderGeometry.lxo\", 'w');\n",
      "\n",
      "# loop over all bodies\n",
      "for body in dynState.bodies.values():\n",
      "    T = toTransform(body[0][0][0:3],body[0][0][3:7])\n",
      "    f.write(writeSphereRenderString(T));\n",
      "\n",
      "f.close();\n",
      "    "
     ],
     "language": "python",
     "metadata": {},
     "outputs": []
    },
    {
     "cell_type": "code",
     "collapsed": false,
     "input": [
      "def writeSphereDataChrono(pos,quat,id):\n",
      "    s = \"g1,\"+str(id)+\",\"+','.join(map(str, pos))+ \",\" + ','.join(map(str, quat))+\",\"+\"sphere,0.055\" + os.linesep\n",
      "    return s;\n",
      "\n",
      "\n",
      "#open file\n",
      "f = open(\"Rendering/ImportBlender/data_0.dat\", 'w');\n",
      "\n",
      "# loop over all bodies\n",
      "id = 0\n",
      "for body in dynState.bodies.values():\n",
      "    s = writeSphereDataChrono(body[0][0][0:3],body[0][0][3:7],id);\n",
      "    f.write(s);\n",
      "    id+=1;\n",
      "\n",
      "f.close();"
     ],
     "language": "python",
     "metadata": {},
     "outputs": [
      {
       "ename": "NameError",
       "evalue": "name 'dynState' is not defined",
       "output_type": "pyerr",
       "traceback": [
        "\u001b[1;31m---------------------------------------------------------------------------\u001b[0m\n\u001b[1;31mNameError\u001b[0m                                 Traceback (most recent call last)",
        "\u001b[1;32m<ipython-input-184-190cc0fa66fc>\u001b[0m in \u001b[0;36m<module>\u001b[1;34m()\u001b[0m\n\u001b[0;32m      9\u001b[0m \u001b[1;31m# loop over all bodies\u001b[0m\u001b[1;33m\u001b[0m\u001b[1;33m\u001b[0m\u001b[0m\n\u001b[0;32m     10\u001b[0m \u001b[0mid\u001b[0m \u001b[1;33m=\u001b[0m \u001b[1;36m0\u001b[0m\u001b[1;33m\u001b[0m\u001b[0m\n\u001b[1;32m---> 11\u001b[1;33m \u001b[1;32mfor\u001b[0m \u001b[0mbody\u001b[0m \u001b[1;32min\u001b[0m \u001b[0mdynState\u001b[0m\u001b[1;33m.\u001b[0m\u001b[0mbodies\u001b[0m\u001b[1;33m.\u001b[0m\u001b[0mvalues\u001b[0m\u001b[1;33m(\u001b[0m\u001b[1;33m)\u001b[0m\u001b[1;33m:\u001b[0m\u001b[1;33m\u001b[0m\u001b[0m\n\u001b[0m\u001b[0;32m     12\u001b[0m     \u001b[0ms\u001b[0m \u001b[1;33m=\u001b[0m \u001b[0mwriteSphereDataChrono\u001b[0m\u001b[1;33m(\u001b[0m\u001b[0mbody\u001b[0m\u001b[1;33m[\u001b[0m\u001b[1;36m0\u001b[0m\u001b[1;33m]\u001b[0m\u001b[1;33m[\u001b[0m\u001b[1;36m0\u001b[0m\u001b[1;33m]\u001b[0m\u001b[1;33m[\u001b[0m\u001b[1;36m0\u001b[0m\u001b[1;33m:\u001b[0m\u001b[1;36m3\u001b[0m\u001b[1;33m]\u001b[0m\u001b[1;33m,\u001b[0m\u001b[0mbody\u001b[0m\u001b[1;33m[\u001b[0m\u001b[1;36m0\u001b[0m\u001b[1;33m]\u001b[0m\u001b[1;33m[\u001b[0m\u001b[1;36m0\u001b[0m\u001b[1;33m]\u001b[0m\u001b[1;33m[\u001b[0m\u001b[1;36m3\u001b[0m\u001b[1;33m:\u001b[0m\u001b[1;36m7\u001b[0m\u001b[1;33m]\u001b[0m\u001b[1;33m,\u001b[0m\u001b[0mid\u001b[0m\u001b[1;33m)\u001b[0m\u001b[1;33m;\u001b[0m\u001b[1;33m\u001b[0m\u001b[0m\n\u001b[0;32m     13\u001b[0m     \u001b[0mf\u001b[0m\u001b[1;33m.\u001b[0m\u001b[0mwrite\u001b[0m\u001b[1;33m(\u001b[0m\u001b[0ms\u001b[0m\u001b[1;33m)\u001b[0m\u001b[1;33m;\u001b[0m\u001b[1;33m\u001b[0m\u001b[0m\n",
        "\u001b[1;31mNameError\u001b[0m: name 'dynState' is not defined"
       ]
      }
     ],
     "prompt_number": 184
    },
    {
     "cell_type": "code",
     "collapsed": false,
     "input": [],
     "language": "python",
     "metadata": {},
     "outputs": []
    },
    {
     "cell_type": "code",
     "collapsed": false,
     "input": [
      "import numpy as np\n",
      "\n",
      "def normalize(v):\n",
      "    norm=np.linalg.norm(v)\n",
      "    if norm==0: \n",
      "       return v\n",
      "    return v/norm\n",
      "\n",
      "def calculateLookAt( fromPos, toPos, upAxis):\n",
      "    zAxis = normalize(toPos - fromPos);\n",
      "    yAxis = normalize(np.cross(zAxis, upAxis))\n",
      "    xAxis = np.cross(yAxis,zAxis)\n",
      "    A_IC = np.reshape(np.concatenate((xAxis,yAxis,zAxis), axis=0),(3,3)).T # Rotate Camera with respect to World Frame\n",
      "    #print(A_IC)\n",
      "    A_CR = np.zeros((3,3),dtype=np.float64); \n",
      "    A_CR[1,0]=1;\n",
      "    A_CR[0,1]=1;\n",
      "    A_CR[2,2]=1;\n",
      "    \n",
      "    R_RI = A_IR = A_IC.dot(A_CR)  # A_IR = R_RI (rotation from frame I to renderman camera frame)\n",
      "    \n",
      "    TR = np.eye(4);\n",
      "    # We want y = [ R_IR ,   R_t_RI    ; \n",
      "    #                  0   ,   1      ]   * y\n",
      "    # Renderman needs the transpose of this because it is left mulitplying by a row!\n",
      "    TR[0:3,0:3] = R_RI.T ;\n",
      "    TR[0:3,3]   = A_IR.T.dot( - fromPos );\n",
      "    return TR.T"
     ],
     "language": "python",
     "metadata": {},
     "outputs": [],
     "prompt_number": 168
    },
    {
     "cell_type": "code",
     "collapsed": false,
     "input": [
      "cameraFile = \"./Rendering/AquisRendering/500000Balls/ribarchives/CameraTransform.rib\"\n",
      "\n",
      "pos = np.array([0.4,-0.6,0.5])\n",
      "at  = np.array([0.4,0,0.2])\n",
      "up = np.array([0,0,1])\n",
      "\n",
      "# pos = np.array([0.0,-0.6,0.0])\n",
      "# at  = np.array([0.0,0,0.0])\n",
      "# up = np.array([0,0,1])\n",
      "\n",
      "T = calculateLookAt(pos,at, up );\n",
      "print(T)\n",
      "s = toRendermanTransform(T);\n",
      "print(s)\n",
      "\n",
      "f = open(cameraFile, mode='w',);\n",
      "f.write(s);\n",
      "f.close();"
     ],
     "language": "python",
     "metadata": {},
     "outputs": [
      {
       "output_type": "stream",
       "stream": "stdout",
       "text": [
        "[[ 1.          0.          0.          0.        ]\n",
        " [ 0.          0.4472136   0.89442719  0.        ]\n",
        " [ 0.          0.89442719 -0.4472136   0.        ]\n",
        " [-0.4        -0.17888544  0.76026311  1.        ]]\n",
        "ConcatTransform  [1.0 0.0 0.0 0.0 0.0 0.4472135954999579 0.8944271909999159 0.0 0.0 0.8944271909999159 -0.4472135954999579 0.0 -0.4 -0.1788854381999832 0.7602631123499284 1.0 ]\n",
        "\n"
       ]
      }
     ],
     "prompt_number": 172
    },
    {
     "cell_type": "code",
     "collapsed": false,
     "input": [],
     "language": "python",
     "metadata": {},
     "outputs": [],
     "prompt_number": 9
    },
    {
     "cell_type": "code",
     "collapsed": false,
     "input": [
      "import Transformations as TR;\n",
      "f = TR.scale_matrix(-1.0, direction=[0,0,1]) ;\n",
      "f = TR.translation_matrix([0,0,-3.0]).T.dot(f);\n",
      "print(f)\n",
      "f = TR.rotation_matrix(-math.pi/4,[1, 0, 0]).T.dot(f);\n",
      "print(f);\n",
      "f = TR.rotation_matrix(-math.pi/4*3,[0,0, 1]).T.dot(f)\n",
      "print(f)\n",
      "\n",
      "s = toRendermanTransform(f)\n",
      "print(s)\n"
     ],
     "language": "python",
     "metadata": {},
     "outputs": [
      {
       "output_type": "stream",
       "stream": "stdout",
       "text": [
        "[[ 1.  0.  0.  0.]\n",
        " [ 0.  1.  0.  0.]\n",
        " [ 0.  0. -1.  0.]\n",
        " [ 0.  0.  3.  1.]]\n",
        "[[ 1.          0.          0.          0.        ]\n",
        " [ 0.          0.70710678  0.70710678  0.        ]\n",
        " [ 0.          0.70710678 -0.70710678  0.        ]\n",
        " [ 0.          0.          3.          1.        ]]\n",
        "[[-0.70710678 -0.5        -0.5         0.        ]\n",
        " [ 0.70710678 -0.5        -0.5         0.        ]\n",
        " [ 0.          0.70710678 -0.70710678  0.        ]\n",
        " [ 0.          0.          3.          1.        ]]\n",
        "ConcatTransform  [-0.7071067811865475 -0.5000000000000001 -0.5 0.0 0.7071067811865476 -0.5 -0.4999999999999999 0.0 0.0 0.7071067811865475 -0.7071067811865476 0.0 0.0 0.0 3.0 1.0 ]\n",
        "\n"
       ]
      }
     ],
     "prompt_number": 117
    },
    {
     "cell_type": "code",
     "collapsed": false,
     "input": [
      "math.atan("
     ],
     "language": "python",
     "metadata": {},
     "outputs": []
    }
   ],
   "metadata": {}
  }
 ]
}
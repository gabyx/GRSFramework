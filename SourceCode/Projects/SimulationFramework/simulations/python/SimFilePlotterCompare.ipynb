{
 "metadata": {
  "name": "",
  "signature": "sha256:4582a117b6d6ebbaf53b4fde839c428a73e5f6a385d21d6b92ea685130b41080"
 },
 "nbformat": 3,
 "nbformat_minor": 0,
 "worksheets": [
  {
   "cells": [
    {
     "cell_type": "heading",
     "level": 2,
     "metadata": {},
     "source": [
      "Compare Two Simfiles"
     ]
    },
    {
     "cell_type": "code",
     "collapsed": false,
     "input": [
      "import sys,os\n",
      "\n",
      "import numpy as np\n",
      "import matplotlib as mpl\n",
      "import matplotlib.cm as cm\n",
      "import matplotlib.pyplot as plt\n",
      "import matplotlib.colors as colors\n",
      "\n",
      "#this works apparently only for savefig stuff\n",
      "mpl.rcParams['figure.figsize']=(16.0,8.0)    #(6.0,4.0)\n",
      "mpl.rcParams['font.size']=12                #10 \n",
      "mpl.rcParams['savefig.dpi']=100             #72 \n",
      "\n",
      "mpl.rcParams['figure.subplot.bottom']=.1    #.125\n",
      "\n",
      "\n",
      "plt.rc('font', family='serif')\n",
      "plt.rc('text', usetex=True)\n",
      "\n",
      "#inline Shit\n",
      "%matplotlib inline\n",
      "%config InlineBackend.figure_format='svg'\n",
      "%config InlineBackend.rc = {'figure.facecolor': 'white', 'figure.subplot.bottom': 0.125, 'figure.edgecolor': 'white', 'savefig.dpi': 300, 'figure.figsize': (12.0, 8.0), 'font.size': 10}\n",
      "\n",
      "#GUi shit\n",
      "%matplotlib tk\n",
      "\n",
      "mpl.get_configdir()\n",
      "\n",
      "%load_ext autoreload\n",
      "%autoreload 2\n",
      "# Import General Packages from me\n",
      "from Tools.Parsers import *\n",
      "from Tools.BoundingBox import *\n",
      "from Tools.Transformations import *\n"
     ],
     "language": "python",
     "metadata": {},
     "outputs": [
      {
       "output_type": "stream",
       "stream": "stdout",
       "text": [
        "The autoreload extension is already loaded. To reload it, use:\n",
        "  %reload_ext autoreload\n"
       ]
      }
     ],
     "prompt_number": 4
    },
    {
     "cell_type": "heading",
     "level": 3,
     "metadata": {},
     "source": [
      "Plot all states for the two files"
     ]
    },
    {
     "cell_type": "code",
     "collapsed": false,
     "input": [
      "def plotBodies():\n",
      "    \n",
      "    plt.close('all')\n",
      "    \n",
      "    def getMarkesOpt1(colorVal):\n",
      "        return {    'linestyle': '-', 'marker': '.',\n",
      "                    'color': colorVal,\n",
      "                    'linewidth': 2,\n",
      "                    'markersize':3, \n",
      "                     'markeredgecolor' : colorVal, \n",
      "                     'markerfacecolor' : colorVal, \n",
      "                     'markeredgewidth': 1\n",
      "                }\n",
      "    def getMarkesOpt2(colorVal):\n",
      "        return {    'color': colorVal,\n",
      "                    'linestyle': ':', 'marker': '.',\n",
      "                    'linewidth': 2,\n",
      "                    'markersize':7, \n",
      "                     'markeredgecolor' : colorVal, \n",
      "                     'markerfacecolor' : 'none', \n",
      "                     'markeredgewidth': 1\n",
      "                }\n",
      "    \n",
      "    nBodies = bodyRange[1] - bodyRange[0] + 1\n",
      "    jet = plt.get_cmap('jet') \n",
      "    cNorm  = colors.Normalize(vmin=0, vmax=nBodies)\n",
      "    scalarMap = cm.ScalarMappable(norm=cNorm, cmap=jet)\n",
      "    \n",
      "    fig1 = plt.figure()\n",
      "    ax10 = plt.subplot(2,1,1);\n",
      "    # Position\n",
      "    for i,body in dynState1.bodies.items():             \n",
      "        ax10.plot(dynState1.t, body[0][:,0:3],  label=label1, **getMarkesOpt1(scalarMap.to_rgba(i)) );\n",
      "        ax10.plot(dynState2.t, dynState2.bodies[i][0][:,0:3],  label=label2, **getMarkesOpt2(scalarMap.to_rgba(i)) );\n",
      "    \n",
      "    ax11 = plt.subplot(2,1,2, sharex= ax10);\n",
      "    for i,body in dynState1.bodies.items(): \n",
      "        ax11.plot(dynState1.t, body[0][:,3:7],  **getMarkesOpt1(scalarMap.to_rgba(i)) );\n",
      "        ax11.plot(dynState2.t, dynState2.bodies[i][0][:,3:7], **getMarkesOpt2(scalarMap.to_rgba(i)) );\n",
      "    \n",
      "    ax10.legend()\n",
      "    ax10.grid(True)\n",
      "    ax10.set_title('Position');\n",
      "    ax10.set_ylabel('\\mathbf{r}_S(t)');\n",
      "    ax10.set_ymargin(0.2)\n",
      "    ax10.autoscale(True,'both',False)\n",
      "    \n",
      "    ax11.grid(True)\n",
      "    ax11.set_title('Quaternion');\n",
      "    ax11.set_ylabel('\\mathbf{a}_{KI}(t)');\n",
      "    ax11.set_ymargin(0.2)\n",
      "    ax11.autoscale(True,'both',False)\n",
      "    \n",
      "    # Velocity\n",
      "    fig2 = plt.figure()\n",
      "    ax20 = plt.subplot(2,1,1);\n",
      "    for i,body in dynState1.bodies.items():             \n",
      "        ax20.plot(dynState1.t, body[1][:,0:3],**getMarkesOpt1(scalarMap.to_rgba(i)) );\n",
      "        ax20.plot(dynState2.t, dynState2.bodies[i][1][:,0:3],**getMarkesOpt2(scalarMap.to_rgba(i)) );\n",
      "    ax21 = plt.subplot(2,1,2, sharex=ax20);\n",
      "    for i,body in dynState1.bodies.items():   \n",
      "        ax21.plot(dynState1.t, body[1][:,3:6], **getMarkesOpt1(scalarMap.to_rgba(i)) );\n",
      "        ax21.plot(dynState2.t, dynState2.bodies[i][1][:,3:6], **getMarkesOpt2(scalarMap.to_rgba(i)) );\n",
      "    \n",
      "    ax20.grid(True)\n",
      "    ax20.set_title('Velocity');\n",
      "    ax20.set_ylabel('\\mathbf{v}_S(t)');\n",
      "    ax20.set_xmargin(0.0)\n",
      "    ax20.set_ymargin(0.1)\n",
      "    \n",
      "    ax21.grid(True)\n",
      "    ax21.set_title('Angular Velocity');\n",
      "    ax21.set_ylabel('\\mathbf{\\omega}_{KI}(t)');\n",
      "    ax21.set_xmargin(0.0)\n",
      "    ax21.set_ymargin(0.1)"
     ],
     "language": "python",
     "metadata": {},
     "outputs": [],
     "prompt_number": 5
    },
    {
     "cell_type": "raw",
     "metadata": {},
     "source": [
      "# # Debug t= 0.83\n",
      "# dynState1.t[83]\n",
      "# print(dynState1.t[83])\n",
      "# print(dynState1.bodies[2][0][83])\n",
      "\n",
      "\n",
      "# r_sM =dynState1.bodies[2][0][83][0:3] + 0.5*0.01*dynState1.bodies[2][1][83][0:3]\n",
      "# #y axis Collide with wall\n",
      "# print(r_sM[1] + 1.29768) # over 3 collides with wall\n",
      "# #z axis Collide with wall\n",
      "# print(r_sM[2] + 1.29768) # over 3 collides with wall\n",
      "\n"
     ]
    },
    {
     "cell_type": "raw",
     "metadata": {},
     "source": [
      "# # Debug t= 0.83\n",
      "# dynState2.t[83]\n",
      "# print(dynState2.t[83])\n",
      "# print(dynState2.bodies[2][0][83])\n",
      "\n",
      "# r_sM =dynState2.bodies[2][0][83][0:3] + 0.5*0.01*dynState2.bodies[2][1][83][0:3]\n",
      "# print(r_sM[1] + 1.29768) # over 3 collides with wall\n",
      "# print(r_sM[2] + 1.29768) # over 3 collides with wall"
     ]
    },
    {
     "cell_type": "heading",
     "level": 3,
     "metadata": {},
     "source": [
      "Load the two Simfiles"
     ]
    },
    {
     "cell_type": "code",
     "collapsed": false,
     "input": [
      "scriptpath = \"./\"\n",
      "# Add the directory containing your module to the Python path (wants absolute paths)\n",
      "sys.path.append(os.path.abspath(scriptpath))  \n",
      "\n",
      "bodyRange = [0,1]\n",
      "label1='GUI';\n",
      "label2='MPI';\n",
      "\n",
      "\n",
      "timeRange = [0,50]\n",
      "\n",
      "folderNumber = 0\n",
      "#For single file which contains multiple bodies\n",
      "dynState1 = SimFileReader.ReadInSimFile(\"./../SimFiles/SimDataRECORDGUI_%d/SimState.sim\" % folderNumber ,timeRange,bodyRange,False)\n",
      "print(dynState1)\n",
      "#print(dynState1.bodies)\n",
      "\n",
      "folderNumber = 2\n",
      "dynState2 = SimFileReader.ReadInSimFile(\"./../SimFiles/SimDataRECORDGUI_%d/SimState.sim\" % folderNumber ,timeRange,bodyRange,False)\n",
      "#dynState2 = SimFileReader.(\"./../GlobalFolder/SimFiles/SimDataRECORDMPI_%d/SimState.sim\" % folderNumber, timeRange , bodyRange , False)\n",
      "print(dynState2)\n",
      "#print(dynState2.bodies)\n",
      "\n",
      "plotBodies();\n"
     ],
     "language": "python",
     "metadata": {},
     "outputs": [
      {
       "output_type": "stream",
       "stream": "stdout",
       "text": [
        "Read in SimFile at: ./../SimFiles/SimDataRECORDGUI_0/SimState.sim\n",
        "--> File has: 57.2207145690918 mb\n",
        "--> SimFile signature: b'MBSF' found\n",
        "--> SimFile version: 2\n",
        "--> nSimBodies: 1\n",
        "--> nDofqObj: 7\n",
        "--> nDofuObj: 6\n",
        "--> Add. Bytes Type: 0\n",
        "--> Add. Bytes Per Body: 0\n",
        "--> nBytesHeader: 28\n",
        "--> nBytesBodyState: 112\n",
        "--> nBytesState: 120\n",
        "--> nStates: 500002\n",
        "--> nAdditionalWrongBytes: 0\n",
        "--> minTime: 0.0"
       ]
      },
      {
       "output_type": "stream",
       "stream": "stdout",
       "text": [
        "\n",
        "--> maxTime: 5.000009999979879\n",
        "Filtering Simfile: t = [0, 5.000009999979879]\n",
        "--> readNStates: 500002"
       ]
      },
      {
       "output_type": "stream",
       "stream": "stdout",
       "text": [
        "\n",
        "--> Time t:"
       ]
      },
      {
       "output_type": "stream",
       "stream": "stdout",
       "text": [
        " [  0.00000000e+00   1.00000000e-05   2.00000000e-05 ...,   4.99999000e+00\n",
        "   5.00000000e+00   5.00001000e+00]\n",
        "--> BodyIds: min/max  0 0\n",
        "--> Number of BodyIds:  1\n",
        "DynamicsState id:140003864620112\n",
        "nSimBodies: 1\n",
        "minTime: 0.0\n",
        "maxTime: 5.00000999998\n",
        "body ids: [0]"
       ]
      },
      {
       "output_type": "stream",
       "stream": "stdout",
       "text": [
        "\n",
        "Read in SimFile at: ./../SimFiles/SimDataRECORDGUI_2/SimState.sim\n",
        "--> File has: 0.5723457336425781 mb\n",
        "--> SimFile signature: b'MBSF' found\n",
        "--> SimFile version: 2\n",
        "--> nSimBodies: 1\n",
        "--> nDofqObj: 7\n",
        "--> nDofuObj: 6\n",
        "--> Add. Bytes Type: 0\n",
        "--> Add. Bytes Per Body: 0\n",
        "--> nBytesHeader: 28\n",
        "--> nBytesBodyState: 112\n",
        "--> nBytesState: 120\n",
        "--> nStates: 5001\n",
        "--> nAdditionalWrongBytes: 0\n",
        "--> minTime: 0.0\n",
        "--> maxTime: 5.000000000000004\n",
        "Filtering Simfile: t = [0, 5.000000000000004]\n",
        "--> readNStates: 5001\n",
        "--> Time t:"
       ]
      },
      {
       "output_type": "stream",
       "stream": "stdout",
       "text": [
        " [  0.00000000e+00   1.00000000e-03   2.00000000e-03 ...,   4.99800000e+00\n",
        "   4.99900000e+00   5.00000000e+00]\n",
        "--> BodyIds: min/max  0 0\n",
        "--> Number of BodyIds:  1\n",
        "DynamicsState id:140003864620896\n",
        "nSimBodies: 1\n",
        "minTime: 0.0\n",
        "maxTime: 5.0\n",
        "body ids: [0]\n"
       ]
      }
     ],
     "prompt_number": 6
    },
    {
     "cell_type": "code",
     "collapsed": false,
     "input": [],
     "language": "python",
     "metadata": {},
     "outputs": []
    }
   ],
   "metadata": {}
  }
 ]
}
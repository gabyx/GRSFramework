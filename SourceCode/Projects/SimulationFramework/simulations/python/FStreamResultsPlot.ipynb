{
 "metadata": {
  "name": ""
 },
 "nbformat": 3,
 "nbformat_minor": 0,
 "worksheets": [
  {
   "cells": [
    {
     "cell_type": "code",
     "collapsed": false,
     "input": [
      "import sys,os\n",
      "\n",
      "import numpy as np\n",
      "import matplotlib as mpl\n",
      "import matplotlib.cm as cm\n",
      "import matplotlib.pyplot as plt\n",
      "import matplotlib.colors as colors\n",
      "import matplotlib.cm as cmx\n",
      "import matplotlib.gridspec as gridspec\n",
      "\n",
      "#this works apparently only for savefig stuff\n",
      "mpl.rcParams['figure.figsize']=(16.0,8.0)    #(6.0,4.0)\n",
      "mpl.rcParams['font.size']=12                #10 \n",
      "mpl.rcParams['savefig.dpi']=100             #72 \n",
      "mpl.rcParams['figure.subplot.bottom']=.1    #.125\n",
      "\n",
      "\n",
      "plt.rc('font', family='serif')\n",
      "plt.rc('text', usetex=True)"
     ],
     "language": "python",
     "metadata": {},
     "outputs": [],
     "prompt_number": 1
    },
    {
     "cell_type": "code",
     "collapsed": false,
     "input": [
      "#inline Shit\n",
      "%matplotlib inline\n",
      "%config InlineBackend.figure_format='svg'\n",
      "%config InlineBackend.rc = {'figure.facecolor': 'white', 'figure.subplot.bottom': 0.125, 'figure.edgecolor': 'white', 'savefig.dpi': 300, 'figure.figsize': (12.0, 8.0), 'font.size': 10}\n"
     ],
     "language": "python",
     "metadata": {},
     "outputs": [],
     "prompt_number": 2
    },
    {
     "cell_type": "code",
     "collapsed": false,
     "input": [
      "#GUi shit\n",
      "%matplotlib tk"
     ],
     "language": "python",
     "metadata": {},
     "outputs": [],
     "prompt_number": 3
    },
    {
     "cell_type": "code",
     "collapsed": false,
     "input": [
      "mpl.get_configdir()"
     ],
     "language": "python",
     "metadata": {},
     "outputs": [
      {
       "metadata": {},
       "output_type": "pyout",
       "prompt_number": 4,
       "text": [
        "'/home/zfmgpu/.config/matplotlib'"
       ]
      }
     ],
     "prompt_number": 4
    },
    {
     "cell_type": "code",
     "collapsed": false,
     "input": [
      "fileList1=[(\"FStreamResults/FStreamTest-FstreamBuffering-OwnBufferSet-1000.txt\",\"FstreamBuffering-OwnBufferSet\"),\n",
      "          (\"FStreamResults/FStreamTest-ManualBuffering-NoInternalStreamBuffer-1000.txt\",\"ManualBuffering-NoInternalStreamBuffer\"),\n",
      "          (\"FStreamResults/FStreamTest-ManualBuffering-StdStreamBuffer-1000.txt\",\"ManualBuffering-StdStreamBuffer\"),\n",
      "          (\"FStreamResults/FStreamTest-NoManualBuffering-NoInternalStreamBuffer-1000.txt\",\"NoManualBuffering-NoInternalStreamBuffer\"),\n",
      "          (\"FStreamResults/FStreamTest-NoManualBuffering-StdStreamBuffer-1000.txt\",\"NoManualBuffering-StdStreamBuffer\")]\n",
      "\n",
      "fileList2=[(\"FStreamResults/FStreamTest-FstreamBuffering-OwnBufferSet-300.txt\",\"FstreamBuffering-OwnBufferSet\"),\n",
      "          (\"FStreamResults/FStreamTest-ManualBuffering-NoInternalStreamBuffer-300.txt\",\"ManualBuffering-NoInternalStreamBuffer\"),\n",
      "          (\"FStreamResults/FStreamTest-ManualBuffering-StdStreamBuffer-300.txt\",\"ManualBuffering-StdStreamBuffer\"),\n",
      "          (\"FStreamResults/FStreamTest-NoManualBuffering-NoInternalStreamBuffer-300.txt\",\"NoManualBuffering-NoInternalStreamBuffer\"),\n",
      "          (\"FStreamResults/FStreamTest-NoManualBuffering-StdStreamBuffer-300.txt\",\"NoManualBuffering-StdStreamBuffer\")]\n",
      "\n",
      "fileList3=[(\"FStreamResults/FStreamTest-FstreamBuffering-OwnBufferSet-100.txt\",\"FstreamBuffering-OwnBufferSet\"),\n",
      "          (\"FStreamResults/FStreamTest-ManualBuffering-NoInternalStreamBuffer-100.txt\",\"ManualBuffering-NoInternalStreamBuffer\"),\n",
      "          (\"FStreamResults/FStreamTest-ManualBuffering-StdStreamBuffer-100.txt\",\"ManualBuffering-StdStreamBuffer\"),\n",
      "          (\"FStreamResults/FStreamTest-NoManualBuffering-NoInternalStreamBuffer-100.txt\",\"NoManualBuffering-NoInternalStreamBuffer\"),\n",
      "          (\"FStreamResults/FStreamTest-NoManualBuffering-StdStreamBuffer-100.txt\",\"NoManualBuffering-StdStreamBuffer\")]\n",
      "\n",
      "data1=[]\n",
      "data2=[]\n",
      "data3=[]\n",
      "for i in range(len(fileList1)):\n",
      "    data1.append(np.loadtxt(fileList1[i][0],comments=\"#\", delimiter=\"\\t\"))\n",
      "for i in range(len(fileList2)):\n",
      "    data2.append(np.loadtxt(fileList2[i][0],comments=\"#\", delimiter=\"\\t\"))\n",
      "for i in range(len(fileList3)):\n",
      "    data3.append(np.loadtxt(fileList3[i][0],comments=\"#\", delimiter=\"\\t\"))    "
     ],
     "language": "python",
     "metadata": {},
     "outputs": [],
     "prompt_number": 5
    },
    {
     "cell_type": "code",
     "collapsed": false,
     "input": [
      "plt.close('all')\n",
      "\n",
      "#load data\n",
      "fig = plt.figure()\n",
      "fig.hold()\n",
      "for i in range(len(fileList1)):\n",
      "    plt.plot(data1[i][:,0],data1[i][:,2], label=fileList1[i][1], linestyle='-', marker='*', linewidth='2')\n",
      "\n",
      "ax = plt.gca()\n",
      "ax.set_xscale('log')\n",
      "ax.grid(True)\n",
      "ax.legend()\n",
      "ax.set_title(\"Write Speed for 1Gb file\")\n",
      "ax.set_ylabel(\"Write Speed [Mb/sec]\")\n",
      "ax.set_xlabel(\"Cache Size [bytes]\") \n",
      "\n",
      "#load data2\n",
      "fig2 = plt.figure()\n",
      "fig2.hold()\n",
      "for i in range(len(fileList2)):\n",
      "    plt.plot(data2[i][:,0],data2[i][:,2], label=fileList2[i][1], linestyle='-', marker='*', linewidth='2')\n",
      "\n",
      "ax = plt.gca()\n",
      "ax.set_xscale('log')\n",
      "ax.grid(True)\n",
      "ax.legend()\n",
      "ax.set_title(\"Write Speed for 300Mb file\")\n",
      "ax.set_ylabel(\"Write Speed [Mb/sec]\")\n",
      "ax.set_xlabel(\"Cache Size [bytes]\") \n",
      "plt.show()\n",
      "\n",
      "#load data3\n",
      "fig3 = plt.figure()\n",
      "fig3.hold()\n",
      "for i in range(len(fileList3)):\n",
      "    plt.plot(data3[i][:,0],data3[i][:,2], label=fileList3[i][1], linestyle='-', marker='*', linewidth='2')\n",
      "\n",
      "ax = plt.gca()\n",
      "ax.set_xscale('log')\n",
      "ax.grid(True)\n",
      "ax.legend()\n",
      "ax.set_title(\"Write Speed for 100Mb file\")\n",
      "ax.set_ylabel(\"Write Speed [Mb/sec]\")\n",
      "ax.set_xlabel(\"Cache Size [bytes]\") \n",
      "plt.show()\n"
     ],
     "language": "python",
     "metadata": {},
     "outputs": [],
     "prompt_number": 6
    },
    {
     "cell_type": "code",
     "collapsed": false,
     "input": [],
     "language": "python",
     "metadata": {},
     "outputs": [],
     "prompt_number": 6
    },
    {
     "cell_type": "code",
     "collapsed": false,
     "input": [],
     "language": "python",
     "metadata": {},
     "outputs": [],
     "prompt_number": 6
    }
   ],
   "metadata": {}
  }
 ]
}
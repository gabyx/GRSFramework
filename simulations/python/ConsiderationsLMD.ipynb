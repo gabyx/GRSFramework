{
 "metadata": {
  "name": ""
 },
 "nbformat": 3,
 "nbformat_minor": 0,
 "worksheets": [
  {
   "cells": [
    {
     "cell_type": "code",
     "collapsed": false,
     "input": [
      "import sys,os\n",
      "\n",
      "import numpy as np\n",
      "import matplotlib as mpl\n",
      "import matplotlib.cm as cm\n",
      "import matplotlib.pyplot as plt\n",
      "import matplotlib.colors as colors\n",
      "import matplotlib.cm as cmx\n",
      "\n",
      "#this works apparently only for savefig stuff\n",
      "mpl.rcParams['figure.figsize']=(6.0,4.0)    #(6.0,4.0)\n",
      "mpl.rcParams['font.size']=10                #10 \n",
      "mpl.rcParams['savefig.dpi']=400             #72 \n",
      "mpl.rcParams['figure.subplot.bottom']=.1    #.125\n",
      "\n",
      "\n",
      "plt.rc('font', family='serif')\n",
      "plt.rc('text', usetex=True)\n",
      "\n",
      "#inline Shit\n",
      "%matplotlib inline\n",
      "%config InlineBackend.figure_format='png'\n",
      "%config InlineBackend.rc = {'figure.facecolor': 'white', 'figure.subplot.bottom': 0.125, 'figure.edgecolor': 'white', 'savefig.dpi': 400, 'figure.figsize': (12.0, 8.0), 'font.size': 10}\n",
      "\n",
      "#GUi shit\n",
      "%matplotlib tk\n",
      "\n",
      "mpl.get_configdir()\n"
     ],
     "language": "python",
     "metadata": {},
     "outputs": [
      {
       "metadata": {},
       "output_type": "pyout",
       "prompt_number": 12,
       "text": [
        "'/home/zfmgpu/.config/matplotlib'"
       ]
      }
     ],
     "prompt_number": 12
    },
    {
     "cell_type": "code",
     "collapsed": false,
     "input": [
      "bodies = [10e3,100e3,500e3,1e6,10e6]\n",
      "colors =['r','b','g','k','y']\n",
      "for i, b in enumerate(bodies): \n",
      "    \n",
      "    nB = b\n",
      "\n",
      "    typeSize = 8;\n",
      "    bytesPerState= (7+6)*typeSize\n",
      "    mbytesPerTimeStep = nB*bytesPerState + 1*typeSize;\n",
      "    print(mbytesPerTimeStep)\n",
      "    mbytesPerTimeStep / (1024*1024)\n",
      "    \n",
      "    deltaT = 1/30\n",
      "    print(\"deltaT:\", deltaT)\n",
      "    timeEnd = 10;\n",
      "    nTS = timeEnd/deltaT\n",
      "    print(\"nTS:\", nTS)\n",
      "    \n",
      "#     #Method 3\n",
      "#     deltaTList = np.linspace(0.001,0.04,300)\n",
      "#     bytesMethod3Total = (float(timeEnd)/deltaTList * (bytesPerState + 1*typeSize) * nB) / (1024**3)\n",
      "#     plt.plot(deltaTList,bytesMethod3Total, colors[i]+'-', label=\"One File per Body (nB: %d k)\" % (nB/1000))\n",
      "    \n",
      "    \n",
      "    \n",
      "    #Method 1/2\n",
      "    deltaTList = np.linspace(0.001,0.04,300)\n",
      "    bytesMethod3Total = (float(timeEnd)/deltaTList * mbytesPerTimeStep) / (1024**3)\n",
      "    plt.plot(deltaTList,bytesMethod3Total, colors[i]+'--', label=\"Single File (nB: %d k)\" % (nB/1000))\n",
      "   \n",
      "\n",
      "    \n",
      "ax = plt.gca()\n",
      "ax.grid()\n",
      "ax.minorticks_on()\n",
      "ax.set_title(\"Data Consumption for Simulation\")\n",
      "ax.set_xlabel(r'$\\Delta$T')\n",
      "ax.set_ylabel(\"Gb of Data\")\n",
      "#ax.set_yscale('log')\n",
      "ax.set_xscale('log')\n",
      "ax.legend()"
     ],
     "language": "python",
     "metadata": {},
     "outputs": [
      {
       "output_type": "stream",
       "stream": "stdout",
       "text": [
        "1040008.0\n",
        "deltaT: 0.03333333333333333\n",
        "nTS: 300.0\n",
        "10400008.0\n",
        "deltaT: 0.03333333333333333\n",
        "nTS: 300.0\n",
        "52000008.0\n",
        "deltaT: 0.03333333333333333\n",
        "nTS: 300.0\n",
        "104000008.0\n",
        "deltaT: 0.03333333333333333\n",
        "nTS: 300.0\n",
        "1040000008.0\n",
        "deltaT: 0.03333333333333333\n",
        "nTS: 300.0\n"
       ]
      },
      {
       "metadata": {},
       "output_type": "pyout",
       "prompt_number": 15,
       "text": [
        "<matplotlib.legend.Legend at 0x7f0a43b6ebd0>"
       ]
      }
     ],
     "prompt_number": 15
    },
    {
     "cell_type": "code",
     "collapsed": false,
     "input": [
      "plt.close('all')\n",
      "\n",
      "bodies = [10e3,100e3,500e3,1e6,2e6]\n",
      "colors =['r','b','g','k','y']\n",
      "for i, b in enumerate(bodies): \n",
      "    \n",
      "    nB = b\n",
      "    typeSize = 8; \n",
      "    bytesPerState= (7+6)*typeSize\n",
      "    mbytesPerTimeStep = nB*bytesPerState + 1*typeSize;\n",
      "    print(mbytesPerTimeStep)\n",
      "    mbytesPerTimeStep / (1024*1024)\n",
      "    \n",
      "    deltaT = 1/30\n",
      "    print(\"deltaT:\", deltaT)\n",
      "    timeEnd = 10;\n",
      "    nTS = timeEnd/deltaT\n",
      "    print(\"nTS:\", nTS)\n",
      "    \n",
      "#     #Method 3\n",
      "#     deltaTList = np.linspace(0.001,0.04,300)\n",
      "#     bytesMethod3Total = (float(timeEnd)/deltaTList * (bytesPerState + 1*typeSize) * nB) / (1024**3)\n",
      "#     plt.plot(deltaTList,bytesMethod3Total, colors[i]+'--', label=\"One File per Body (nB: %d k)\" % (nB/1000))\n",
      "    \n",
      "    \n",
      "    \n",
      "    #Method 1/2\n",
      "    deltaTList = np.linspace(0.001,0.04,300)\n",
      "    bytesMethod3Total = (float(timeEnd)/deltaTList * mbytesPerTimeStep) / (1024**3)\n",
      "    plt.plot(deltaTList,bytesMethod3Total, colors[i]+'-', label=\"Single File (nB: %d k)\" % (nB/1000))\n",
      "   \n",
      "\n",
      "    \n",
      "ax = plt.gca()\n",
      "ax.grid()\n",
      "ax.minorticks_on()\n",
      "ax.set_title(\"Data Consumption for Simulation\")\n",
      "ax.set_xlabel(r'$\\Delta$T')\n",
      "ax.set_ylabel(\"Gb of Data\")\n",
      "#ax.set_yscale('log')\n",
      "#ax.set_xscale('log')\n",
      "ax.legend()\n",
      "plt.show()"
     ],
     "language": "python",
     "metadata": {},
     "outputs": [
      {
       "output_type": "stream",
       "stream": "stdout",
       "text": [
        "1040008.0\n",
        "deltaT: 0.03333333333333333\n",
        "nTS: 300.0\n",
        "10400008.0"
       ]
      },
      {
       "output_type": "stream",
       "stream": "stdout",
       "text": [
        "\n",
        "deltaT: 0.03333333333333333\n",
        "nTS: 300.0\n",
        "52000008.0\n",
        "deltaT: 0.03333333333333333\n",
        "nTS: 300.0\n",
        "104000008.0\n",
        "deltaT: 0.03333333333333333\n",
        "nTS: 300.0\n",
        "208000008.0\n",
        "deltaT: 0.03333333333333333\n",
        "nTS: 300.0\n"
       ]
      }
     ],
     "prompt_number": 20
    },
    {
     "cell_type": "code",
     "collapsed": false,
     "input": [],
     "language": "python",
     "metadata": {},
     "outputs": [
      {
       "metadata": {},
       "output_type": "pyout",
       "prompt_number": 5,
       "text": [
        "0.001"
       ]
      }
     ],
     "prompt_number": 5
    },
    {
     "cell_type": "code",
     "collapsed": false,
     "input": [],
     "language": "python",
     "metadata": {},
     "outputs": [],
     "prompt_number": 5
    }
   ],
   "metadata": {}
  }
 ]
}
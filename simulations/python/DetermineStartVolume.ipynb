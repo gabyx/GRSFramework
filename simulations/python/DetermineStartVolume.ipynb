{
 "metadata": {
  "name": "",
  "signature": "sha256:615269c6fac5867facd1f7c11a7f30efe1ce9375340e9060b9cc74eee1d03d39"
 },
 "nbformat": 3,
 "nbformat_minor": 0,
 "worksheets": [
  {
   "cells": [
    {
     "cell_type": "heading",
     "level": 1,
     "metadata": {},
     "source": [
      "Plot Simfile and SimulationData"
     ]
    },
    {
     "cell_type": "code",
     "collapsed": false,
     "input": [
      "import sys,os\n",
      "\n",
      "import numpy as np\n",
      "import matplotlib as mpl\n",
      "import matplotlib.cm as cm\n",
      "import matplotlib.pyplot as plt\n",
      "import matplotlib.colors as colors\n",
      "import matplotlib.cm as cmx\n",
      "\n",
      "#this works apparently only for savefig stuff\n",
      "mpl.rcParams['figure.figsize']=(6.0,4.0)    #(6.0,4.0)\n",
      "mpl.rcParams['font.size']=10                #10 \n",
      "mpl.rcParams['savefig.dpi']=400             #72 \n",
      "mpl.rcParams['figure.subplot.bottom']=.1    #.125\n",
      "\n",
      "\n",
      "plt.rc('font', family='serif')\n",
      "plt.rc('text', usetex=True)\n",
      "\n",
      "#inline Shit\n",
      "%matplotlib inline\n",
      "%config InlineBackend.figure_format='svg'\n",
      "%config InlineBackend.rc = {'figure.facecolor': 'white', 'figure.subplot.bottom': 0.125, 'figure.edgecolor': 'white', 'savefig.dpi': 400, 'figure.figsize': (12.0, 8.0), 'font.size': 10}\n",
      "\n",
      "#GUi shit\n",
      "%matplotlib tk\n",
      "\n",
      "mpl.get_configdir()\n",
      "\n",
      "%load_ext autoreload\n",
      "%autoreload 2\n",
      "# Import General Packages from me\n",
      "from Tools.Parsers import *\n",
      "from Tools.BoundingBox import *\n",
      "from Tools.Transformations import *\n"
     ],
     "language": "python",
     "metadata": {},
     "outputs": [
      {
       "output_type": "stream",
       "stream": "stdout",
       "text": [
        "The autoreload extension is already loaded. To reload it, use:\n",
        "  %reload_ext autoreload\n"
       ]
      }
     ],
     "prompt_number": 2
    },
    {
     "cell_type": "heading",
     "level": 3,
     "metadata": {},
     "source": [
      "Load the Simfile"
     ]
    },
    {
     "cell_type": "code",
     "collapsed": false,
     "input": [
      "import visvis as vv\n",
      "from visvis import Point, Pointset\n",
      "\n",
      "def plotCube(ax,\n",
      "             minP = np.array([-1.0,-1.0,-1.0]), \n",
      "             maxP=np.array([1.0,1.0,1.0]),\n",
      "             trans= np.array([0.0,0.0,0.0]),\n",
      "             rotMatrix=np.diag([1,1,1]), subdivs=None, opts={}, optsDivs={}):\n",
      "    from itertools import product, combinations\n",
      "    r = [-1, 1]\n",
      "\n",
      "    centerPos = (maxP + minP)/2.0;\n",
      "    print(centerPos)\n",
      "    extent = (maxP - minP)/2.0;\n",
      "\n",
      "    points = np.array([(-1, -1, -1),\n",
      "                     (-1, -1, 1),\n",
      "                     (-1, 1, -1),\n",
      "                     (-1, 1, 1),\n",
      "                     (1, -1, -1),\n",
      "                     (1, -1, 1),\n",
      "                     (1, 1, -1),\n",
      "                     (1, 1, 1)]);\n",
      "\n",
      "    for s, e in combinations(points, 2):\n",
      "        if np.sum(np.abs(s-e)) == r[1]-r[0]: # no diagonal lines\n",
      "            p1 = np.array(s,dtype=float); p2 = np.array(e,dtype=float);\n",
      "            #scale points\n",
      "            p1*=extent; p2*=extent;\n",
      "            #rotate and translate points\n",
      "            p1 = rotMatrix.dot(p1 + centerPos) + trans;\n",
      "            p2 = rotMatrix.dot(p2+centerPos) + trans;\n",
      "            vv.plot(*zip(p1,p2), axes=ax,**opts);\n",
      "    \n",
      "    if subdivs is not None:\n",
      "        pp = list();\n",
      "        dxyz = (maxP - minP) / subdivs;\n",
      "\n",
      "        for k in range(0,int(subdivs[1])+1):\n",
      "            for l in range(0,int(subdivs[2])+1):\n",
      "                pp.extend( ([ minP[0], minP[1] + k*dxyz[1],  minP[2] + l*dxyz[2] ],\n",
      "                           [ maxP[0], minP[1] + k*dxyz[1],  minP[2] + l*dxyz[2] ]) \n",
      "                );\n",
      "                \n",
      "        for k in range(0,int(subdivs[2])+1):\n",
      "            for l in range(0,int(subdivs[0])+1):\n",
      "                pp.extend( ([ minP[0]+ l*dxyz[0],  minP[1],  minP[2] + k*dxyz[2] ],\n",
      "                            [ minP[0]+ l*dxyz[0],  maxP[1],  minP[2] + k*dxyz[2] ] )\n",
      "                         );\n",
      "        \n",
      "        for k in range(0,int(subdivs[0])+1):\n",
      "            for l in range(0,int(subdivs[1])+1):\n",
      "                pp.extend( ([ minP[0]+k*dxyz[0],   minP[1]+l*dxyz[1],  minP[2] ],\n",
      "                            [  minP[0]+k*dxyz[0],   minP[1]+l*dxyz[1],  maxP[2]])\n",
      "                          ); \n",
      "        p = np.array(pp);\n",
      "        vv.plot(p.T[0],p.T[1],p.T[2],axes=ax,**optsDivs)\n",
      "    \n",
      "\n",
      "def plotAxis(ax,centerPos,A_IK,plotAxisScale=1):\n",
      "        for i,c in zip([0,1,2],['r','g','b']):\n",
      "            I_eK_i = A_IK[:,i];\n",
      "            lines = list(zip(centerPos,plotAxisScale*I_eK_i+centerPos))\n",
      "            #v = Arrow3D(*lines, mutation_scale=50, lw=1, arrowstyle=\"-|>\", color=c);\n",
      "            vv.plot(*lines, lc=c,axes=ax)\n"
     ],
     "language": "python",
     "metadata": {},
     "outputs": [],
     "prompt_number": 3
    },
    {
     "cell_type": "markdown",
     "metadata": {},
     "source": [
      "Avalanche1M-FillUp2\n",
      "==="
     ]
    },
    {
     "cell_type": "code",
     "collapsed": false,
     "input": [
      "bodyRange = [0,1]\n",
      "timeRange = [0.909,0.909]\n",
      "f = \"/media/zfmgpu/Data/GabrielNuetzi/SimFiles/SimFilesBrutus/Avalanche1M-FillUp2/1/SimState2.sim\"\n",
      "dynState = SimFileReader.ReadInSimFile(f ,timeRange,bodyRange,False)"
     ],
     "language": "python",
     "metadata": {},
     "outputs": []
    },
    {
     "cell_type": "code",
     "collapsed": false,
     "input": [
      "density_bulk = 1600;\n",
      "volume = 0.2*0.37*0.1/2;\n",
      "mass = volume * density_bulk;\n",
      "print(\"Masse anhand Topology4: \", mass)"
     ],
     "language": "python",
     "metadata": {},
     "outputs": [
      {
       "output_type": "stream",
       "stream": "stdout",
       "text": [
        "Masse anhand Topology4:  5.92\n"
       ]
      }
     ],
     "prompt_number": 6
    },
    {
     "cell_type": "code",
     "collapsed": false,
     "input": [
      "bodyRange = [0,1000000]\n",
      "timeRange = [1.501,1.502]\n",
      "\n",
      "#dynState = ReadInSimFile( \"../SimFiles/SimDataRECORDMPI_0/SimState.sim\" ,[0,0.001],[0,1],False)\n",
      "f = \"/media/zfmgpu/Data/GabrielNuetzi/SimFiles/SimFilesBrutus/Avalanche1M-RunDown1/1/SimState3.sim\"\n",
      "dynState = SimFileReader.ReadInSimFile(f ,timeRange,bodyRange,False)\n"
     ],
     "language": "python",
     "metadata": {},
     "outputs": []
    },
    {
     "cell_type": "code",
     "collapsed": false,
     "input": [
      "dynState.bodies[0].u[0,0:3]"
     ],
     "language": "python",
     "metadata": {},
     "outputs": []
    }
   ],
   "metadata": {}
  }
 ]
}
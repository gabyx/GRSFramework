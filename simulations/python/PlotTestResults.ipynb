{
 "metadata": {
  "name": "",
  "signature": "sha256:5eb42ce9f7f43005aa6fd352391ab2d132c09b3fe26cd853c5f8efe256b0d31c"
 },
 "nbformat": 3,
 "nbformat_minor": 0,
 "worksheets": [
  {
   "cells": [
    {
     "cell_type": "code",
     "collapsed": false,
     "input": [
      "import sys,os,imp,re\n",
      "import math\n",
      "import numpy as np\n",
      "import matplotlib as mpl\n",
      "\n",
      "import matplotlib.cm as cm\n",
      "import matplotlib.pyplot as plt\n",
      "\n",
      "import matplotlib.colors as colors\n",
      "import matplotlib.cm as cmx\n",
      "from mpl_toolkits.mplot3d import Axes3D\n",
      "\n",
      "\n",
      "mpl.rcParams['figure.figsize']=(6.0,4.0)    #(6.0,4.0)\n",
      "mpl.rcParams['font.size']=10                #10 \n",
      "mpl.rcParams['savefig.dpi']=400             #72 \n",
      "mpl.rcParams['figure.subplot.bottom']=.1    #.125\n",
      "\n",
      "plt.rc('font', family='serif')\n",
      "plt.rc('text', usetex=True)\n",
      "\n",
      "#inline Shit\n",
      "%matplotlib inline\n",
      "%config InlineBackend.figure_format='svg'\n",
      "%config InlineBackend.rc = {'figure.facecolor': 'white', 'figure.subplot.bottom': 0.125, 'figure.edgecolor': 'white', 'savefig.dpi': 400, 'figure.figsize': (12.0, 8.0), 'font.size': 10}\n",
      "\n",
      "#GUi shit\n",
      "%matplotlib tk\n",
      "mpl.get_configdir()"
     ],
     "language": "python",
     "metadata": {},
     "outputs": []
    },
    {
     "cell_type": "code",
     "collapsed": false,
     "input": [
      "\n",
      "def plotCube(ax,minP = np.array([-1.0,-1.0,-1.0]), maxP=np.array([1.0,1.0,1.0]),\n",
      "             trans= np.array([0.0,0.0,0.0]),rotationMatrix=np.diag([1,1,1])):\n",
      "    from itertools import product, combinations\n",
      "    r = [-1, 1]\n",
      "    \n",
      "    centerPos = (maxP + minP)/2.0;\n",
      "    #print(centerPos)\n",
      "    extent = (maxP - minP)/2.0;\n",
      "    \n",
      "    points = np.array([(-1, -1, -1),\n",
      "                     (-1, -1, 1),\n",
      "                     (-1, 1, -1),\n",
      "                     (-1, 1, 1),\n",
      "                     (1, -1, -1),\n",
      "                     (1, -1, 1),\n",
      "                     (1, 1, -1),\n",
      "                     (1, 1, 1)]);\n",
      "    \n",
      "    for s, e in combinations(points, 2):\n",
      "        if np.sum(np.abs(s-e)) == r[1]-r[0]: # no diagonal lines\n",
      "            p1 = np.array(s,dtype=float); p2 = np.array(e,dtype=float);\n",
      "            #scale points\n",
      "            p1*=extent; p2*=extent;\n",
      "            #rotate and translate points\n",
      "            p1 = rotationMatrix.dot(p1 + centerPos) + trans;\n",
      "            p2 = rotationMatrix.dot(p2+centerPos) + trans;\n",
      "            ax.plot3D(*zip(p1,p2), color=\"b\")\n",
      "\n",
      "def plotAxis(ax,centerPos,A_IK,plotAxisScale=1):\n",
      "        for i,c in zip([0,1,2],['r','g','b']):\n",
      "            I_eK_i = A_IK[:,i];\n",
      "            lines = list(zip(centerPos,plotAxisScale*I_eK_i+centerPos))\n",
      "            v = Arrow3D(*lines, mutation_scale=50, lw=1, arrowstyle=\"-|>\", color=c);\n",
      "            ax.plot3D(*lines, color=c)\n",
      "            ax.add_artist(v);\n",
      "\n",
      "def plotAxis2d(ax,centerPos,u,v,plotAxisScale=1):\n",
      "    \n",
      "    x = np.vstack((centerPos,plotAxisScale*u+centerPos))\n",
      "    y = np.vstack((centerPos,plotAxisScale*v+centerPos))\n",
      "    ax.plot(x.T[0],x.T[1],'r',lw=2)\n",
      "    ax.plot(y.T[0],y.T[1],'b',lw=2)\n",
      "        \n",
      "            \n",
      "from matplotlib.patches import FancyArrowPatch\n",
      "from mpl_toolkits.mplot3d import proj3d\n",
      "class Arrow3D(FancyArrowPatch):\n",
      "        def __init__(self, xs, ys, zs, *args, **kwargs):\n",
      "            FancyArrowPatch.__init__(self, (0,0), (0,0), *args, **kwargs)\n",
      "            self._verts3d = xs, ys, zs\n",
      "     \n",
      "        def draw(self, renderer):\n",
      "            xs3d, ys3d, zs3d = self._verts3d\n",
      "            xs, ys, zs = proj3d.proj_transform(xs3d, ys3d, zs3d, renderer.M)\n",
      "            self.set_positions((xs[0],ys[0]),(xs[1],ys[1]))\n",
      "            FancyArrowPatch.draw(self, renderer)  \n"
     ],
     "language": "python",
     "metadata": {},
     "outputs": []
    },
    {
     "cell_type": "code",
     "collapsed": false,
     "input": [
      "def axisEqual3D(ax):\n",
      "    extents = np.array([getattr(ax, 'get_{}lim'.format(dim))() for dim in 'xyz'])\n",
      "    sz = extents[:,1] - extents[:,0]\n",
      "    centers = np.mean(extents, axis=1)\n",
      "    maxsize = max(abs(sz))\n",
      "    r = maxsize/2\n",
      "    for ctr, dim in zip(centers, 'xyz'):\n",
      "        getattr(ax, 'set_{}lim'.format(dim))(ctr - r, ctr + r)"
     ],
     "language": "python",
     "metadata": {},
     "outputs": []
    },
    {
     "cell_type": "code",
     "collapsed": false,
     "input": [
      "# get all files\n",
      "def loadFiles(folderPath,filePathRegex):\n",
      "    files = [ os.path.join(folderPath,f) for f in os.listdir(folderPath) if os.path.isfile( os.path.join(folderPath,f) ) ]\n",
      "    filePaths=dict();\n",
      "    for f in files:\n",
      "        res = re.match(filePathRegex,f)\n",
      "        if(res):\n",
      "            fileNr = res.group(1);\n",
      "            filePaths[int(fileNr)] = f;\n",
      "    return filePaths;"
     ],
     "language": "python",
     "metadata": {},
     "outputs": []
    },
    {
     "cell_type": "code",
     "collapsed": false,
     "input": [
      "plt.close(\"all\")\n",
      "fig = plt.figure(\"MinAreaRectangleTest\",(10,10))\n",
      "ax = fig.gca();\n",
      "plotAxis2d(ax,np.array([1,1]),np.array([1,0]),np.array([0,1]));"
     ],
     "language": "python",
     "metadata": {},
     "outputs": []
    },
    {
     "cell_type": "markdown",
     "metadata": {},
     "source": [
      "Convex Hull Tests\n",
      "================="
     ]
    },
    {
     "cell_type": "code",
     "collapsed": false,
     "input": [
      "plt.close(\"all\")\n",
      "\n",
      "files = loadFiles(\"./\" , \".*ConvexHullTest(\\d+)\\.bin\");\n",
      "filesOut = loadFiles(\"./\" , \".*ConvexHullTest(\\d+)Out\\.bin\");\n",
      "\n",
      "for i,f in files.items():\n",
      "\n",
      "    fOut = filesOut[i]; print(i,f,fOut)\n",
      "    fig = plt.figure(\"ConvexHullTest\"+str(i),(10,10))\n",
      "    \n",
      "    points = np.fromfile(f,dtype=np.float64); points=np.reshape(points,(-1,2)) \n",
      "    hullP =  np.fromfile(fOut,dtype=np.float64); hullP=np.reshape(hullP,(-1,2))\n",
      "\n",
      "    #hullP = np.vstack((hullP,hullP[0]))\n",
      "    plt.plot(hullP.T[0],hullP.T[1],'b-o', ms=20, markerfacecolor='None')\n",
      "    \n",
      "    plt.scatter(points.T[0],points.T[1],c='r')\n",
      "    if(len(points)<300):\n",
      "        nrRange = [(i,p[0],p[1])  for i,p in enumerate(points) ]\n",
      "        for x in nrRange:      \n",
      "            plt.annotate('%s' % x[0], xy=x[1:3], textcoords='offset points') # <--\n",
      "    \n",
      "#     if(len(hullP)<300):\n",
      "#         nrRange = [(i,p[0],p[1])  for i,p in enumerate(hullP) ]\n",
      "#         for x in nrRange:      \n",
      "#             plt.annotate('%s' % x[0], xy=x[1:3], textcoords='offset points') # <--\n"
     ],
     "language": "python",
     "metadata": {},
     "outputs": []
    },
    {
     "cell_type": "markdown",
     "metadata": {},
     "source": [
      "Min Area Rectangle Tests\n",
      "========================"
     ]
    },
    {
     "cell_type": "code",
     "collapsed": false,
     "input": [
      "plt.close(\"all\")\n",
      "\n",
      "files = loadFiles(\"./\" , \".*MinAreaRectangleTest(\\d+)\\.bin\");\n",
      "filesOut = loadFiles(\"./\" , \".*MinAreaRectangleTest(\\d+)Out\\.bin\");\n",
      "\n",
      "for i,f in files.items():\n",
      "    if(i==9): continue # skip test 9, it is empty!\n",
      "    fOut = filesOut[i]; print(i,f,fOut)\n",
      "    fig = plt.figure(\"MinAreaRectangleTest\"+str(i),(10,10))\n",
      "    ax = fig.gca();\n",
      "    \n",
      "    points = np.fromfile(f,dtype=np.float64); points=np.reshape(points,(-1,2)) \n",
      "    rectData =  np.fromfile(fOut,dtype=np.float64); rectData=np.reshape(rectData,(-1,2))\n",
      "    \n",
      "    rect = rectData[0:5,]\n",
      "    axis = rectData[5:,]\n",
      "    print(axis)\n",
      "    plt.plot(rect.T[0],rect.T[1],'r-', ms=20, markerfacecolor='None')\n",
      "    \n",
      "    plotAxis2d(ax,rect[0],axis[0],axis[1]);\n",
      "    \n",
      "    if(i!=12):\n",
      "        plt.scatter(points.T[0],points.T[1])\n",
      "    \n",
      "    plt.axis('equal')"
     ],
     "language": "python",
     "metadata": {},
     "outputs": []
    },
    {
     "cell_type": "markdown",
     "metadata": {},
     "source": [
      "Diameter MVBB Tests\n",
      "========================"
     ]
    },
    {
     "cell_type": "code",
     "collapsed": false,
     "input": [
      "plt.close(\"all\")"
     ],
     "language": "python",
     "metadata": {},
     "outputs": []
    },
    {
     "cell_type": "code",
     "collapsed": false,
     "input": [
      "plt.close(\"all\")\n",
      "\n",
      "files = loadFiles(\"./\" , \".*DiameterTest(\\d+)\\.bin\");\n",
      "filesOut = loadFiles(\"./\" , \".*DiameterTest(\\d+)Out\\.txt\");\n",
      "filesOut2 = loadFiles(\"./\" , \".*DiameterTest(\\d+)Out2\\.bin\");\n",
      "\n",
      "for i,f in files.items():\n",
      "    if(i==9): continue # skip test 9, it is empty!\n",
      "    fOut = filesOut[i]; fOut2 = filesOut2[i]; print(i,f,fOut,fOut2)\n",
      "    fig = plt.figure(\"DiameterTest\"+str(i),(10,10))\n",
      "    \n",
      "    points = np.fromfile(f,dtype=np.float64); points=np.reshape(points,(-1,3)) \n",
      "    OOBB = np.atleast_2d(np.loadtxt(fOut));\n",
      "    sampled = np.fromfile(fOut2,dtype=np.float64); sampled=np.reshape(sampled,(-1,3)) \n",
      "\n",
      "    K_min = OOBB[0,0:3]\n",
      "    K_max = OOBB[1,0:3]\n",
      "    A_IK = OOBB[2:,0:3]\n",
      "    center = np.zeros((3,));\n",
      "    #print(A_IK,K_min,K_max,center)\n",
      "\n",
      "    ax = Axes3D(fig)\n",
      "    ax.scatter(points.T[0],points.T[1],points.T[2],c='b')\n",
      "    ax.scatter(sampled.T[0],sampled.T[1],sampled.T[2],c='r', marker='o', s=200)\n",
      "    plotCube(ax,K_min,K_max,center,A_IK) # A_IK = R_KI (rotation from I to K)\n",
      "    plotAxis(ax,center,A_IK,1)\n",
      "    plotAxis(ax,center,np.identity(3),0.5)\n",
      "    axisEqual3D(ax)"
     ],
     "language": "python",
     "metadata": {},
     "outputs": []
    },
    {
     "cell_type": "markdown",
     "metadata": {},
     "source": [
      "MVBB Tests\n",
      "========================"
     ]
    },
    {
     "cell_type": "code",
     "collapsed": false,
     "input": [
      "plt.close(\"all\")"
     ],
     "language": "python",
     "metadata": {},
     "outputs": []
    },
    {
     "cell_type": "code",
     "collapsed": false,
     "input": [
      "plt.close(\"all\")\n",
      "\n",
      "files = loadFiles(\"./\" , \".*MVBBTest(\\d+)\\.bin\");\n",
      "filesOut = loadFiles(\"./\" , \".*MVBBTest(\\d+)Out\\.txt\");\n",
      "\n",
      "for i,f in files.items():\n",
      "    if(i==9): continue # skip test 9, it is empty!\n",
      "    fOut = filesOut[i]; print(i,f,fOut);\n",
      "    fig = plt.figure(\"MVBBTest\" + str(i),(10,10))\n",
      "    \n",
      "    points = np.fromfile(f,dtype=np.float64); points=np.reshape(points,(-1,3)) \n",
      "    OOBB = np.atleast_2d(np.loadtxt(fOut));\n",
      "\n",
      "    K_min = OOBB[0,0:3]\n",
      "    K_max = OOBB[1,0:3]\n",
      "    A_IK = OOBB[2:,0:3]\n",
      "    center = np.zeros((3,));\n",
      "    print(A_IK,K_min,K_max,center)\n",
      "    \n",
      "    ax = Axes3D(fig)\n",
      "    if(len(points) < 10000):\n",
      "        ax.scatter(points.T[0],points.T[1],points.T[2],c='b')\n",
      "    plotCube(ax,K_min,K_max,center,A_IK) # A_IK = R_KI (rotation from I to K)\n",
      "    plotAxis(ax,center,A_IK,1)\n",
      "    plotAxis(ax,center,np.identity(3),0.5)\n",
      "    axisEqual3D(ax)"
     ],
     "language": "python",
     "metadata": {},
     "outputs": []
    },
    {
     "cell_type": "code",
     "collapsed": false,
     "input": [],
     "language": "python",
     "metadata": {},
     "outputs": []
    }
   ],
   "metadata": {}
  }
 ]
}
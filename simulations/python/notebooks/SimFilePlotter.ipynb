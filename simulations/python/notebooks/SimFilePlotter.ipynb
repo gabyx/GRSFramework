{
 "cells": [
  {
   "cell_type": "markdown",
   "metadata": {},
   "source": [
    "# Plot Simfile and SimulationData"
   ]
  },
  {
   "cell_type": "code",
   "execution_count": 1,
   "metadata": {
    "_draft": {
     "init_cell": true
    },
    "collapsed": false
   },
   "outputs": [],
   "source": [
    "import sys,os\n",
    "\n",
    "import numpy as np\n",
    "import matplotlib as mpl\n",
    "import matplotlib.cm as cm\n",
    "import matplotlib.pyplot as plt\n",
    "import matplotlib.colors as colors\n",
    "import matplotlib.cm as cmx\n",
    "\n",
    "#this works apparently only for savefig stuff\n",
    "mpl.rcParams['figure.figsize']=(6.0,4.0)    #(6.0,4.0)\n",
    "mpl.rcParams['font.size']=10                #10 \n",
    "mpl.rcParams['savefig.dpi']=400             #72 \n",
    "mpl.rcParams['figure.subplot.bottom']=.1    #.125\n",
    "\n",
    "\n",
    "plt.rc('font', family='serif')\n",
    "plt.rc('text', usetex=True)\n",
    "\n",
    "#inline Shit\n",
    "%matplotlib inline\n",
    "%config InlineBackend.figure_format='svg'\n",
    "%config InlineBackend.rc = {'figure.facecolor': 'white', 'figure.subplot.bottom': 0.125, 'figure.edgecolor': 'white', 'savefig.dpi': 400, 'figure.figsize': (12.0, 8.0), 'font.size': 10}\n",
    "\n",
    "#GUi shit\n",
    "%matplotlib tk\n",
    "\n",
    "mpl.get_configdir()\n",
    "\n",
    "%load_ext autoreload\n",
    "%autoreload 2\n",
    "# Import General Packages from me\n",
    "from Tools.Parsers import *\n",
    "from Tools.BoundingBox import *\n"
   ]
  },
  {
   "cell_type": "markdown",
   "metadata": {},
   "source": [
    "### Plot all Bodies"
   ]
  },
  {
   "cell_type": "code",
   "execution_count": 2,
   "metadata": {
    "_draft": {
     "init_cell": true
    },
    "collapsed": false
   },
   "outputs": [],
   "source": [
    "#plt.close('all')\n",
    "def plotBodies(simFile, timeRange, bodyRange):\n",
    "    \n",
    "    dynState = SimFileReader.ReadInSimFile( simFile ,timeRange,bodyRange,True)\n",
    "    print(dynState);\n",
    "    \n",
    "    fig, (ax0,ax1) = plt.subplots(nrows = 2);\n",
    "    fig.canvas.set_window_title(\"SimState: \" + simFile);\n",
    "    n = len(dynState.bodies)\n",
    "    jet = plt.get_cmap('jet') \n",
    "    cNorm  = colors.Normalize(vmin=0, vmax=n)\n",
    "    scalarMap = cm.ScalarMappable(norm=cNorm, cmap=jet)\n",
    "    \n",
    "    plotOpts={'marker':'.' }\n",
    "    \n",
    "    # Position\n",
    "    for i,body  in dynState.bodies.items():             \n",
    "        ax0.plot(dynState.t, body[0][:,0:3], color= scalarMap.to_rgba(i),**plotOpts);\n",
    "        ax1.plot(dynState.t, body[0][:,3:7], color= scalarMap.to_rgba(i),**plotOpts);\n",
    "    \n",
    "    \n",
    "    \n",
    "    ax0.grid(True)\n",
    "    ax0.set_title('Position');\n",
    "    ax0.set_ylabel(r'\\mathbf{r}_S(t)');\n",
    "    ax0.set_ymargin(0.2)\n",
    "    ax0.autoscale(True,'both',False)\n",
    "    \n",
    "    ax1.grid(True)\n",
    "    ax1.set_title('Quaternion');\n",
    "    ax1.set_ylabel(r'\\mathbf{a}_{KI}(t)');\n",
    "    ax1.set_ymargin(0.2)\n",
    "    ax1.autoscale(True,'both',False)\n",
    "    \n",
    "    \n",
    "    # Velocity\n",
    "    fig2, (ax20,ax21) = plt.subplots(nrows = 2);\n",
    "    fig2.canvas.set_window_title(\"SimState: \" + simFile);\n",
    "    for i,body  in dynState.bodies.items():               \n",
    "        ax20.plot(dynState.t, body[1][:,0:3], color= scalarMap.to_rgba(i),**plotOpts);\n",
    "        ax21.plot(dynState.t, body[1][:,3:6], color= scalarMap.to_rgba(i),**plotOpts);\n",
    "    \n",
    "    ax20.grid(True)\n",
    "    ax20.set_title('Velocity');\n",
    "    ax20.set_ylabel(r'\\mathbf{v}_S(t)');\n",
    "    ax20.set_xmargin(0.0)\n",
    "    ax20.set_ymargin(0.1)\n",
    "    \n",
    "    ax21.grid(True)\n",
    "    ax21.set_title('Angular Velocity');\n",
    "    ax21.set_ylabel(r'\\mathbf{\\omega}_{KI}(t)');\n",
    "    ax21.set_xmargin(0.0)\n",
    "    ax21.set_ymargin(0.1)"
   ]
  },
  {
   "cell_type": "markdown",
   "metadata": {},
   "source": [
    "### Plot Simulation Data"
   ]
  },
  {
   "cell_type": "code",
   "execution_count": 3,
   "metadata": {
    "_draft": {
     "init_cell": true
    },
    "collapsed": false
   },
   "outputs": [],
   "source": [
    "\n",
    "\n",
    "def plotData(simDataFile):\n",
    "    # Plot SimulationData.dat\n",
    "    import csv, re;\n",
    "    \n",
    "    SimData= SimFileReader.ReadInSimDataFile(simDataFile);\n",
    "    \n",
    "    # Plot stuff\n",
    "    fig, axarr = plt.subplots(2,3, sharex=True)\n",
    "    fig.canvas.set_window_title(\"SimData: \" + simDataFile);\n",
    "    for t in axarr.reshape(-1): # reshape to make a linear array (numpy) to iterate over!\n",
    "        t.margins(0.03)\n",
    "        \n",
    "    #Energy\n",
    "    i=0;j=0;\n",
    "    axarr[i,j].plot(SimData['SimulationTime'],SimData['TotalStateEnergy'],'b.-');\n",
    "    axarr[i,j].set_title('Energy')\n",
    "    #axarr[i,j].set_xlabel('time [s]');\n",
    "    axarr[i,j].set_ylabel('T+V [J]');\n",
    "    axarr[i,j].set_xlim((SimData['SimulationTime'][0],SimData['SimulationTime'][-1]))\n",
    "    \n",
    "    #Iterations\n",
    "    i=0;j=1;\n",
    "    axarr[i,j].plot(SimData['SimulationTime'],SimData['nGlobalIterations'],'b.');\n",
    "    axarr[i,j].set_title('Iterations Prox')\n",
    "    #axarr[i,j].set_xlabel('time [s]');\n",
    "    axarr[i,j].set_ylabel('\\# iterations');\n",
    "    \n",
    "    #Convergence\n",
    "    i=0;j=2;\n",
    "    axarr[i,j].plot(SimData['SimulationTime'],SimData['Converged'],'b.');\n",
    "    axarr[i,j].set_title('Prox Converged')\n",
    "    #axarr[i,j].set_xlabel('time [s]');\n",
    "    axarr[i,j].set_ylabel('converged [0,1]');\n",
    "    \n",
    "    #Contacts Number\n",
    "    i=1;j=0;\n",
    "    axarr[i,j].set_title('Number of Contacts')\n",
    "    axarr[i,j].plot(SimData['SimulationTime'],SimData['nContacts'],'b.');\n",
    "    #axarr[i,j].set_xlabel('time [s]');\n",
    "    axarr[i,j].set_ylabel('\\# contacts');\n",
    "    \n",
    "    #TimeStep Time\n",
    "    i=1;j=1;\n",
    "    axarr[i,j].set_title('Time-Step time')\n",
    "    axarr[i,j].plot(SimData['SimulationTime'],SimData['TimeStepTime'],'b.');\n",
    "    #axarr[i,j].set_xlabel('time [s]');\n",
    "    axarr[i,j].set_ylabel('[s]');\n",
    "    \n",
    "    #MaxOverlap\n",
    "    i=1;j=2;\n",
    "    axarr[i,j].set_title('MaxOverlap')\n",
    "    axarr[i,j].plot(SimData['SimulationTime'],SimData['MaxOverlap'],'b-');\n",
    "    #axarr[i,j].set_xlabel('time [s]');\n",
    "    axarr[i,j].set_ylabel('[m]');\n",
    "    fig.tight_layout()\n",
    "    \n",
    "    \n",
    "    fig, axarr = plt.subplots(1,1, sharex=True)\n",
    "    axarr.plot(SimData['SimulationTime'],SimData['PercussionPoolUsage'],'b-');\n",
    "    \n",
    "def plotDataIteration(simDataIterationFile,dataRange=[0,1e5],steps=100, plotOpts={'color':'r','marker':'.' }):\n",
    "    \n",
    "    simDataIteration = SimFileReader.ReadInSimDataIterationFile(simDataIterationFile)\n",
    "    \n",
    "    fig =  plt.figure();\n",
    "    fig.canvas.set_window_title(\"SimDataIteration: \"  + simDataIterationFile);\n",
    "    \n",
    "    plt.xlabel('Iteration (without minIter)')\n",
    "    plt.ylabel('Residual \\\\| x^{k+1} -x^k\\\\| - \\\\|x^k\\\\| Tol_{rel} - Tol_{abs}')\n",
    "    \n",
    "    #plot first residual\n",
    "    for i  in range(len(simDataIteration)):\n",
    "        dR = dataRange.copy();\n",
    "        #print('DataRange:', dR)\n",
    "        iterationDataTime = np.atleast_1d(simDataIteration[i]);\n",
    "        #print(iterationDataTime, np.shape(iterationDataTime)[0])\n",
    "        #clamp\n",
    "        dR[0] = min(np.shape(iterationDataTime)[0]-1, max(0,dR[0]) )\n",
    "        dR[1] = max(dR[0],min(np.shape(iterationDataTime)[0]-1,dR[1]))\n",
    "        #print('DataRange:', dR)\n",
    "        \n",
    "        nth = int((dR[1]-dR[0]) / steps);\n",
    "        if(nth<=1.0):\n",
    "            nth = 1;\n",
    "        iterationCounter = np.arange(dR[0],dR[1]+1,nth,dtype=int)\n",
    "        #print(iterationCounter)\n",
    "        #print(\"Orig. Iterations: \", np.shape(iterationDataTime))\n",
    "       \n",
    "            \n",
    "        #iterationDataTime2 = iterationDataTime[dataRange[0]:dataRange[1]:nth]\n",
    "        #print(\"Clamped Iterations: \", np.shape(iterationCounter))\n",
    "        plt.semilogy(iterationCounter,iterationDataTime[iterationCounter],**plotOpts)\n",
    "        "
   ]
  },
  {
   "cell_type": "markdown",
   "metadata": {},
   "source": [
    "### Load the Simfile"
   ]
  },
  {
   "cell_type": "code",
   "execution_count": 79,
   "metadata": {
    "collapsed": false
   },
   "outputs": [],
   "source": [
    "plt.close('all')"
   ]
  },
  {
   "cell_type": "code",
   "execution_count": 13,
   "metadata": {
    "collapsed": false
   },
   "outputs": [
    {
     "name": "stdout",
     "output_type": "stream",
     "text": [
      "DynamicsState id:139713109376808\n",
      "nSimBodies: 1\n",
      "minTime: 0.0\n",
      "maxTime: 1.0001\n",
      "body ids: [0]\n",
      "Header is  ['# GlobalTime [s]', 'SimulationTime [s]', 'TimeStepTime [s]', 'CollisionTime [s]', 'InclusionTime [s]', 'AvgIterTime [s]', 'nSimBodies', 'MaxOverlap [m]', 'GPUUsed', 'nContacts', 'nGlobalIterations', 'Converged', 'IsFinite', 'TotalTimeProx [s]', 'IterTimeProx [s]', 'TotalStateEnergy [J]', 'TotalKinEnergy [J]', 'TotalRotKinEnergy [J]', 'TotalSpinNorm [Nms]', 'PrecussionPoolSize', 'PercussionPoolUsage [%]']\n",
      "columnNames:  ['GlobalTime', 'SimulationTime', 'TimeStepTime', 'CollisionTime', 'InclusionTime', 'AvgIterTime', 'nSimBodies', 'MaxOverlap', 'GPUUsed', 'nContacts', 'nGlobalIterations', 'Converged', 'IsFinite', 'TotalTimeProx', 'IterTimeProx', 'TotalStateEnergy', 'TotalKinEnergy', 'TotalRotKinEnergy', 'TotalSpinNorm', 'PrecussionPoolSize', 'PercussionPoolUsage']\n"
     ]
    }
   ],
   "source": [
    "\n",
    "scriptpath = \"./\"\n",
    "# Add the directory containing your module to the Python path (wants absolute paths)\n",
    "sys.path.append(os.path.abspath(scriptpath))\n",
    "\n",
    "bodyRange = [0,1]\n",
    "timeRange = [0,50]\n",
    "\n",
    "\n",
    "folderNumber=7\n",
    "folderPath = \"../SimFiles/SimDataRECORDGUI_%d/\" % folderNumber\n",
    "#folderPath = \"SimData_7500Test/Test19/\"\n",
    "\n",
    "\n",
    "simFile = folderPath + \"SimState.sim\";\n",
    "simDataFile = folderPath + \"SimData.dat\";\n",
    "simDataIterationFile = folderPath + \"SimDataIteration.dat\";\n",
    "\n",
    "## SIMFILE\n",
    "plotBodies(simFile,timeRange,bodyRange)\n",
    "\n",
    "\n",
    "## SIMDATA\n",
    "plotData(simDataFile);\n",
    "\n",
    "\n",
    "## SIMDATAITERATION\n",
    "# pltOpt = {'marker':'.', 'markersize': 2,'markeredgewidth': 2, 'linewidth':0.4}\n",
    "#pltOpt['label']=r'\\alpha=0.5, T0'\n",
    "# plotDataIteration(simDataIterationFile,dataRange=[0,50000],steps=50000,plotOpts=pltOpt);\n",
    "# plt.gcf().tight_layout()\n",
    "# plt.gcf().canvas.draw()"
   ]
  },
  {
   "cell_type": "code",
   "execution_count": null,
   "metadata": {
    "collapsed": false
   },
   "outputs": [],
   "source": [
    "# print(dynState.t[205])\n",
    "# print(\"q1:\", dynState.bodies[0][0][205])\n",
    "# print(\"u1:\", dynState.bodies[0][1][205])\n",
    "\n",
    "# print(\"q2:\", dynState.bodies[1][0][205])\n",
    "# print(\"u2:\", dynState.bodies[1][1][205])\n",
    "\n",
    "# print(\"q3:\", dynState.bodies[2][0][205])\n",
    "# print(\"u3:\", dynState.bodies[2][1][205])\n",
    "\n",
    "# print(\"q4:\", dynState.bodies[3][0][205])\n",
    "# print(\"u4:\", dynState.bodies[3][1][205])"
   ]
  },
  {
   "cell_type": "code",
   "execution_count": 2,
   "metadata": {
    "collapsed": false
   },
   "outputs": [
    {
     "name": "stdout",
     "output_type": "stream",
     "text": [
      "Read in SimFile at: /media/zfmgpu/Data/GabrielNuetzi/SimFiles/SimFilesBrutus/Avalanche/first/SimStateResampled.sim\n",
      "--> File has: 4978.180644989014 mb\n",
      "--> SimFile signature: b'MBSF' found\n",
      "--> SimFile version: 2\n",
      "--> nSimBodies: 500000\n",
      "--> nDofqObj: 7\n",
      "--> nDofuObj: 6\n",
      "--> Add. Bytes Type: 1\n",
      "--> Add. Bytes Per Body: 4\n",
      "--> nBytesHeader: 28\n",
      "--> nBytesBodyState: 116\n",
      "--> nBytesState: 58000008\n",
      "--> nStates: 90\n",
      "--> nAdditionalWrongBytes: 0\n",
      "--> minTime: 0.0\n",
      "--> maxTime: 0.8900000000000007\n",
      "Filtering Simfile: t = [0,0.8900000000000007]\n",
      "--> readNStates: 90\n",
      "--> Time t: [ 0.    0.01  0.02  0.03  0.04  0.05  0.06  0.07  0.08  0.09  0.1   0.11\n",
      "  0.12  0.13  0.14  0.15  0.16  0.17  0.18  0.19  0.2   0.21  0.22  0.23\n",
      "  0.24  0.25  0.26  0.27  0.28  0.29  0.3   0.31  0.32  0.33  0.34  0.35\n",
      "  0.36  0.37  0.38  0.39  0.4   0.41  0.42  0.43  0.44  0.45  0.46  0.47\n",
      "  0.48  0.49  0.5   0.51  0.52  0.53  0.54  0.55  0.56  0.57  0.58  0.59\n",
      "  0.6   0.61  0.62  0.63  0.64  0.65  0.66  0.67  0.68  0.69  0.7   0.71\n",
      "  0.72  0.73  0.74  0.75  0.76  0.77  0.78  0.79  0.8   0.81  0.82  0.83\n",
      "  0.84  0.85  0.86  0.87  0.88  0.89]\n",
      "--> BodyIds: min/max  0 1\n",
      "--> Number of BodyIds:  2\n"
     ]
    }
   ],
   "source": [
    "\n",
    "#dynState = ReadInSimFile( \"../SimFiles/SimDataRECORDMPI_0/SimState.sim\" ,[0,0.001],[0,1],False)\n",
    "dynState = ReadInSimFile( \"/media/zfmgpu/Data/GabrielNuetzi/SimFiles/SimFilesBrutus/Avalanche/first/SimStateResampled.sim\" ,[0,5],[0,1],False)\n",
    "\n",
    "#dynState = ReadInSimFile( \"../SimFiles/SimDataRECORDGUI_4/SimState.sim\" ,[0,50],[0,50],False)\n",
    "# dynState = ReadInSimFile( \"../SimFilesBrutus/Test40000/SimState.sim\" ,[0,2],[0,10],False)\n",
    "\n",
    "#plotBodies(dynState)\n",
    "#dynState.bodies[0][0][48,:]"
   ]
  },
  {
   "cell_type": "code",
   "execution_count": 6,
   "metadata": {
    "collapsed": false
   },
   "outputs": [
    {
     "name": "stdout",
     "output_type": "stream",
     "text": [
      "Read in SimFile at: /home/zfmgpu/Desktop/Repository/SimulationFramework/SourceCode/Projects/SimulationFramework/Simulations/SimStateTestEnd.sim\n",
      "--> File has: 125.88504409790039 mb\n",
      "--> SimFile signature: b'MBSF' found\n",
      "--> SimFile version: 2\n",
      "--> nSimBodies: 1000000\n",
      "--> nDofqObj: 7\n",
      "--> nDofuObj: 6\n",
      "--> Add. Bytes Type: 5\n",
      "--> Add. Bytes Per Body: 20\n",
      "--> nBytesHeader: 28\n",
      "--> nBytesBodyState: 132\n",
      "--> nBytesState: 132000008\n",
      "--> nStates: 1\n",
      "--> nAdditionalWrongBytes: 0\n",
      "--> minTime: 0.7019999999999553\n",
      "--> maxTime: 0.7019999999999553\n",
      "Filtering Simfile: t = [0.7019999999999553, 0.7019999999999553]\n",
      "--> readNStates: 1\n",
      "--> Time t: [ 0.702]\n",
      "--> BodyIds: min/max  0 999999\n",
      "--> Number of BodyIds:  1000000\n"
     ]
    }
   ],
   "source": [
    "bodyRange = [0,1000000]\n",
    "timeRange = [0,10]\n",
    "\n",
    "#dynState = ReadInSimFile( \"../SimFiles/SimDataRECORDMPI_0/SimState.sim\" ,[0,0.001],[0,1],False)\n",
    "f = \"/home/zfmgpu/Desktop/Repository/SimulationFramework/SourceCode/Projects/SimulationFramework/Simulations/SimStateTestEnd.sim\"\n",
    "dynState = SimFileReader.ReadInSimFile(f ,timeRange,bodyRange,False)\n"
   ]
  },
  {
   "cell_type": "code",
   "execution_count": 7,
   "metadata": {
    "collapsed": false
   },
   "outputs": [],
   "source": [
    "normMax = 0\n",
    "for b in dynState.bodies.values():\n",
    "    normMax = max( normMax, np.linalg.norm(b.u[0,0:3]) )"
   ]
  },
  {
   "cell_type": "code",
   "execution_count": 14,
   "metadata": {
    "collapsed": false
   },
   "outputs": [
    {
     "data": {
      "text/plain": [
       "0.4515236409857309"
      ]
     },
     "execution_count": 14,
     "metadata": {},
     "output_type": "execute_result"
    }
   ],
   "source": [
    "import math\n",
    "\n",
    "math.sqrt(2*(1)/9.81)"
   ]
  },
  {
   "cell_type": "code",
   "execution_count": null,
   "metadata": {
    "collapsed": true
   },
   "outputs": [],
   "source": []
  }
 ],
 "metadata": {
  "celltoolbar": "Initialisation Cell",
  "kernelspec": {
   "display_name": "Python 3",
   "language": "python",
   "name": "python3"
  },
  "language_info": {
   "codemirror_mode": {
    "name": "ipython",
    "version": 3
   },
   "file_extension": ".py",
   "mimetype": "text/x-python",
   "name": "python",
   "nbconvert_exporter": "python",
   "pygments_lexer": "ipython3",
   "version": "3.4.0"
  }
 },
 "nbformat": 4,
 "nbformat_minor": 0
}

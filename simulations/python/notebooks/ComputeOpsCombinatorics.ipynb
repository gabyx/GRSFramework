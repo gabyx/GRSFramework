{
 "metadata": {
  "name": "",
  "signature": "sha256:1e4f9ab19a7d75bd7c9f64a5a099c600d84f96bad99c0356f7ec99338573ca20"
 },
 "nbformat": 3,
 "nbformat_minor": 0,
 "worksheets": [
  {
   "cells": [
    {
     "cell_type": "code",
     "collapsed": false,
     "input": [
      "import operator;\n",
      "\n",
      "nGlobalList = list(range(1,7));\n",
      "print(nGlobalList)\n",
      "opStrings = [\"+\",\"-\",\"/\",\"*\"]\n",
      "\n",
      "def minus(a,b):\n",
      "    return a-b;\n",
      "\n",
      "ops = [operator.add, minus,operator.truediv,operator.mul]\n",
      "nOPs = len(ops)\n"
     ],
     "language": "python",
     "metadata": {},
     "outputs": [
      {
       "output_type": "stream",
       "stream": "stdout",
       "text": [
        "[1, 2, 3, 4, 5, 6]\n"
       ]
      }
     ],
     "prompt_number": 7
    },
    {
     "cell_type": "code",
     "collapsed": false,
     "input": [
      "stringList = [str(i) for i in nGlobalList];\n",
      "resList = [];\n",
      "computeBinaryOperator(nGlobalList,stringList,\"\",resList)\n",
      "print(len(resList))"
     ],
     "language": "python",
     "metadata": {},
     "outputs": []
    },
    {
     "cell_type": "code",
     "collapsed": false,
     "input": [
      "nCombs = 0;\n",
      "def computeBinaryOperator(nList,nStringList, depthString, resList ):\n",
      "        depthString+=\" \"\n",
      "        \n",
      "        listSize = len(nList);\n",
      "        if(listSize == 1):\n",
      "            print(nStringList[0], \"result: \",nList[0])\n",
      "            resList.append((nStringList[0],nList[0]));\n",
      "        \n",
      "        #print(depthString,nStringList,nList)\n",
      "        for i in range(0,listSize):\n",
      "            #choose first number in 1:listSize-1\n",
      "            x = nList[i];\n",
      "            xStr = nStringList[i];\n",
      "            \n",
      "            for j in range(1,listSize):\n",
      "                #choose second number\n",
      "                k = (j+i)%listSize;\n",
      "                y = nList[k];\n",
      "                yStr = nStringList[k];\n",
      "                \n",
      "                # apply operator\n",
      "                for oIdx in range(0,nOPs):\n",
      "                    try:\n",
      "                        res = ops[oIdx](x,y); # result is always at beginning of the new list\n",
      "                    except:\n",
      "                        res = float(\"Inf\");\n",
      "                        \n",
      "                    resString = \"(\" + xStr + opStrings[oIdx] + yStr +\")\";\n",
      "                    \n",
      "                    # call recursion with new list (otherwise call by reference,notg good\n",
      "                    nListNew = nList.copy();\n",
      "                    nStringListNew = nStringList.copy();\n",
      "                    \n",
      "                    #Overwrite choosen x\n",
      "                    nListNew[i] = res; # put result at position i\n",
      "                    nStringListNew[i] = resString;\n",
      "                    # remove choosen element y\n",
      "                    nListNew.pop(k); nStringListNew.pop(k);  \n",
      "                    computeBinaryOperator(nListNew,nStringListNew,depthString,resList);\n",
      "\n",
      "                "
     ],
     "language": "python",
     "metadata": {},
     "outputs": [],
     "prompt_number": 6
    },
    {
     "cell_type": "code",
     "collapsed": false,
     "input": [
      "nCombs = 0;\n",
      "def computeBinaryOperator2(nList,resList):\n",
      "        listSize = len(nList);\n",
      "        if(listSize == 1):\n",
      "            resList.append(nList[0]);\n",
      "        \n",
      "        #print(depthString,nStringList,nList)\n",
      "        for i in range(0,listSize):\n",
      "            #choose first number in 1:listSize-1\n",
      "            x = nList[i];\n",
      "            \n",
      "            for j in range(1,listSize):\n",
      "                #choose second number\n",
      "                k = (j+i)%listSize;\n",
      "                y = nList[k];\n",
      "                \n",
      "                # apply operator\n",
      "                for oIdx in range(0,nOPs):\n",
      "                    try:\n",
      "                        res = ops[oIdx](x,y); # result is always at beginning of the new list\n",
      "                    except:\n",
      "                        res = float(\"Inf\");\n",
      "  \n",
      "                    # call recursion with new list (otherwise call by reference,notg good\n",
      "                    nListNew = nList.copy();\n",
      "                    #Overwrite choosen x\n",
      "                    nListNew[i] = res; # put result at position i\n",
      "                    # remove choosen element y\n",
      "                    nListNew.pop(k); \n",
      "                    computeBinaryOperator2(nListNew,resList);\n"
     ],
     "language": "python",
     "metadata": {},
     "outputs": [],
     "prompt_number": 4
    },
    {
     "cell_type": "code",
     "collapsed": false,
     "input": [
      "resList = [];\n",
      "computeBinaryOperator2(nGlobalList,resList)\n",
      "print(len(resList))"
     ],
     "language": "python",
     "metadata": {},
     "outputs": [
      {
       "output_type": "stream",
       "stream": "stdout",
       "text": [
        "737280\n"
       ]
      }
     ],
     "prompt_number": 6
    },
    {
     "cell_type": "code",
     "collapsed": false,
     "input": [],
     "language": "python",
     "metadata": {},
     "outputs": []
    }
   ],
   "metadata": {}
  }
 ]
}
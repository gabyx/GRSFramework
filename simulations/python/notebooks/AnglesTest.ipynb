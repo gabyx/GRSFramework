{
 "metadata": {
  "name": "",
  "signature": "sha256:5e963ebc67f84887e3bfc5d748728f064f2bbd8e70d515240ba98a0c997ce91f"
 },
 "nbformat": 3,
 "nbformat_minor": 0,
 "worksheets": [
  {
   "cells": [
    {
     "cell_type": "code",
     "collapsed": false,
     "input": [
      "import sys,os\n",
      "\n",
      "import numpy as np\n",
      "import math as m\n",
      "import matplotlib as mpl\n",
      "import matplotlib.cm as cm\n",
      "import matplotlib.pyplot as plt\n",
      "import matplotlib.colors as colors\n",
      "\n",
      "#this works apparently only for savefig stuff\n",
      "mpl.rcParams['figure.figsize']=(16.0,8.0)    #(6.0,4.0)\n",
      "mpl.rcParams['font.size']=12                #10 \n",
      "mpl.rcParams['savefig.dpi']=100             #72 \n",
      "mpl.rcParams['figure.subplot.bottom']=.1    #.125\n",
      "mpl.rcParams['legend.numpoints'] = 1\n",
      "\n",
      "plt.rc('font', family='serif')\n",
      "plt.rc('text', usetex=True)\n",
      "\n",
      "#inline Shit\n",
      "%matplotlib inline\n",
      "%config InlineBackend.figure_format='svg'\n",
      "%config InlineBackend.rc = {'figure.facecolor': 'white', 'figure.subplot.bottom': 0.125, 'figure.edgecolor': 'white', 'savefig.dpi': 300, 'figure.figsize': (12.0, 8.0), 'font.size': 10}\n",
      "\n",
      "#GUi shit\n",
      "%matplotlib tk\n",
      "\n",
      "mpl.get_configdir()"
     ],
     "language": "python",
     "metadata": {},
     "outputs": [
      {
       "metadata": {},
       "output_type": "pyout",
       "prompt_number": 5,
       "text": [
        "'/home/zfmgpu/.config/matplotlib'"
       ]
      }
     ],
     "prompt_number": 5
    },
    {
     "cell_type": "code",
     "collapsed": false,
     "input": [
      "import numpy as np\n",
      "from fractions import Fraction\n",
      "\n",
      "\n",
      "\n",
      "def create_pi_labels(a, b, step):\n",
      "\n",
      "\n",
      "    max_denominator = int(1/step)\n",
      "    # i added this line and the .limit_denominator to solve an \n",
      "    # issue with floating point precision\n",
      "    # because of floataing point precision Fraction(1/3) would be \n",
      "    # Fraction(6004799503160661, 18014398509481984)\n",
      "\n",
      "    values = np.arange(a, b+step/10, step)\n",
      "    fracs = [Fraction(x).limit_denominator(max_denominator) for x in values]\n",
      "    ticks = values*np.pi\n",
      "\n",
      "    labels = []\n",
      "\n",
      "    for frac in fracs:\n",
      "        if frac.numerator==0:\n",
      "            labels.append(r\"$0$\")\n",
      "        elif frac.numerator<0:\n",
      "            if frac.denominator==1 and abs(frac.numerator)==1:\n",
      "                labels.append(r\"$-\\pi$\")\n",
      "            elif frac.denominator==1:\n",
      "                labels.append(r\"$-{}\\pi$\".format(abs(frac.numerator)))\n",
      "            else:\n",
      "                labels.append(r\"$-\\frac{{{}}}{{{}}} \\pi$\".format(abs(frac.numerator), frac.denominator))\n",
      "        else:\n",
      "            if frac.denominator==1 and frac.numerator==1:\n",
      "                labels.append(r\"$\\pi$\")\n",
      "            elif frac.denominator==1:\n",
      "                labels.append(r\"${}\\pi$\".format(frac.numerator))\n",
      "            else:\n",
      "                labels.append(r\"$\\frac{{{}}}{{{}}} \\pi$\".format(frac.numerator, frac.denominator))\n",
      "\n",
      "    return ticks, labels\n",
      "\n",
      "\n",
      "#Test of Angle functions\n",
      "\n",
      "def clampToPi(angle):\n",
      "    return angle - m.floor(angle/m.pi + 0.5)*m.pi\n",
      "\n",
      "clampToPiv = np.vectorize(clampToPi);\n",
      "\n",
      "def clampTo2Pi(angle):\n",
      "    k = m.trunc(angle/(2*m.pi));\n",
      "    rest = angle - 2*k*m.pi\n",
      "    return rest\n",
      "clampTo2Piv = np.vectorize(clampTo2Pi);\n",
      "\n",
      "def relativeAngle(a1,a2):\n",
      "    return clampToPi(a2-a1);\n",
      "\n",
      "def leftRight(angle):\n",
      "    k=m.floor(angle/m.pi)\n",
      "    if(k%2==0):\n",
      "        return 1 # left\n",
      "    else:\n",
      "        return 0 # right\n",
      "    \n",
      "    \n",
      "leftRightv = np.vectorize(leftRight);\n",
      "\n",
      "def leftColinear(angle):\n",
      "    k=m.floor(angle/m.pi)\n",
      "    r = angle - k*m.pi;\n",
      "    if(k%2==0 and r>=0.0):\n",
      "        return 1 # left\n",
      "    else:\n",
      "        if(r==0.0):\n",
      "            return 1\n",
      "        return 0 # right\n",
      "    \n",
      "leftColinearv = np.vectorize(leftColinear);\n",
      "\n",
      "def colinear(angle):\n",
      "    k=m.floor(angle/m.pi)\n",
      "    r = angle - k*m.pi;\n",
      "    if(abs(r)<=1e-3):\n",
      "        return 1;\n",
      "    return 0;\n",
      "colinearv = np.vectorize(colinear);\n",
      "\n",
      "\n",
      "\n",
      "def toDeg(a):\n",
      "    return a / m.pi*180;\n",
      "\n",
      "toDegv = np.vectorize(toDeg);"
     ],
     "language": "python",
     "metadata": {},
     "outputs": [],
     "prompt_number": 245
    },
    {
     "cell_type": "code",
     "collapsed": false,
     "input": [
      "clampToPi(0.4 + 10*2*m.pi - 0.6)"
     ],
     "language": "python",
     "metadata": {},
     "outputs": [
      {
       "metadata": {},
       "output_type": "pyout",
       "prompt_number": 243,
       "text": [
        "-0.20000000000000284"
       ]
      }
     ],
     "prompt_number": 243
    },
    {
     "cell_type": "code",
     "collapsed": false,
     "input": [
      "relativeAngle( m.pi-0.5 , 0.0 )"
     ],
     "language": "python",
     "metadata": {},
     "outputs": [
      {
       "metadata": {},
       "output_type": "pyout",
       "prompt_number": 266,
       "text": [
        "0.5"
       ]
      }
     ],
     "prompt_number": 266
    },
    {
     "cell_type": "code",
     "collapsed": false,
     "input": [
      "anglesRad = np.linspace(-m.pi*3,m.pi*3,1000);\n",
      "anglesDeg = toDegv(anglesRad)"
     ],
     "language": "python",
     "metadata": {},
     "outputs": [],
     "prompt_number": 228
    },
    {
     "cell_type": "code",
     "collapsed": false,
     "input": [
      "def relAngleTest(t):\n",
      "    a = m.pi-0.001;\n",
      "    return relativeAngle( a + t, 0.0 + t)\n",
      "relAngleTestv = np.vectorize(relAngleTest);"
     ],
     "language": "python",
     "metadata": {},
     "outputs": [],
     "prompt_number": 262
    },
    {
     "cell_type": "code",
     "collapsed": false,
     "input": [
      "y =clampToPiv(anglesRad);\n",
      "plt.plot(anglesDeg,toDegv(y),'.')\n",
      "\n",
      "y =relAngleTestv(anglesRad);\n",
      "plt.plot(anglesDeg,toDegv(y),'.')\n",
      "\n",
      "# y=leftColinearv(anglesRad)\n",
      "# plt.plot(anglesDeg,toDegv(y),'o')\n",
      "# y=leftRightv(anglesRad)\n",
      "# plt.plot(anglesDeg,toDegv(y),'.')\n",
      "# plt.grid(True)\n",
      "\n",
      "# plt.figure()\n",
      "# y = clampTo2Piv(anglesRad);\n",
      "# plt.plot(anglesDeg,toDegv(y),'.')\n",
      "# plt.grid(True)\n"
     ],
     "language": "python",
     "metadata": {},
     "outputs": [
      {
       "metadata": {},
       "output_type": "pyout",
       "prompt_number": 267,
       "text": [
        "[<matplotlib.lines.Line2D at 0x7f194a128d68>]"
       ]
      }
     ],
     "prompt_number": 267
    },
    {
     "cell_type": "code",
     "collapsed": false,
     "input": [
      "print(leftColinear(m.pi) == 1, leftColinear(9*m.pi) == 1, leftColinear(0) == 1)\n",
      "print(leftColinear(-m.pi) == 1, leftColinear(-10*m.pi) == 1, leftColinear(0) == 1)\n",
      "print(colinear(m.pi)==1,colinear(2*m.pi)==1,colinear(3*m.pi)==1,\n",
      "      colinear(-m.pi)==1,colinear(-2*m.pi)==1,colinear(-3*m.pi)==1)"
     ],
     "language": "python",
     "metadata": {},
     "outputs": [
      {
       "output_type": "stream",
       "stream": "stdout",
       "text": [
        "True True True\n",
        "True True True\n",
        "True True True True True True\n"
       ]
      }
     ],
     "prompt_number": 71
    },
    {
     "cell_type": "code",
     "collapsed": false,
     "input": [
      "m.trunc(-1.2)"
     ],
     "language": "python",
     "metadata": {},
     "outputs": [
      {
       "metadata": {},
       "output_type": "pyout",
       "prompt_number": 239,
       "text": [
        "-1"
       ]
      }
     ],
     "prompt_number": 239
    },
    {
     "cell_type": "code",
     "collapsed": false,
     "input": [
      "def intersectLines(p1,ang1,p2,ang2):\n",
      "    a = np.array([m.cos(ang1),m.sin(ang1)]);\n",
      "    b = np.array([m.cos(ang2),m.sin(ang2)]);\n",
      "    p = p1 - p2;\n",
      "    \n",
      "    nom = p[0]*b[1]-p[1]*b[0];\n",
      "    det = a[1]*b[0]-a[0]*b[1];\n",
      "    \n",
      "    if(det == 0.0):\n",
      "        if(abs(nom) < 1e-8 ): # if \n",
      "            return p1;\n",
      "        t = float('Inf')\n",
      "    else:\n",
      "        t = nom / (det)\n",
      "        \n",
      "    return t*a + p1;\n",
      " \n",
      "def intersectLines2(p1,ang1,p2,ang2):\n",
      "    c1 = colinear(ang1-m.pi/2);\n",
      "    c2 = colinear(ang2-m.pi/2);\n",
      "    a = m.tan(ang1);\n",
      "    c = m.tan(ang2);\n",
      "    b = p1[1] - a*p1[0];\n",
      "    d = p2[1] - c*p2[0];\n",
      "    x = 0;\n",
      "    if(c1 and not c2): # first collinear\n",
      "        print(\"first\")\n",
      "        x = p1[0];\n",
      "        y = a*x+b;\n",
      "    elif(c2 and not c1):  # second collinear\n",
      "        print(\"second\")\n",
      "        x = p2[0];\n",
      "        y = a*x+b;\n",
      "    elif(c1 and c2): # both collinear\n",
      "        print(\"both\")\n",
      "        if(abs(p1[0] - p2[0])<1e-3):\n",
      "            print(\"same x\")\n",
      "            x = p1[0];\n",
      "            y = a*x+b;\n",
      "        else:\n",
      "            x=float('inf')\n",
      "            y=float('inf')\n",
      "    else: # both not collinear\n",
      "        print(\"both not collinear\")\n",
      "        if(abs(clampTo2Pi(ang1-ang2))<1e-3):\n",
      "            print(\"angle the same\")\n",
      "            angle = m.atan2(p2[1]-p1[1],p2[0]-p1[0]);\n",
      "            if(angle<0.0):\n",
      "                angle += 2*m.pi;\n",
      "            print(\"angle:\",toDeg(angle))\n",
      "            print(toDeg(abs(clampTo2Pi(angle-ang1))))\n",
      "            if( abs(clampTo2Pi(angle-ang1))<1e-3 ):\n",
      "               print(\"lines the same\")\n",
      "               x=p1[0];\n",
      "               y = a*x+b;\n",
      "            else:\n",
      "               x=float('inf')\n",
      "               y=float('inf')\n",
      "        else:\n",
      "            print(\"normal case\")\n",
      "            x=(d-b)/(a-c);\n",
      "            y = a*x+b;\n",
      "\n",
      "    return np.array([x,y])\n",
      " \n",
      "    \n",
      "def plotLine(p1,ang1):\n",
      "    a = np.array([m.cos(ang1),m.sin(ang1)]);\n",
      "    t = np.linspace(-10,10,2);\n",
      "    p=p1\n",
      "    for r in t:\n",
      "        p=np.vstack((p,p1 + r*a));\n",
      "\n",
      "    \n",
      "    plt.plot(p[:,0],p[:,1])"
     ],
     "language": "python",
     "metadata": {},
     "outputs": [],
     "prompt_number": 161
    },
    {
     "cell_type": "code",
     "collapsed": false,
     "input": [
      "p1 = np.array([0,0.1])\n",
      "ang1 = 0;\n",
      "p2 = np.array([1,1])\n",
      "ang2 = m.pi/2;\n",
      "\n",
      "print(intersectLines(p1,ang1,p2,ang2))\n",
      "print(intersectLines2(p1,ang1,p2,ang2))\n",
      "\n",
      "plotLine(p1,ang1);\n",
      "plotLine(p2,ang2);\n",
      "plt.grid(True)"
     ],
     "language": "python",
     "metadata": {},
     "outputs": [
      {
       "output_type": "stream",
       "stream": "stdout",
       "text": [
        "[ 1.   0.1]\n",
        "second\n",
        "[ 1.   0.1]\n"
       ]
      }
     ],
     "prompt_number": 165
    },
    {
     "cell_type": "code",
     "collapsed": false,
     "input": [
      "colinear(m.pi/2 +10*2*m.pi-m.pi/2)"
     ],
     "language": "python",
     "metadata": {},
     "outputs": [
      {
       "metadata": {},
       "output_type": "pyout",
       "prompt_number": 124,
       "text": [
        "0"
       ]
      }
     ],
     "prompt_number": 124
    },
    {
     "cell_type": "code",
     "collapsed": false,
     "input": [
      "10.2 - m.floor(10.2/(2*m.pi))"
     ],
     "language": "python",
     "metadata": {},
     "outputs": [
      {
       "metadata": {},
       "output_type": "pyout",
       "prompt_number": 48,
       "text": [
        "9.2"
       ]
      }
     ],
     "prompt_number": 48
    },
    {
     "cell_type": "code",
     "collapsed": false,
     "input": [
      "m.pi/2+2*m.pi"
     ],
     "language": "python",
     "metadata": {},
     "outputs": [
      {
       "metadata": {},
       "output_type": "pyout",
       "prompt_number": 106,
       "text": [
        "7.853981633974483"
       ]
      }
     ],
     "prompt_number": 106
    },
    {
     "cell_type": "code",
     "collapsed": false,
     "input": [
      "m.pi/2 +2*m.pi"
     ],
     "language": "python",
     "metadata": {},
     "outputs": [
      {
       "metadata": {},
       "output_type": "pyout",
       "prompt_number": 108,
       "text": [
        "7.853981633974483"
       ]
      }
     ],
     "prompt_number": 108
    },
    {
     "cell_type": "code",
     "collapsed": false,
     "input": [
      "ang = m.pi/2.0 +10.0*2.0*m.pi;\n",
      "f = (ang-m.pi/2.0)/m.pi;\n",
      "print(f)\n",
      "k = m.floor(f)\n",
      "print(k)"
     ],
     "language": "python",
     "metadata": {},
     "outputs": [
      {
       "output_type": "stream",
       "stream": "stdout",
       "text": [
        "19.999999999999996\n",
        "19\n"
       ]
      }
     ],
     "prompt_number": 156
    },
    {
     "cell_type": "code",
     "collapsed": false,
     "input": [],
     "language": "python",
     "metadata": {},
     "outputs": []
    }
   ],
   "metadata": {}
  }
 ]
}
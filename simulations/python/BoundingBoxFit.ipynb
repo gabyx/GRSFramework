{
 "metadata": {
  "name": "",
  "signature": "sha256:42ade53311f5313a3a197162543176fd189eb59331c0ee04fa2d74e0fc7c7d2f"
 },
 "nbformat": 3,
 "nbformat_minor": 0,
 "worksheets": [
  {
   "cells": [
    {
     "cell_type": "code",
     "collapsed": false,
     "input": [
      "import sys,os,imp\n",
      "import math\n",
      "import numpy as np\n",
      "import matplotlib as mpl\n",
      "\n",
      "import matplotlib.cm as cm\n",
      "import matplotlib.pyplot as plt\n",
      "import matplotlib.colors as colors\n",
      "import matplotlib.cm as cmx\n",
      "\n",
      "\n",
      "#this works apparently only for savefig stuff\n",
      "mpl.rcParams['figure.figsize']=(6.0,4.0)    #(6.0,4.0)\n",
      "mpl.rcParams['font.size']=10                #10 \n",
      "mpl.rcParams['savefig.dpi']=400             #72 \n",
      "mpl.rcParams['figure.subplot.bottom']=.1    #.125\n",
      "\n",
      "\n",
      "\n",
      "plt.rc('font', family='serif')\n",
      "plt.rc('text', usetex=True)\n",
      "\n",
      "#inline Shit\n",
      "%matplotlib inline\n",
      "%config InlineBackend.figure_format='svg'\n",
      "%config InlineBackend.rc = {'figure.facecolor': 'white', 'figure.subplot.bottom': 0.125, 'figure.edgecolor': 'white', 'savefig.dpi': 400, 'figure.figsize': (12.0, 8.0), 'font.size': 10}\n",
      "\n",
      "#GUi shit\n",
      "%matplotlib tk\n",
      "mpl.get_configdir()\n",
      "\n",
      "%load_ext autoreload\n",
      "%autoreload 2\n",
      "\n",
      "# Import General Packages from me\n",
      "from Tools.Parsers import *\n",
      "from Tools.BoundingBox import *\n",
      "from Tools.Transformations import *\n",
      "\n"
     ],
     "language": "python",
     "metadata": {},
     "outputs": [
      {
       "output_type": "stream",
       "stream": "stderr",
       "text": [
        "/home/zfmgpu/Desktop/Repository/SimulationFramework/SourceCode/Projects/SimulationFramework/Simulations/PythonScripts/Tools/Transformations/Transformations.py:1890: UserWarning: failed to import module _transformations\n",
        "  warnings.warn(\"failed to import module %s\" % name)\n"
       ]
      }
     ],
     "prompt_number": 1
    },
    {
     "cell_type": "code",
     "collapsed": false,
     "input": [
      "\n",
      "\n",
      "from scipy.spatial import ConvexHull\n",
      "from mpl_toolkits.mplot3d import Axes3D\n",
      "\n",
      "def rotMatrix(axis,theta):\n",
      "    axis = axis/math.sqrt(np.dot(axis,axis))\n",
      "    a = math.cos(theta/2)\n",
      "    b,c,d = axis*math.sin(theta/2)\n",
      "    return np.array([[a*a+b*b-c*c-d*d, 2*(b*c-a*d), 2*(b*d+a*c)],\n",
      "                     [2*(b*c+a*d), a*a+c*c-b*b-d*d, 2*(c*d-a*b)],\n",
      "                     [2*(b*d-a*c), 2*(c*d+a*b), a*a+d*d-b*b-c*c]]);\n",
      "\n",
      "\n",
      "def plotCube(minP = np.array([-1.0,-1.0,-1.0]), maxP=np.array([1.0,1.0,1.0]),\n",
      "             trans= np.array([0.0,0.0,0.0]),rotationMatrix=np.diag([1,1,1])):\n",
      "    from itertools import product, combinations\n",
      "    r = [-1, 1]\n",
      "    \n",
      "    centerPos = (maxP + minP)/2.0;\n",
      "    print(centerPos)\n",
      "    extent = (maxP - minP)/2.0;\n",
      "    \n",
      "    points = np.array([(-1, -1, -1),\n",
      "                     (-1, -1, 1),\n",
      "                     (-1, 1, -1),\n",
      "                     (-1, 1, 1),\n",
      "                     (1, -1, -1),\n",
      "                     (1, -1, 1),\n",
      "                     (1, 1, -1),\n",
      "                     (1, 1, 1)]);\n",
      "    \n",
      "    for s, e in combinations(points, 2):\n",
      "        if np.sum(np.abs(s-e)) == r[1]-r[0]: # no diagonal lines\n",
      "            p1 = np.array(s,dtype=float); p2 = np.array(e,dtype=float);\n",
      "            #scale points\n",
      "            p1*=extent; p2*=extent;\n",
      "            #rotate and translate points\n",
      "            p1 = rotationMatrix.dot(p1 + centerPos) + trans;\n",
      "            p2 = rotationMatrix.dot(p2+centerPos) + trans;\n",
      "            ax.plot3D(*zip(p1,p2), color=\"b\")\n",
      "\n",
      "def plotAxis(centerPos,A_IK,plotAxisScale=1):\n",
      "        for i,c in zip([0,1,2],['r','g','b']):\n",
      "            I_eK_i = A_IK[:,i];\n",
      "            lines = list(zip(centerPos,plotAxisScale*I_eK_i+centerPos))\n",
      "            v = Arrow3D(*lines, mutation_scale=50, lw=1, arrowstyle=\"-|>\", color=c);\n",
      "            ax.plot3D(*lines, color=c)\n",
      "            ax.add_artist(v);\n",
      "\n",
      "            \n",
      "from matplotlib.patches import FancyArrowPatch\n",
      "from mpl_toolkits.mplot3d import proj3d\n",
      "class Arrow3D(FancyArrowPatch):\n",
      "        def __init__(self, xs, ys, zs, *args, **kwargs):\n",
      "            FancyArrowPatch.__init__(self, (0,0), (0,0), *args, **kwargs)\n",
      "            self._verts3d = xs, ys, zs\n",
      "     \n",
      "        def draw(self, renderer):\n",
      "            xs3d, ys3d, zs3d = self._verts3d\n",
      "            xs, ys, zs = proj3d.proj_transform(xs3d, ys3d, zs3d, renderer.M)\n",
      "            self.set_positions((xs[0],ys[0]),(xs[1],ys[1]))\n",
      "            FancyArrowPatch.draw(self, renderer)  \n",
      "\n",
      "\n",
      "def makeSkewSym3(a):\n",
      "    m = np.zeros((3,3));\n",
      "    m[0,0]=a[0];\n",
      "    m[0,1]=a[1]; m[1,0]=a[1];\n",
      "    m[0,2]=a[2]; m[2,0]=a[2];\n",
      "    m[1,1]=a[3];\n",
      "    m[1,2]=a[4]; m[2,1]=a[4];\n",
      "    m[2,2]=a[5];\n",
      "    return m;\n",
      "\n",
      "def calculateBoundingBoxBinetTensor(pointsIn, withConvexHull=False):\n",
      "    I_theta_G = np.zeros((6,1));\n",
      "    I_r_G = np.zeros((3));\n",
      "\n",
      "    \n",
      "    points = pointsIn.copy();\n",
      "    if(withConvexHull):\n",
      "        from scipy.spatial import ConvexHull\n",
      "        hull = ConvexHull(points.T)\n",
      "        points = points[:,hull.vertices];\n",
      "        print(\"Computed Convex Hull\")\n",
      "    \n",
      "    nPoints = points.shape[1];\n",
      "    \n",
      "    for p in points.T:\n",
      "#         print(type(p),p.ndim)\n",
      "#         print(I_r_G.shape,p.shape)\n",
      "        I_r_G += p;\n",
      "        \n",
      "        I_theta_G[0] += p[0]*p[0];\n",
      "        I_theta_G[1] += p[0]*p[1];\n",
      "        I_theta_G[2] += p[0]*p[2];\n",
      "        I_theta_G[3] += p[1]*p[1];\n",
      "        I_theta_G[4] += p[1]*p[2];\n",
      "        I_theta_G[5] += p[2]*p[2];\n",
      "    \n",
      "    I_r_G /= nPoints;\n",
      "    \n",
      "    # move binet tensor to center of mass G [mass for every point m=1]\n",
      "    I_theta_G[0] -= I_r_G[0]*I_r_G[0] * nPoints;\n",
      "    I_theta_G[1] -= I_r_G[0]*I_r_G[1] * nPoints;\n",
      "    I_theta_G[2] -= I_r_G[0]*I_r_G[2]* nPoints;\n",
      "    I_theta_G[3] -= I_r_G[1]*I_r_G[1]* nPoints;\n",
      "    I_theta_G[4] -= I_r_G[1]*I_r_G[2]* nPoints;\n",
      "    I_theta_G[5] -= I_r_G[2]*I_r_G[2]* nPoints;\n",
      "    \n",
      "    print(\"Computed Binet Inertia Tensor\")\n",
      "    \n",
      "    A = makeSkewSym3(I_theta_G);\n",
      "    print(\"I_Theta_G: \" , A);\n",
      "    eigs = np.linalg.eigh(A);\n",
      "    A_IK = eigs[1];\n",
      "    print(\"Computed Binet Inertia Tensor, Eigenvector Decomposition\")\n",
      "    \n",
      "    A_IK[:,0] /= np.linalg.norm(A_IK[:,0]);\n",
      "    A_IK[:,1] /= np.linalg.norm(A_IK[:,1]);\n",
      "    A_IK[:,2] /= np.linalg.norm(A_IK[:,2]);\n",
      "    \n",
      "    #find projected maximas\n",
      "    minP = np.zeros((3));\n",
      "    maxP = np.zeros((3));\n",
      "    for p in points.T:\n",
      "        x = A_IK.T.dot(p - I_r_G);\n",
      "        maxP = np.maximum(maxP,x);\n",
      "        minP = np.minimum(minP,x);\n",
      "    \n",
      "    print(\"Computed Bounding Box\")\n",
      "    print(\"A_IK: \" ,A_IK)\n",
      "    print(\"orthnormality: \" ,A_IK.dot(A_IK.T))\n",
      "    print(\"min: \" ,minP)\n",
      "    print(\"max: \" ,maxP)\n",
      "    return (I_r_G,A_IK,minP,maxP,points); # returns A_IK;"
     ],
     "language": "python",
     "metadata": {},
     "outputs": [],
     "prompt_number": 2
    },
    {
     "cell_type": "code",
     "collapsed": false,
     "input": [
      "def axisEqual3D(ax):\n",
      "    extents = np.array([getattr(ax, 'get_{}lim'.format(dim))() for dim in 'xyz'])\n",
      "    sz = extents[:,1] - extents[:,0]\n",
      "    centers = np.mean(extents, axis=1)\n",
      "    maxsize = max(abs(sz))\n",
      "    r = maxsize/2\n",
      "    for ctr, dim in zip(centers, 'xyz'):\n",
      "        getattr(ax, 'set_{}lim'.format(dim))(ctr - r, ctr + r)"
     ],
     "language": "python",
     "metadata": {},
     "outputs": [],
     "prompt_number": 3
    },
    {
     "cell_type": "code",
     "collapsed": false,
     "input": [
      "\n",
      "fig = plt.figure(1,(10,10))\n",
      "ax = Axes3D(fig)\n",
      "\n",
      "np.random.seed(101)\n",
      "# points = np.random.rand(3,6000)\n",
      "\n",
      "points = np.array([(-1, -1, -1),\n",
      "                     (-1, -1, 1),\n",
      "                     (-1, 1, -1),\n",
      "                     (-1, 1, 1),\n",
      "                     (1, -1, -1),\n",
      "                     (1, -1, 1),\n",
      "                     (1, 1, -1),\n",
      "                     (1, 1, 1),\n",
      "                     (1,1,1),\n",
      "                     (0.01,0.5,0.1)],dtype=float).T;\n",
      "\n",
      "ax.scatter(points[0],points[1],points[2])\n",
      "\n",
      "# points = np.append(points,points*0.5,0)\n",
      "# points = np.append(points,points*0.3,0)\n",
      "# points = np.append(points,points*0.1,0)\n",
      "# print(points)\n",
      "# points = points.T\n",
      "    \n",
      "\n",
      "# version 1.0.x syntax:\n",
      "#ax = fig.add_subplot(111, projection='3d')\n",
      "# version 0.99.x syntax: (accepted by 1.0.x as well)\n",
      "\n",
      "# R_KI= rotMatrix(np.array([1,0,0]),20/180.0*math.pi);\n",
      "# R_KI = R_KI.dot(rotMatrix(np.array([0,0,1]),20/180.0*math.pi));\n",
      "# trans = np.array([0.2,0,0])\n",
      "# minP = np.array([-2,-1,-1]);\n",
      "# maxP = np.array([2,1,1]);\n",
      "# center = (maxP + minP)/2 + trans;\n",
      "# plotCube(minP,maxP,trans,R_KI)\n",
      "# plotAxis(center,R_KI,1)\n",
      "\n",
      "#ax.scatter(points[0],points[1],points[2])\n",
      "\n",
      "center, A_IK, minP, maxP, pointsOut = calculateBoundingBoxBinetTensor(points,False)\n",
      "\n",
      "ax.scatter(pointsOut[0],pointsOut[1],pointsOut[2],color='r')\n",
      "plotCube(minP,maxP,center,A_IK) # A_IK = R_KI (rotation from I to K)\n",
      "plotAxis(center,A_IK,1)\n",
      "axisEqual3D(ax)"
     ],
     "language": "python",
     "metadata": {},
     "outputs": [
      {
       "output_type": "stream",
       "stream": "stdout",
       "text": [
        "Computed Binet Inertia Tensor\n",
        "I_Theta_G:  [[ 8.89809  0.8535   0.8899 ]\n",
        " [ 0.8535   9.025    0.885  ]\n",
        " [ 0.8899   0.885    8.889  ]]\n",
        "Computed Binet Inertia Tensor, Eigenvector Decomposition\n",
        "Computed Bounding Box\n",
        "A_IK:  [[-0.62607086  0.53592697 -0.56640759]\n",
        " [-0.14086594 -0.79216347 -0.5938298 ]\n",
        " [ 0.7669368   0.29199199 -0.57144432]]\n",
        "orthnormality:  [[  1.00000000e+00   0.00000000e+00   5.55111512e-17]\n",
        " [  0.00000000e+00   1.00000000e+00   1.66533454e-16]\n",
        " [  5.55111512e-17   1.66533454e-16   1.00000000e+00]]\n",
        "min:  [-1.53387361 -1.58750565 -1.5225412 ]\n",
        "max:  [ 1.53387361  1.65265921  1.94082222]\n",
        "[ 0.          0.03257678  0.20914051]\n"
       ]
      }
     ],
     "prompt_number": 8
    },
    {
     "cell_type": "code",
     "collapsed": false,
     "input": [
      "fig = plt.figure(1,(10,10))\n",
      "ax = Axes3D(fig)\n",
      "v, t, n, f = ObjLoader.loadObj(\"./Tools/BoundingBox/TestFiles/bunny.obj\");\n",
      "\n",
      "v = v.T;\n",
      "nP = 100000;\n",
      "v = v[:,0:-1]\n",
      "# v = np.random.rand(3,100)\n",
      "# print(v.shape)\n",
      "center, A_IK, minP, maxP, pointsOut = calculateBoundingBoxBinetTensor(v,True)\n",
      "ax.scatter(pointsOut[0],pointsOut[1],pointsOut[2],color='r')\n",
      "plotCube(minP,maxP,center,A_IK) # A_IK = R_KI (rotation from I to K)\n",
      "plotAxis(center,A_IK,1)\n",
      "\n",
      "# center, A_IK, minP, maxP, pointsOut = calculateBoundingBoxBinetTensor(v,False)\n",
      "# ax.scatter(pointsOut[0],pointsOut[1],pointsOut[2],color='r')\n",
      "# plotCube(minP,maxP,center,A_IK) # A_IK = R_KI (rotation from I to K)\n",
      "# plotAxis(center,A_IK,1)\n",
      "\n",
      "axisEqual3D(ax)\n"
     ],
     "language": "python",
     "metadata": {},
     "outputs": [
      {
       "output_type": "stream",
       "stream": "stdout",
       "text": [
        "Computed Convex Hull\n",
        "Computed Binet Inertia Tensor\n",
        "I_Theta_G:  [[ 5.3127925  -2.68240367 -0.31951755]\n",
        " [-2.68240367  3.23163872 -0.1606258 ]\n",
        " [-0.31951755 -0.1606258   1.30440366]]\n",
        "Computed Binet Inertia Tensor, Eigenvector Decomposition\n",
        "Computed Bounding Box\n",
        "A_IK:  [[ 0.38571766  0.41168697 -0.82567289]\n",
        " [ 0.52542195  0.63760905  0.56337064]\n",
        " [ 0.75838886 -0.65112866  0.0296277 ]]\n",
        "orthnormality:  [[  1.00000000e+00  -2.22044605e-16  -1.21430643e-16]\n",
        " [ -2.22044605e-16   1.00000000e+00  -9.71445147e-17]\n",
        " [ -1.21430643e-16  -9.71445147e-17   1.00000000e+00]]\n",
        "min:  [-0.08011379 -0.07543226 -0.07939604]\n",
        "max:  [ 0.03596974  0.08618646  0.10171412]\n",
        "[-0.02207202  0.0053771   0.01115904]\n"
       ]
      }
     ],
     "prompt_number": 10
    },
    {
     "cell_type": "code",
     "collapsed": false,
     "input": [
      "points = np.random.rand(30, 3)   # 30 random points in 2-D\n",
      "hull = ConvexHull(points)\n",
      "hull.vertices"
     ],
     "language": "python",
     "metadata": {},
     "outputs": [
      {
       "metadata": {},
       "output_type": "pyout",
       "prompt_number": 11,
       "text": [
        "array([ 0,  1,  4,  7,  8, 10, 11, 12, 13, 14, 15, 17, 19, 20, 22, 26, 28,\n",
        "       29], dtype=int32)"
       ]
      }
     ],
     "prompt_number": 11
    },
    {
     "cell_type": "code",
     "collapsed": false,
     "input": [
      "def parseNDArray(f, dt, deli=\" \", comm='#'):\n",
      "    #build structred types (dtype for numpy)\n",
      "    return np.loadtxt(f,dtype=dt, delimiter=deli, comments=comm);\n",
      "\n",
      "\n",
      "points = parseNDArray(\"../PointsSimulation.txt\" , dt=float )\n",
      "\n",
      "fig = plt.figure(1,(10,10))\n",
      "ax = Axes3D(fig)\n",
      "\n",
      "pointsT = points.T  #points = [[x,y,z],[x,y,z]]\n",
      "#center, A_IK, minP, maxP, pointsOut = calculateBoundingBoxBinetTensor(points,True)\n",
      "ax.scatter(pointsT[0],pointsT[1],pointsT[2],color='r')\n",
      "hull = ConvexHull(points)\n",
      "\n",
      "#print(\"Points:\", points)\n",
      "# Make Edge Set\n",
      "\n",
      "edgeSet = set();    \n",
      "for simplex in hull.simplices:\n",
      "    edgeSet.add(CalculateMVBB.Edge( simplex[0], simplex[1] ));\n",
      "    edgeSet.add(CalculateMVBB.Edge( simplex[1], simplex[2] ));\n",
      "    edgeSet.add(CalculateMVBB.Edge( simplex[2], simplex[0] ));\n",
      "    #print(simplex)\n",
      "\n",
      "print(\"Edges: \", len(edgeSet), \"instead of \" , len(hull.simplices)*3)\n",
      "# for e in edgeSet:\n",
      "#     print(e[0],e[1]);\n",
      "for simplex in hull.simplices:\n",
      "    ax.plot(points[simplex,0], points[simplex,1], points[simplex,2], 'k-')\n",
      "\n",
      "\n",
      "corner, v1, v2, v3, u,v,w = CalculateMVBB.findOBBEdge(list(edgeSet),points)\n",
      "\n",
      "print(v1,v2,v3)"
     ],
     "language": "python",
     "metadata": {},
     "outputs": [
      {
       "output_type": "stream",
       "stream": "stdout",
       "text": [
        "Edges:  480 instead of  480\n",
        "[-1.94711545 -1.93490626  0.01770744]"
       ]
      },
      {
       "output_type": "stream",
       "stream": "stdout",
       "text": [
        " [  5.35885411e+00  -5.39265151e+00   1.83580192e-03] [-0.03194867 -0.03421722 -7.2520307 ]\n"
       ]
      },
      {
       "output_type": "stream",
       "stream": "stderr",
       "text": [
        "/home/zfmgpu/Desktop/Repository/SimulationFramework/SourceCode/Projects/SimulationFramework/Simulations/PythonScripts/Tools/BoundingBox/CalculateMVBB.py:106: RuntimeWarning: invalid value encountered in true_divide\n",
        "  w /= np.sqrt(np.sum(v**2))\n",
        "/home/zfmgpu/Desktop/Repository/SimulationFramework/SourceCode/Projects/SimulationFramework/Simulations/PythonScripts/Tools/BoundingBox/CalculateMVBB.py:99: RuntimeWarning: invalid value encountered in true_divide\n",
        "  p = d / v2\n"
       ]
      }
     ],
     "prompt_number": 19
    },
    {
     "cell_type": "code",
     "collapsed": false,
     "input": [
      "np.array([u,v,w])"
     ],
     "language": "python",
     "metadata": {},
     "outputs": [
      {
       "metadata": {},
       "output_type": "pyout",
       "prompt_number": 20,
       "text": [
        "array([[ -4.60465732e+00,  -4.57578427e+00,   4.18756247e-02],\n",
        "       [  4.57588652e+00,  -4.60474587e+00,   1.56757789e-03],\n",
        "       [ -2.85985410e-02,  -3.06292131e-02,  -6.49158442e+00]])"
       ]
      }
     ],
     "prompt_number": 20
    },
    {
     "cell_type": "code",
     "collapsed": false,
     "input": [
      "3<float(\"inf\")"
     ],
     "language": "python",
     "metadata": {},
     "outputs": [
      {
       "metadata": {},
       "output_type": "pyout",
       "prompt_number": 51,
       "text": [
        "True"
       ]
      }
     ],
     "prompt_number": 51
    },
    {
     "cell_type": "code",
     "collapsed": false,
     "input": [
      "plt.close('all')\n",
      "points = np.loadtxt(\"../ConvexHullTest1.txt\");\n",
      "hullP = np.loadtxt(\"../ConvexHullTest1Out.txt\");\n",
      "\n",
      "fig = plt.figure(1,(10,10))\n",
      "hullP = np.vstack((hullP,hullP[0]))\n",
      "plt.scatter(points.T[0],points.T[1])\n",
      "plt.plot(hullP.T[0],hullP.T[1],'b-o',ms=20, markerfacecolor='None')\n"
     ],
     "language": "python",
     "metadata": {},
     "outputs": [
      {
       "metadata": {},
       "output_type": "pyout",
       "prompt_number": 15,
       "text": [
        "[<matplotlib.lines.Line2D at 0x7fe42b342d68>]"
       ]
      }
     ],
     "prompt_number": 15
    },
    {
     "cell_type": "code",
     "collapsed": false,
     "input": [
      "points = np.loadtxt(\"../ConvexHullTest2.txt\");\n",
      "hullP = np.loadtxt(\"../ConvexHullTest2Out.txt\");\n",
      "\n",
      "fig = plt.figure(2,(10,10))\n",
      "plt.scatter(points.T[0],points.T[1])\n",
      "hullP = np.vstack((hullP,hullP[0]))\n",
      "plt.plot(hullP.T[0],hullP.T[1],'b-o',ms=20, markerfacecolor='None')"
     ],
     "language": "python",
     "metadata": {},
     "outputs": [
      {
       "ename": "FileNotFoundError",
       "evalue": "[Errno 2] No such file or directory: '../ConvexHullTestOut2.txt'",
       "output_type": "pyerr",
       "traceback": [
        "\u001b[1;31m---------------------------------------------------------------------------\u001b[0m\n\u001b[1;31mFileNotFoundError\u001b[0m                         Traceback (most recent call last)",
        "\u001b[1;32m<ipython-input-6-37ecb56105c0>\u001b[0m in \u001b[0;36m<module>\u001b[1;34m()\u001b[0m\n\u001b[0;32m      1\u001b[0m \u001b[0mpoints\u001b[0m \u001b[1;33m=\u001b[0m \u001b[0mnp\u001b[0m\u001b[1;33m.\u001b[0m\u001b[0mloadtxt\u001b[0m\u001b[1;33m(\u001b[0m\u001b[1;34m\"../ConvexHullTest2.txt\"\u001b[0m\u001b[1;33m)\u001b[0m\u001b[1;33m;\u001b[0m\u001b[1;33m\u001b[0m\u001b[0m\n\u001b[1;32m----> 2\u001b[1;33m \u001b[0mhullP\u001b[0m \u001b[1;33m=\u001b[0m \u001b[0mnp\u001b[0m\u001b[1;33m.\u001b[0m\u001b[0mloadtxt\u001b[0m\u001b[1;33m(\u001b[0m\u001b[1;34m\"../ConvexHullTestOut2.txt\"\u001b[0m\u001b[1;33m)\u001b[0m\u001b[1;33m;\u001b[0m\u001b[1;33m\u001b[0m\u001b[0m\n\u001b[0m\u001b[0;32m      3\u001b[0m \u001b[1;33m\u001b[0m\u001b[0m\n\u001b[0;32m      4\u001b[0m \u001b[0mfig\u001b[0m \u001b[1;33m=\u001b[0m \u001b[0mplt\u001b[0m\u001b[1;33m.\u001b[0m\u001b[0mfigure\u001b[0m\u001b[1;33m(\u001b[0m\u001b[1;36m2\u001b[0m\u001b[1;33m,\u001b[0m\u001b[1;33m(\u001b[0m\u001b[1;36m10\u001b[0m\u001b[1;33m,\u001b[0m\u001b[1;36m10\u001b[0m\u001b[1;33m)\u001b[0m\u001b[1;33m)\u001b[0m\u001b[1;33m\u001b[0m\u001b[0m\n\u001b[0;32m      5\u001b[0m \u001b[0mplt\u001b[0m\u001b[1;33m.\u001b[0m\u001b[0mscatter\u001b[0m\u001b[1;33m(\u001b[0m\u001b[0mpoints\u001b[0m\u001b[1;33m.\u001b[0m\u001b[0mT\u001b[0m\u001b[1;33m[\u001b[0m\u001b[1;36m0\u001b[0m\u001b[1;33m]\u001b[0m\u001b[1;33m,\u001b[0m\u001b[0mpoints\u001b[0m\u001b[1;33m.\u001b[0m\u001b[0mT\u001b[0m\u001b[1;33m[\u001b[0m\u001b[1;36m1\u001b[0m\u001b[1;33m]\u001b[0m\u001b[1;33m)\u001b[0m\u001b[1;33m\u001b[0m\u001b[0m\n",
        "\u001b[1;32m/opt/python3.4env/lib/python3.4/site-packages/numpy/lib/npyio.py\u001b[0m in \u001b[0;36mloadtxt\u001b[1;34m(fname, dtype, comments, delimiter, converters, skiprows, usecols, unpack, ndmin)\u001b[0m\n\u001b[0;32m    737\u001b[0m                 \u001b[0mfh\u001b[0m \u001b[1;33m=\u001b[0m \u001b[0miter\u001b[0m\u001b[1;33m(\u001b[0m\u001b[0mopen\u001b[0m\u001b[1;33m(\u001b[0m\u001b[0mfname\u001b[0m\u001b[1;33m,\u001b[0m \u001b[1;34m'U'\u001b[0m\u001b[1;33m)\u001b[0m\u001b[1;33m)\u001b[0m\u001b[1;33m\u001b[0m\u001b[0m\n\u001b[0;32m    738\u001b[0m             \u001b[1;32melse\u001b[0m\u001b[1;33m:\u001b[0m\u001b[1;33m\u001b[0m\u001b[0m\n\u001b[1;32m--> 739\u001b[1;33m                 \u001b[0mfh\u001b[0m \u001b[1;33m=\u001b[0m \u001b[0miter\u001b[0m\u001b[1;33m(\u001b[0m\u001b[0mopen\u001b[0m\u001b[1;33m(\u001b[0m\u001b[0mfname\u001b[0m\u001b[1;33m)\u001b[0m\u001b[1;33m)\u001b[0m\u001b[1;33m\u001b[0m\u001b[0m\n\u001b[0m\u001b[0;32m    740\u001b[0m         \u001b[1;32melse\u001b[0m\u001b[1;33m:\u001b[0m\u001b[1;33m\u001b[0m\u001b[0m\n\u001b[0;32m    741\u001b[0m             \u001b[0mfh\u001b[0m \u001b[1;33m=\u001b[0m \u001b[0miter\u001b[0m\u001b[1;33m(\u001b[0m\u001b[0mfname\u001b[0m\u001b[1;33m)\u001b[0m\u001b[1;33m\u001b[0m\u001b[0m\n",
        "\u001b[1;31mFileNotFoundError\u001b[0m: [Errno 2] No such file or directory: '../ConvexHullTestOut2.txt'"
       ]
      }
     ],
     "prompt_number": 6
    },
    {
     "cell_type": "code",
     "collapsed": false,
     "input": [
      "points = np.loadtxt(\"../ConvexHullTest3.txt\");\n",
      "hullP = np.loadtxt(\"../ConvexHullTest3Out.txt\");\n",
      "\n",
      "fig = plt.figure(3,(10,10))\n",
      "plt.scatter(points.T[0],points.T[1])\n",
      "hullP = np.vstack((hullP,hullP[0]))\n",
      "plt.plot(hullP.T[0],hullP.T[1],'b-o',ms=20, markerfacecolor='None')"
     ],
     "language": "python",
     "metadata": {},
     "outputs": [
      {
       "metadata": {},
       "output_type": "pyout",
       "prompt_number": 16,
       "text": [
        "[<matplotlib.lines.Line2D at 0x7fe42397d9e8>]"
       ]
      }
     ],
     "prompt_number": 16
    },
    {
     "cell_type": "code",
     "collapsed": false,
     "input": [
      "points = np.loadtxt(\"../ConvexHullTest4.txt\");\n",
      "hullP = np.loadtxt(\"../ConvexHullTest4Out.txt\");\n",
      "\n",
      "fig = plt.figure(4,(10,10))\n",
      "plt.scatter(points.T[0],points.T[1])\n",
      "hullP = np.vstack((hullP,hullP[0]))\n",
      "plt.plot(hullP.T[0],hullP.T[1],'b-o',ms=20, markerfacecolor='None')"
     ],
     "language": "python",
     "metadata": {},
     "outputs": [
      {
       "metadata": {},
       "output_type": "pyout",
       "prompt_number": 17,
       "text": [
        "[<matplotlib.lines.Line2D at 0x7fe4239c3da0>]"
       ]
      }
     ],
     "prompt_number": 17
    },
    {
     "cell_type": "code",
     "collapsed": false,
     "input": [
      "points = np.loadtxt(\"../ConvexHullTest5.txt\");\n",
      "hullP = np.loadtxt(\"../ConvexHullTest5Out.txt\");\n",
      "\n",
      "fig = plt.figure(5,(10,10))\n",
      "plt.scatter(points.T[0],points.T[1])\n",
      "hullP = np.vstack((hullP,hullP[0]))\n",
      "plt.plot(hullP.T[0],hullP.T[1],'b-o', ms=20, markerfacecolor='None')"
     ],
     "language": "python",
     "metadata": {},
     "outputs": [
      {
       "ename": "FileNotFoundError",
       "evalue": "[Errno 2] No such file or directory: '../ConvexHullTest5.txt'",
       "output_type": "pyerr",
       "traceback": [
        "\u001b[1;31m---------------------------------------------------------------------------\u001b[0m\n\u001b[1;31mFileNotFoundError\u001b[0m                         Traceback (most recent call last)",
        "\u001b[1;32m<ipython-input-18-9c3cb51ae294>\u001b[0m in \u001b[0;36m<module>\u001b[1;34m()\u001b[0m\n\u001b[1;32m----> 1\u001b[1;33m \u001b[0mpoints\u001b[0m \u001b[1;33m=\u001b[0m \u001b[0mnp\u001b[0m\u001b[1;33m.\u001b[0m\u001b[0mloadtxt\u001b[0m\u001b[1;33m(\u001b[0m\u001b[1;34m\"../ConvexHullTest5.txt\"\u001b[0m\u001b[1;33m)\u001b[0m\u001b[1;33m;\u001b[0m\u001b[1;33m\u001b[0m\u001b[0m\n\u001b[0m\u001b[0;32m      2\u001b[0m \u001b[0mhullP\u001b[0m \u001b[1;33m=\u001b[0m \u001b[0mnp\u001b[0m\u001b[1;33m.\u001b[0m\u001b[0mloadtxt\u001b[0m\u001b[1;33m(\u001b[0m\u001b[1;34m\"../ConvexHullTest5Out.txt\"\u001b[0m\u001b[1;33m)\u001b[0m\u001b[1;33m;\u001b[0m\u001b[1;33m\u001b[0m\u001b[0m\n\u001b[0;32m      3\u001b[0m \u001b[1;33m\u001b[0m\u001b[0m\n\u001b[0;32m      4\u001b[0m \u001b[0mfig\u001b[0m \u001b[1;33m=\u001b[0m \u001b[0mplt\u001b[0m\u001b[1;33m.\u001b[0m\u001b[0mfigure\u001b[0m\u001b[1;33m(\u001b[0m\u001b[1;36m5\u001b[0m\u001b[1;33m,\u001b[0m\u001b[1;33m(\u001b[0m\u001b[1;36m10\u001b[0m\u001b[1;33m,\u001b[0m\u001b[1;36m10\u001b[0m\u001b[1;33m)\u001b[0m\u001b[1;33m)\u001b[0m\u001b[1;33m\u001b[0m\u001b[0m\n\u001b[0;32m      5\u001b[0m \u001b[0mplt\u001b[0m\u001b[1;33m.\u001b[0m\u001b[0mscatter\u001b[0m\u001b[1;33m(\u001b[0m\u001b[0mpoints\u001b[0m\u001b[1;33m.\u001b[0m\u001b[0mT\u001b[0m\u001b[1;33m[\u001b[0m\u001b[1;36m0\u001b[0m\u001b[1;33m]\u001b[0m\u001b[1;33m,\u001b[0m\u001b[0mpoints\u001b[0m\u001b[1;33m.\u001b[0m\u001b[0mT\u001b[0m\u001b[1;33m[\u001b[0m\u001b[1;36m1\u001b[0m\u001b[1;33m]\u001b[0m\u001b[1;33m)\u001b[0m\u001b[1;33m\u001b[0m\u001b[0m\n",
        "\u001b[1;32m/opt/python3.4env/lib/python3.4/site-packages/numpy/lib/npyio.py\u001b[0m in \u001b[0;36mloadtxt\u001b[1;34m(fname, dtype, comments, delimiter, converters, skiprows, usecols, unpack, ndmin)\u001b[0m\n\u001b[0;32m    737\u001b[0m                 \u001b[0mfh\u001b[0m \u001b[1;33m=\u001b[0m \u001b[0miter\u001b[0m\u001b[1;33m(\u001b[0m\u001b[0mopen\u001b[0m\u001b[1;33m(\u001b[0m\u001b[0mfname\u001b[0m\u001b[1;33m,\u001b[0m \u001b[1;34m'U'\u001b[0m\u001b[1;33m)\u001b[0m\u001b[1;33m)\u001b[0m\u001b[1;33m\u001b[0m\u001b[0m\n\u001b[0;32m    738\u001b[0m             \u001b[1;32melse\u001b[0m\u001b[1;33m:\u001b[0m\u001b[1;33m\u001b[0m\u001b[0m\n\u001b[1;32m--> 739\u001b[1;33m                 \u001b[0mfh\u001b[0m \u001b[1;33m=\u001b[0m \u001b[0miter\u001b[0m\u001b[1;33m(\u001b[0m\u001b[0mopen\u001b[0m\u001b[1;33m(\u001b[0m\u001b[0mfname\u001b[0m\u001b[1;33m)\u001b[0m\u001b[1;33m)\u001b[0m\u001b[1;33m\u001b[0m\u001b[0m\n\u001b[0m\u001b[0;32m    740\u001b[0m         \u001b[1;32melse\u001b[0m\u001b[1;33m:\u001b[0m\u001b[1;33m\u001b[0m\u001b[0m\n\u001b[0;32m    741\u001b[0m             \u001b[0mfh\u001b[0m \u001b[1;33m=\u001b[0m \u001b[0miter\u001b[0m\u001b[1;33m(\u001b[0m\u001b[0mfname\u001b[0m\u001b[1;33m)\u001b[0m\u001b[1;33m\u001b[0m\u001b[0m\n",
        "\u001b[1;31mFileNotFoundError\u001b[0m: [Errno 2] No such file or directory: '../ConvexHullTest5.txt'"
       ]
      }
     ],
     "prompt_number": 18
    },
    {
     "cell_type": "code",
     "collapsed": false,
     "input": [
      "points = np.atleast_2d(np.loadtxt(\"../ConvexHullTest6.txt\"));\n",
      "hullP = np.atleast_2d(np.loadtxt(\"../ConvexHullTest6Out.txt\"));\n",
      "\n",
      "fig = plt.figure(6,(10,10))\n",
      "plt.scatter(points.T[0],points.T[1])\n",
      "hullP = np.vstack((hullP,hullP[0]))\n",
      "plt.plot(hullP.T[0],hullP.T[1],'b-o', ms=20, markerfacecolor='None')"
     ],
     "language": "python",
     "metadata": {},
     "outputs": [
      {
       "metadata": {},
       "output_type": "pyout",
       "prompt_number": 19,
       "text": [
        "[<matplotlib.lines.Line2D at 0x7fe4232e5f98>]"
       ]
      }
     ],
     "prompt_number": 19
    },
    {
     "cell_type": "code",
     "collapsed": false,
     "input": [
      "points = np.atleast_2d(np.loadtxt(\"../ConvexHullTest7.txt\"));\n",
      "hullP = np.atleast_2d(np.loadtxt(\"../ConvexHullTest7Out.txt\"));\n",
      "\n",
      "fig = plt.figure(7,(10,10))\n",
      "plt.scatter(points.T[0],points.T[1])\n",
      "hullP = np.vstack((hullP,hullP[0]))\n",
      "plt.plot(hullP.T[0],hullP.T[1],'b-o', ms=20, markerfacecolor='None')"
     ],
     "language": "python",
     "metadata": {},
     "outputs": [
      {
       "metadata": {},
       "output_type": "pyout",
       "prompt_number": 20,
       "text": [
        "[<matplotlib.lines.Line2D at 0x7fe4200c7d68>]"
       ]
      }
     ],
     "prompt_number": 20
    },
    {
     "cell_type": "code",
     "collapsed": false,
     "input": [
      "plt.close(\"all\")\n",
      "points = np.atleast_2d(np.loadtxt(\"../ConvexHullTest8.txt\"));\n",
      "hullP = np.atleast_2d(np.loadtxt(\"../ConvexHullTest8Out.txt\"));\n",
      "\n",
      "fig = plt.figure(8,(10,10))\n",
      "plt.scatter(points.T[0],points.T[1])\n",
      "nrRange = [(i,p[0],p[1])  for i,p in enumerate(points) ]\n",
      "for x in nrRange:      \n",
      "    plt.annotate('%s' % x[0], xy=x[1:3], textcoords='offset points') # <--\n",
      "hullP = np.vstack((hullP,hullP[0]))\n",
      "plt.plot(hullP.T[0],hullP.T[1],'b-o', ms=20, markerfacecolor='None')\n",
      "\n"
     ],
     "language": "python",
     "metadata": {},
     "outputs": [
      {
       "output_type": "stream",
       "stream": "stderr",
       "text": [
        "/opt/python3.4env/lib/python3.4/site-packages/matplotlib/text.py:1788: UserWarning: You have used the `textcoords` kwarg, but not the `xytext` kwarg.  This can lead to surprising results.\n",
        "  warnings.warn(\"You have used the `textcoords` kwarg, but not \"\n"
       ]
      },
      {
       "metadata": {},
       "output_type": "pyout",
       "prompt_number": 21,
       "text": [
        "[<matplotlib.lines.Line2D at 0x7fe42008b080>]"
       ]
      }
     ],
     "prompt_number": 21
    },
    {
     "cell_type": "code",
     "collapsed": false,
     "input": [
      "points = np.atleast_2d(np.loadtxt(\"../MinAreaRectangleTest1.txt\"));\n",
      "hullP = np.atleast_2d(np.loadtxt(\"../MinAreaRectangleTest1Out.txt\"));\n",
      "fig = plt.figure(1,(10,10))\n",
      "plt.scatter(points.T[0],points.T[1])\n",
      "hullP = np.vstack((hullP,hullP[0]))\n",
      "plt.plot(hullP.T[0],hullP.T[1],'r-', ms=20, markerfacecolor='None')\n",
      "\n",
      "plt.axis('equal')"
     ],
     "language": "python",
     "metadata": {},
     "outputs": [
      {
       "metadata": {},
       "output_type": "pyout",
       "prompt_number": 22,
       "text": [
        "(-1.0, 1.0, -0.80000000000000004, 1.0)"
       ]
      }
     ],
     "prompt_number": 22
    },
    {
     "cell_type": "code",
     "collapsed": false,
     "input": [
      "points = np.atleast_2d(np.loadtxt(\"../MinAreaRectangleTest2.txt\"));\n",
      "hullP = np.atleast_2d(np.loadtxt(\"../MinAreaRectangleTest2Out.txt\"));\n",
      "fig = plt.figure(2,(10,10))\n",
      "plt.scatter(points.T[0],points.T[1])\n",
      "hullP = np.vstack((hullP,hullP[0]))\n",
      "plt.plot(hullP.T[0],hullP.T[1],'r-', ms=20, markerfacecolor='None')\n",
      "\n",
      "plt.axis('equal')"
     ],
     "language": "python",
     "metadata": {},
     "outputs": [
      {
       "metadata": {},
       "output_type": "pyout",
       "prompt_number": 23,
       "text": [
        "(-2.0, 4.0, -0.5, 3.5)"
       ]
      }
     ],
     "prompt_number": 23
    },
    {
     "cell_type": "code",
     "collapsed": false,
     "input": [
      "points = np.atleast_2d(np.loadtxt(\"../MinAreaRectangleTest3.txt\"));\n",
      "hullP = np.atleast_2d(np.loadtxt(\"../MinAreaRectangleTest3Out.txt\"));\n",
      "fig = plt.figure(3,(10,10))\n",
      "plt.scatter(points.T[0],points.T[1])\n",
      "hullP = np.vstack((hullP,hullP[0]))\n",
      "plt.plot(hullP.T[0],hullP.T[1],'r-', ms=20, markerfacecolor='None')\n",
      "\n",
      "plt.axis('equal')"
     ],
     "language": "python",
     "metadata": {},
     "outputs": [
      {
       "metadata": {},
       "output_type": "pyout",
       "prompt_number": 24,
       "text": [
        "(-0.5, 2.5, -0.5, 2.5)"
       ]
      }
     ],
     "prompt_number": 24
    },
    {
     "cell_type": "code",
     "collapsed": false,
     "input": [
      "points = np.atleast_2d(np.loadtxt(\"../MinAreaRectangleTest4.txt\"));\n",
      "hullP = np.atleast_2d(np.loadtxt(\"../MinAreaRectangleTest4Out.txt\"));\n",
      "fig = plt.figure(4,(10,10))\n",
      "plt.scatter(points.T[0],points.T[1])\n",
      "hullP = np.vstack((hullP,hullP[0]))\n",
      "plt.plot(hullP.T[0],hullP.T[1],'r-', ms=20, markerfacecolor='None')\n",
      "\n",
      "plt.axis('equal')"
     ],
     "language": "python",
     "metadata": {},
     "outputs": [
      {
       "metadata": {},
       "output_type": "pyout",
       "prompt_number": 25,
       "text": [
        "(-0.20000000000000001,\n",
        " 1.2000000000000002,\n",
        " -0.20000000000000001,\n",
        " 1.2000000000000002)"
       ]
      }
     ],
     "prompt_number": 25
    },
    {
     "cell_type": "code",
     "collapsed": false,
     "input": [
      "points = np.atleast_2d(np.loadtxt(\"../MinAreaRectangleTest5.txt\"));\n",
      "hullP = np.atleast_2d(np.loadtxt(\"../MinAreaRectangleTest5Out.txt\"));\n",
      "fig = plt.figure(5,(10,10))\n",
      "plt.scatter(points.T[0],points.T[1])\n",
      "hullP = np.vstack((hullP,hullP[0]))\n",
      "plt.plot(hullP.T[0],hullP.T[1],'r-', ms=20, markerfacecolor='None')\n",
      "\n",
      "plt.axis('equal')"
     ],
     "language": "python",
     "metadata": {},
     "outputs": [
      {
       "metadata": {},
       "output_type": "pyout",
       "prompt_number": 26,
       "text": [
        "(-0.20000000000000001, 1.2000000000000002, -1.5, 1.5)"
       ]
      }
     ],
     "prompt_number": 26
    },
    {
     "cell_type": "code",
     "collapsed": false,
     "input": [
      "points = np.atleast_2d(np.loadtxt(\"../MinAreaRectangleTest6.txt\"));\n",
      "hullP = np.atleast_2d(np.loadtxt(\"../MinAreaRectangleTest6Out.txt\"));\n",
      "fig = plt.figure(6,(10,10))\n",
      "plt.scatter(points.T[0],points.T[1])\n",
      "hullP = np.vstack((hullP,hullP[0]))\n",
      "plt.plot(hullP.T[0],hullP.T[1],'r-', ms=20, markerfacecolor='None')\n",
      "\n",
      "plt.axis('equal')"
     ],
     "language": "python",
     "metadata": {},
     "outputs": [
      {
       "metadata": {},
       "output_type": "pyout",
       "prompt_number": 27,
       "text": [
        "(-0.5, 2.5, -0.5, 2.5)"
       ]
      }
     ],
     "prompt_number": 27
    },
    {
     "cell_type": "code",
     "collapsed": false,
     "input": [
      "points = np.atleast_2d(np.loadtxt(\"../MinAreaRectangleTest7.txt\"));\n",
      "hullP = np.atleast_2d(np.loadtxt(\"../MinAreaRectangleTest7Out.txt\"));\n",
      "fig = plt.figure(7,(10,10))\n",
      "plt.scatter(points.T[0],points.T[1])\n",
      "hullP = np.vstack((hullP,hullP[0]))\n",
      "plt.plot(hullP.T[0],hullP.T[1],'r-', ms=20, markerfacecolor='None')\n",
      "\n",
      "#plt.axis('equal')"
     ],
     "language": "python",
     "metadata": {},
     "outputs": [
      {
       "metadata": {},
       "output_type": "pyout",
       "prompt_number": 28,
       "text": [
        "[<matplotlib.lines.Line2D at 0x7fe420ff4f28>]"
       ]
      }
     ],
     "prompt_number": 28
    },
    {
     "cell_type": "code",
     "collapsed": false,
     "input": [
      "points = np.atleast_2d(np.loadtxt(\"../MinAreaRectangleTest8.txt\"));\n",
      "hullP = np.atleast_2d(np.loadtxt(\"../MinAreaRectangleTest8Out.txt\"));\n",
      "fig = plt.figure(8,(10,10))\n",
      "plt.scatter(points.T[0],points.T[1])\n",
      "hullP = np.vstack((hullP,hullP[0]))\n",
      "plt.plot(hullP.T[0],hullP.T[1],'r-', ms=20, markerfacecolor='None')\n",
      "#plt.axis('equal')"
     ],
     "language": "python",
     "metadata": {},
     "outputs": [
      {
       "metadata": {},
       "output_type": "pyout",
       "prompt_number": 29,
       "text": [
        "[<matplotlib.lines.Line2D at 0x7fe41f521f28>]"
       ]
      }
     ],
     "prompt_number": 29
    },
    {
     "cell_type": "code",
     "collapsed": false,
     "input": [
      "points = np.atleast_2d(np.loadtxt(\"../MinAreaRectangleTest10.txt\"));\n",
      "hullP = np.atleast_2d(np.loadtxt(\"../MinAreaRectangleTest10Out.txt\"));\n",
      "fig = plt.figure(10,(10,10))\n",
      "plt.scatter(points.T[0],points.T[1])\n",
      "hullP = np.vstack((hullP,hullP[0]))\n",
      "plt.plot(hullP.T[0],hullP.T[1],'r-', ms=20, markerfacecolor='None')\n",
      "#plt.axis('equal')"
     ],
     "language": "python",
     "metadata": {},
     "outputs": [
      {
       "metadata": {},
       "output_type": "pyout",
       "prompt_number": 29,
       "text": [
        "[<matplotlib.lines.Line2D at 0x7f5d90135470>]"
       ]
      }
     ],
     "prompt_number": 29
    },
    {
     "cell_type": "code",
     "collapsed": false,
     "input": [
      "points = np.atleast_2d(np.loadtxt(\"../MinAreaRectangleTest11.txt\"));\n",
      "hullP = np.atleast_2d(np.loadtxt(\"../MinAreaRectangleTest11Out.txt\"));\n",
      "fig = plt.figure(11,(10,10))\n",
      "plt.scatter(points.T[0],points.T[1])\n",
      "hullP = np.vstack((hullP,hullP[0]))\n",
      "plt.plot(hullP.T[0],hullP.T[1],'r-', ms=20, markerfacecolor='None')\n",
      "#plt.axis('equal')"
     ],
     "language": "python",
     "metadata": {},
     "outputs": []
    },
    {
     "cell_type": "code",
     "collapsed": false,
     "input": [
      "points = np.atleast_2d(np.loadtxt(\"../MinAreaRectangleTest12.txt\"));\n",
      "hullP = np.atleast_2d(np.loadtxt(\"../MinAreaRectangleTest12Out.txt\"));\n",
      "fig = plt.figure(12,(10,10))\n",
      "plt.scatter(points.T[0],points.T[1])\n",
      "hullP = np.vstack((hullP,hullP[0]))\n",
      "plt.plot(hullP.T[0],hullP.T[1],'r-', ms=20, markerfacecolor='None')\n",
      "plt.axis('equal')"
     ],
     "language": "python",
     "metadata": {},
     "outputs": [
      {
       "metadata": {},
       "output_type": "pyout",
       "prompt_number": 4,
       "text": [
        "(0.0, 4.0, -3.5, 1.0)"
       ]
      }
     ],
     "prompt_number": 4
    },
    {
     "cell_type": "code",
     "collapsed": false,
     "input": [
      "points = np.atleast_2d(np.loadtxt(\"../DiameterTest1.txt\"));\n",
      "OOBB = np.atleast_2d(np.loadtxt(\"../DiameterTest1Out.txt\"));\n",
      "sampled = np.atleast_2d(np.loadtxt(\"../DiameterTest1Out2.txt\"));\n",
      "\n",
      "K_min = OOBB[0,0:3]\n",
      "K_max = OOBB[1,0:3]\n",
      "A_IK = OOBB[2:,0:3]\n",
      "center = np.zeros((3,));\n",
      "print(A_IK,K_min,K_max,center)\n",
      "\n",
      "fig = plt.figure(1,(10,10))\n",
      "ax = Axes3D(fig)\n",
      "ax.scatter(points.T[0],points.T[1],points.T[2],c='b')\n",
      "ax.scatter(sampled.T[0],sampled.T[1],sampled.T[2],c='r', marker='o', s=200)\n",
      "plotCube(K_min,K_max,center,A_IK) # A_IK = R_KI (rotation from I to K)\n",
      "plotAxis(center,A_IK,1)\n",
      "plotAxis(center,np.identity(3),0.5)\n",
      "axisEqual3D(ax)\n"
     ],
     "language": "python",
     "metadata": {},
     "outputs": [
      {
       "output_type": "stream",
       "stream": "stdout",
       "text": [
        "[[  1.92808330e-03   9.99997796e-01   8.31002599e-04]\n",
        " [  9.99996844e-01  -1.92941845e-03   1.60887523e-03]\n",
        " [  1.61047504e-03   8.27897931e-04  -9.99998360e-01]] [-0.99316946 -0.99514351 -0.99913574] [ 0.99573536  0.99879283  0.99756498] [ 0.  0.  0.]\n",
        "[ 0.00128295  0.00182466 -0.00078538]"
       ]
      },
      {
       "output_type": "stream",
       "stream": "stdout",
       "text": [
        "\n"
       ]
      }
     ],
     "prompt_number": 23
    },
    {
     "cell_type": "code",
     "collapsed": false,
     "input": [
      "points = np.atleast_2d(np.loadtxt(\"../DiameterTest2.txt\"));\n",
      "OOBB = np.atleast_2d(np.loadtxt(\"../DiameterTest2Out.txt\"));\n",
      "sampled = np.atleast_2d(np.loadtxt(\"../DiameterTest2Out2.txt\"));\n",
      "\n",
      "K_min = OOBB[0,0:3]\n",
      "K_max = OOBB[1,0:3]\n",
      "A_IK = OOBB[2:,0:3]\n",
      "center = np.zeros((3,));\n",
      "print(A_IK,K_min,K_max,center)\n",
      "\n",
      "fig = plt.figure(2,(10,10))\n",
      "ax = Axes3D(fig)\n",
      "ax.scatter(points.T[0],points.T[1],points.T[2],c='b')\n",
      "ax.scatter(sampled.T[0],sampled.T[1],sampled.T[2],c='r', marker='o', s=200)\n",
      "plotCube(K_min,K_max,center,A_IK) # A_IK = R_KI (rotation from I to K)\n",
      "plotAxis(center,A_IK,1)\n",
      "plotAxis(center,np.identity(3),0.5)\n",
      "axisEqual3D(ax)"
     ],
     "language": "python",
     "metadata": {},
     "outputs": [
      {
       "output_type": "stream",
       "stream": "stdout",
       "text": [
        "[[ -3.77906862e-04   5.51819883e-04  -9.99999776e-01]\n",
        " [ -4.56465737e-04  -9.99999744e-01  -5.51647363e-04]\n",
        " [ -9.99999824e-01   4.56257164e-04   3.78158652e-04]] [-0.9992613  -0.99997177 -0.99976107] [ 1.00015176  0.99988911  1.00009392] [ 0.  0.  0.]\n",
        "[  4.45232719e-04  -4.13304799e-05   1.66428705e-04]"
       ]
      },
      {
       "output_type": "stream",
       "stream": "stdout",
       "text": [
        "\n"
       ]
      }
     ],
     "prompt_number": 10
    },
    {
     "cell_type": "code",
     "collapsed": false,
     "input": [
      "#points = np.atleast_2d(np.loadtxt(\"../DiameterTest3.txt\"));\n",
      "OOBB = np.atleast_2d(np.loadtxt(\"../DiameterTest3Out.txt\"));\n",
      "sampled = np.atleast_2d(np.loadtxt(\"../DiameterTest3Out2.txt\"));\n",
      "\n",
      "K_min = OOBB[0,0:3]\n",
      "K_max = OOBB[1,0:3]\n",
      "A_IK = OOBB[2:,0:3]\n",
      "center = np.zeros((3,));\n",
      "print(A_IK,K_min,K_max,center)\n",
      "\n",
      "fig = plt.figure(3,(10,10))\n",
      "ax = Axes3D(fig)\n",
      "#ax.scatter(points.T[0],points.T[1],points.T[2],c='b')\n",
      "ax.scatter(sampled.T[0],sampled.T[1],sampled.T[2],c='r', marker='o', s=200)\n",
      "plotCube(K_min,K_max,center,A_IK) # A_IK = R_KI (rotation from I to K)\n",
      "plotAxis(center,A_IK,1)\n",
      "plotAxis(center,np.identity(3),0.5)\n",
      "axisEqual3D(ax)"
     ],
     "language": "python",
     "metadata": {},
     "outputs": [
      {
       "output_type": "stream",
       "stream": "stdout",
       "text": [
        "[[ 0.94521616  0.00269758 -0.32643397]\n",
        " [-0.02105905 -0.9973791  -0.06922031]\n",
        " [-0.32576514  0.07230254 -0.94268203]] [-2.32737597 -1.89934064 -3.06626709] [ 3.33764264  0.83700384  2.54623918] [ 0.  0.  0.]\n",
        "[ 0.50513333 -0.5311684  -0.26001396]"
       ]
      },
      {
       "output_type": "stream",
       "stream": "stdout",
       "text": [
        "\n"
       ]
      }
     ],
     "prompt_number": 9
    },
    {
     "cell_type": "code",
     "collapsed": false,
     "input": [
      "plt.close(\"all\")\n",
      "points = np.atleast_2d(np.loadtxt(\"../DiameterTest4.txt\"));\n",
      "OOBB = np.atleast_2d(np.loadtxt(\"../DiameterTest4Out.txt\"));\n",
      "sampled = np.atleast_2d(np.loadtxt(\"../DiameterTest4Out2.txt\"));\n",
      "\n",
      "K_min = OOBB[0,0:3]\n",
      "K_max = OOBB[1,0:3]\n",
      "A_IK = OOBB[2:,0:3]\n",
      "center = np.zeros((3,));\n",
      "print(A_IK,K_min,K_max,center)\n",
      "\n",
      "fig = plt.figure(4,(10,10))\n",
      "ax = Axes3D(fig)\n",
      "ax.scatter(points.T[0],points.T[1],points.T[2],c='b')\n",
      "ax.scatter(sampled.T[0],sampled.T[1],sampled.T[2],c='r', marker='o', s=200)\n",
      "plotCube(K_min,K_max,center,A_IK) # A_IK = R_KI (rotation from I to K)\n",
      "plotAxis(center,A_IK,1)\n",
      "plotAxis(center,np.identity(3),0.5)\n",
      "axisEqual3D(ax)\n",
      "\n",
      "\n",
      "# Somethings are wrong with min area rectangle (load it)\n",
      "# points = np.atleast_2d(np.loadtxt(\"../computeMVBBIn.txt\"));\n",
      "# hullP = np.atleast_2d(np.loadtxt(\"../computeMVBBRect.txt\"));\n",
      "# fig = plt.figure(8,(10,10))\n",
      "# plt.scatter(points.T[0],points.T[1])\n",
      "# hullP = np.vstack((hullP,hullP[0]))\n",
      "# plt.plot(hullP.T[0],hullP.T[1],'r-', ms=20, markerfacecolor='None')\n",
      "#plt.axis('equal')"
     ],
     "language": "python",
     "metadata": {},
     "outputs": [
      {
       "output_type": "stream",
       "stream": "stdout",
       "text": [
        "[[-0.34451304 -0.24446597 -0.90639239]\n",
        " [ 0.15400116 -0.96713619  0.20231467]\n",
        " [-0.92606393 -0.06988544  0.37083907]] [-2.29723646 -2.64940905 -2.15309511] [ 3.36778215  2.96309722  0.58324937] [ 0.  0.  0.]\n",
        "[ 0.53527284  0.15684409 -0.78492287]"
       ]
      },
      {
       "output_type": "stream",
       "stream": "stdout",
       "text": [
        "\n"
       ]
      },
      {
       "output_type": "stream",
       "stream": "stderr",
       "text": [
        "/opt/python3.4env/lib/python3.4/site-packages/mpl_toolkits/mplot3d/axes3d.py:1094: FutureWarning: comparison to `None` will result in an elementwise object comparison in the future.\n",
        "  if self.button_pressed in self._rotate_btn:\n"
       ]
      }
     ],
     "prompt_number": 8
    },
    {
     "cell_type": "code",
     "collapsed": false,
     "input": [
      "plt.close(\"all\")\n",
      "\n",
      "OOBB = np.atleast_2d(np.loadtxt(\"../DiameterTest5Out.txt\"));\n",
      "sampled = np.atleast_2d(np.loadtxt(\"../DiameterTest5Out2.txt\"));\n",
      "\n",
      "K_min = OOBB[0,0:3]\n",
      "K_max = OOBB[1,0:3]\n",
      "A_IK = OOBB[2:,0:3]\n",
      "center = np.zeros((3,));\n",
      "print(A_IK,K_min,K_max,center)\n",
      "\n",
      "fig = plt.figure(5,(10,10))\n",
      "ax = Axes3D(fig)\n",
      "# ax.scatter(points.T[0],points.T[1],points.T[2],c='b')\n",
      "ax.scatter(sampled.T[0],sampled.T[1],sampled.T[2],c='r', marker='o', s=200)\n",
      "plotCube(K_min,K_max,center,A_IK) # A_IK = R_KI (rotation from I to K)\n",
      "plotAxis(center,A_IK,1)\n",
      "plotAxis(center,np.identity(3),0.5)\n",
      "axisEqual3D(ax)"
     ],
     "language": "python",
     "metadata": {},
     "outputs": [
      {
       "output_type": "stream",
       "stream": "stdout",
       "text": [
        "[[ 0.55851992 -0.65368427 -0.51063918]\n",
        " [-0.70731683 -0.6968971   0.11847923]\n",
        " [-0.43331097  0.29501068 -0.8515928 ]] [  192.71633437 -1020.91538709  -290.09405895] [ 1121.74051832   590.14630896   188.82789762] [ 0.  0.  0.]\n",
        "[ 657.22842635 -215.38453906  -50.63308067]"
       ]
      },
      {
       "output_type": "stream",
       "stream": "stdout",
       "text": [
        "\n"
       ]
      }
     ],
     "prompt_number": 13
    },
    {
     "cell_type": "code",
     "collapsed": false,
     "input": [
      "plt.close(\"all\")\n",
      "\n",
      "OOBB = np.atleast_2d(np.loadtxt(\"../DiameterTest6Out.txt\"));\n",
      "sampled = np.atleast_2d(np.loadtxt(\"../DiameterTest6Out2.txt\"));\n",
      "\n",
      "K_min = OOBB[0,0:3]\n",
      "K_max = OOBB[1,0:3]\n",
      "A_IK = OOBB[2:,0:3]\n",
      "center = np.zeros((3,));\n",
      "print(A_IK,K_min,K_max,center)\n",
      "\n",
      "fig = plt.figure(5,(10,10))\n",
      "ax = Axes3D(fig)\n",
      "# ax.scatter(points.T[0],points.T[1],points.T[2],c='b')\n",
      "ax.scatter(sampled.T[0],sampled.T[1],sampled.T[2],c='r', marker='o', s=200)\n",
      "plotCube(K_min,K_max,center,A_IK) # A_IK = R_KI (rotation from I to K)\n",
      "plotAxis(center,A_IK,1)\n",
      "plotAxis(center,np.identity(3),0.5)\n",
      "axisEqual3D(ax)"
     ],
     "language": "python",
     "metadata": {},
     "outputs": [
      {
       "output_type": "stream",
       "stream": "stdout",
       "text": [
        "[[-0.26067635 -0.51579687  0.81608911]\n",
        " [ 0.96539685 -0.14586404  0.21617726]\n",
        " [ 0.0075345   0.84420215  0.53597198]] [ 0.02563387 -0.045806   -0.05215631] [ 0.19323253  0.06807014  0.07398787] [ 0.  0.  0.]\n",
        "[ 0.1094332   0.01113207  0.01091578]"
       ]
      },
      {
       "output_type": "stream",
       "stream": "stdout",
       "text": [
        "\n"
       ]
      }
     ],
     "prompt_number": 30
    },
    {
     "cell_type": "code",
     "collapsed": false,
     "input": [
      "Ry = Transformations.quaternion_about_axis(m.pi/2,[0,1,0]);\n",
      "Rz = Transformations.quaternion_about_axis(m.pi/2,[1,0,0]);\n",
      "R = Transformations.quaternion_multiply(Rz,Ry);\n",
      "print(R)\n",
      "print(Transformations.quaternion_matrix(R)[0:3,0:3].dot(np.array([1,0,0]) ))\n",
      "print(Transformations.quaternion_matrix(R)[0:3,0:3].dot(np.array([0,1,0]) ))"
     ],
     "language": "python",
     "metadata": {},
     "outputs": []
    },
    {
     "cell_type": "code",
     "collapsed": false,
     "input": [
      "points = np.atleast_2d(np.loadtxt(\"../MVBBTest1.txt\"));\n",
      "OOBB = np.atleast_2d(np.loadtxt(\"../MVBBTest1Out.txt\"));\n",
      "\n",
      "K_min = OOBB[0,0:3]\n",
      "K_max = OOBB[1,0:3]\n",
      "A_IK = OOBB[2:,0:3]\n",
      "center = np.zeros((3,));\n",
      "print(A_IK,K_min,K_max,center)\n",
      "\n",
      "fig = plt.figure(1,(10,10))\n",
      "ax = Axes3D(fig)\n",
      "ax.scatter(points.T[0],points.T[1],points.T[2],c='b')\n",
      "plotCube(K_min,K_max,center,A_IK) # A_IK = R_KI (rotation from I to K)\n",
      "plotAxis(center,A_IK,1)\n",
      "plotAxis(center,np.identity(3),0.5)\n",
      "axisEqual3D(ax)"
     ],
     "language": "python",
     "metadata": {},
     "outputs": [
      {
       "output_type": "stream",
       "stream": "stdout",
       "text": [
        "[[-0.93894279 -0.31291763 -0.14306989]\n",
        " [-0.03530683 -0.32599271  0.94471275]\n",
        " [-0.34225701  0.89208257  0.29504037]] [-1.37922702 -0.76020592 -0.6010551 ] [ 0.51916525  0.61285669  0.54538999] [ 0.  0.  0.]\n",
        "[-0.43003088 -0.07367461 -0.02783256]"
       ]
      },
      {
       "output_type": "stream",
       "stream": "stdout",
       "text": [
        "\n"
       ]
      }
     ],
     "prompt_number": 21
    },
    {
     "cell_type": "code",
     "collapsed": false,
     "input": [
      "points = np.atleast_2d(np.loadtxt(\"../MVBBTest2.txt\"));\n",
      "OOBB = np.atleast_2d(np.loadtxt(\"../MVBBTest2Out.txt\"));\n",
      "\n",
      "K_min = OOBB[0,0:3]\n",
      "K_max = OOBB[1,0:3]\n",
      "A_IK = OOBB[2:,0:3]\n",
      "center = np.zeros((3,));\n",
      "print(A_IK,K_min,K_max,center)\n",
      "\n",
      "fig = plt.figure(2,(10,10))\n",
      "ax = Axes3D(fig)\n",
      "ax.scatter(points.T[0],points.T[1],points.T[2],c='b')\n",
      "plotCube(K_min,K_max,center,A_IK) # A_IK = R_KI (rotation from I to K)\n",
      "plotAxis(center,A_IK,1)\n",
      "plotAxis(center,np.identity(3),0.5)\n",
      "axisEqual3D(ax)"
     ],
     "language": "python",
     "metadata": {},
     "outputs": [
      {
       "output_type": "stream",
       "stream": "stdout",
       "text": [
        "[[ 0.27866265 -0.93271683 -0.22888085]\n",
        " [-0.54875024 -0.35022144  0.75909032]\n",
        " [-0.7881753  -0.0859317  -0.60942222]] [-0.64261932 -1.66830231 -0.44631466] [ 1.36006564  0.3270688   1.54994174] [ 0.  0.  0.]\n",
        "[ 0.35872316 -0.67061676  0.55181354]"
       ]
      },
      {
       "output_type": "stream",
       "stream": "stdout",
       "text": [
        "\n"
       ]
      }
     ],
     "prompt_number": 17
    },
    {
     "cell_type": "code",
     "collapsed": false,
     "input": [
      "points = np.atleast_2d(np.loadtxt(\"../MVBBTest3.txt\"));\n",
      "OOBB = np.atleast_2d(np.loadtxt(\"../MVBBTest3Out.txt\"));\n",
      "\n",
      "K_min = OOBB[0,0:3]\n",
      "K_max = OOBB[1,0:3]\n",
      "A_IK = OOBB[2:,0:3]\n",
      "center = np.zeros((3,));\n",
      "print(A_IK,K_min,K_max,center)\n",
      "\n",
      "fig = plt.figure(3,(10,10))\n",
      "ax = Axes3D(fig)\n",
      "ax.scatter(points.T[0],points.T[1],points.T[2],c='b')\n",
      "plotCube(K_min,K_max,center,A_IK) # A_IK = R_KI (rotation from I to K)\n",
      "plotAxis(center,A_IK,1)\n",
      "plotAxis(center,np.identity(3),0.5)\n",
      "axisEqual3D(ax)"
     ],
     "language": "python",
     "metadata": {},
     "outputs": [
      {
       "output_type": "stream",
       "stream": "stdout",
       "text": [
        "[[-0.86022616 -0.20319879 -0.46767639]\n",
        " [-0.50257424  0.49290677  0.71025491]\n",
        " [ 0.08619792  0.84602196 -0.52613378]] [ 0.92411454  0.41557335 -0.69135441] [ 1.0153881   0.47700973 -0.65271786] [ 0.  0.  0.]\n",
        "[ 0.96975132  0.44629154 -0.67203614]"
       ]
      },
      {
       "output_type": "stream",
       "stream": "stdout",
       "text": [
        "\n"
       ]
      }
     ],
     "prompt_number": 18
    },
    {
     "cell_type": "code",
     "collapsed": false,
     "input": [
      "#points = np.atleast_2d(np.loadtxt(\"../MVBBTest4.txt\"));\n",
      "OOBB = np.atleast_2d(np.loadtxt(\"../MVBBTest4Out.txt\"));\n",
      "\n",
      "K_min = OOBB[0,0:3]\n",
      "K_max = OOBB[1,0:3]\n",
      "A_IK = OOBB[2:,0:3]\n",
      "center = np.zeros((3,));\n",
      "print(A_IK,K_min,K_max,center)\n",
      "\n",
      "fig = plt.figure(4,(10,10))\n",
      "ax = Axes3D(fig)\n",
      "#ax.scatter(points.T[0],points.T[1],points.T[2],c='b')\n",
      "plotCube(K_min,K_max,center,A_IK) # A_IK = R_KI (rotation from I to K)\n",
      "plotAxis(center,A_IK,1)\n",
      "plotAxis(center,np.identity(3),0.5)\n",
      "axisEqual3D(ax)"
     ],
     "language": "python",
     "metadata": {},
     "outputs": [
      {
       "output_type": "stream",
       "stream": "stdout",
       "text": [
        "[[ 0.72261187 -0.43070324 -0.54067255]\n",
        " [-0.69081925 -0.4776944  -0.54274932]\n",
        " [-0.02451236  0.76570411 -0.64272573]] [ 175.31056593 -401.54766317 -578.66024522] [ 966.32670468   21.45036885  992.9832851 ] [ 0.  0.  0.]\n",
        "[ 570.81863531 -190.04864716  207.16151994]"
       ]
      },
      {
       "output_type": "stream",
       "stream": "stdout",
       "text": [
        "\n"
       ]
      }
     ],
     "prompt_number": 14
    },
    {
     "cell_type": "code",
     "collapsed": false,
     "input": [],
     "language": "python",
     "metadata": {},
     "outputs": []
    }
   ],
   "metadata": {}
  }
 ]
}
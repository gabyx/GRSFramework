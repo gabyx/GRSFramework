{
 "metadata": {
  "name": ""
 },
 "nbformat": 3,
 "nbformat_minor": 0,
 "worksheets": [
  {
   "cells": [
    {
     "cell_type": "code",
     "collapsed": false,
     "input": [
      "\n",
      "import numpy as np\n",
      "import matplotlib as mpl\n",
      "import matplotlib.cm as cm\n",
      "import matplotlib.pyplot as plt\n",
      "import matplotlib.colors as colors\n",
      "\n",
      "#this works apparently only for savefig stuff\n",
      "def cm2inch(*tupl):\n",
      "    inch = 2.54\n",
      "    if type(tupl[0]) == tuple:\n",
      "        return tuple(i/inch for i in tupl[0])\n",
      "    else:\n",
      "        return tuple(i/inch for i in tupl)\n",
      "    \n",
      "mpl.rcParams['figure.figsize']=cm2inch(16.0,8.0)    #(6.0,4.0)\n",
      "mpl.rcParams['font.size']=10                #10 \n",
      "mpl.rcParams['savefig.dpi']=100             #72 \n",
      "\n",
      "mpl.rcParams['figure.subplot.bottom']=.1    #.125\n",
      "\n",
      "\n",
      "plt.rc('font', family='serif')\n",
      "plt.rc('text', usetex=True)\n",
      "\n",
      "#inline Shit\n",
      "%matplotlib inline\n",
      "%config InlineBackend.figure_format='svg'\n",
      "%config InlineBackend.rc = {'figure.facecolor': 'white', 'figure.subplot.bottom': 0.125, 'figure.edgecolor': 'white', 'savefig.dpi': 300, 'figure.figsize': (12.0, 8.0), 'font.size': 10}\n",
      "\n",
      "#GUi shit\n",
      "%matplotlib tk"
     ],
     "language": "python",
     "metadata": {},
     "outputs": [],
     "prompt_number": 27
    },
    {
     "cell_type": "code",
     "collapsed": false,
     "input": [
      "import math\n",
      "\n",
      "from mpl_toolkits.mplot3d import Axes3D\n",
      "from mpl_toolkits.axes_grid.anchored_artists import AnchoredText\n",
      "import random\n",
      "\n",
      "\n",
      "\n",
      "def add_at(ax, t, loc=2):\n",
      "    fp = dict(size=10)\n",
      "    _at = AnchoredText(t, loc=loc, prop=fp)\n",
      "    ax.add_artist(_at)\n",
      "    return _at\n",
      "\n",
      "def fun(x, y):\n",
      "  return x + y - math.sqrt(x**2+y**2)\n",
      "\n",
      "plt.close('all')\n",
      "fig = plt.figure(figsize=cm2inch(8,12))\n",
      "ax = fig.add_subplot(111, projection='3d')\n",
      "#ax = Axes3D(fig);\n",
      "x = y = np.arange(-2.0, 3.0, 0.05)\n",
      "X, Y = np.meshgrid(x, y)\n",
      "zs = np.array([fun(x,y) for x,y in zip(np.ravel(X), np.ravel(Y))])\n",
      "Z = zs.reshape(X.shape)\n",
      "\n",
      "ax.plot_surface(X, Y, Z,color='grey')\n",
      "\n",
      "ax.set_xlabel(r'$x$')\n",
      "ax.set_ylabel(r'$y$')\n",
      "ax.set_zlabel(r'$\\phi_{FB}(x,y)$')\n",
      "\n",
      "ax.plot([0,3],[0,0],color='b')\n",
      "ax.plot([0,0],[3,0],color='b')\n",
      "\n",
      "#add_at(ax,r'$\\phi_{FB}(x,y) = x + y - \\sqrt{x^2+y^2}$')\n",
      "fig.subplots_adjust(left=0, bottom=0, right=1, top=1, wspace=1, hspace=1)\n",
      "plt.show()"
     ],
     "language": "python",
     "metadata": {},
     "outputs": [],
     "prompt_number": 35
    },
    {
     "cell_type": "code",
     "collapsed": false,
     "input": [
      "fig = plt.figure(figsize=cm2inch(8,12))\n",
      "plt.plot(["
     ],
     "language": "python",
     "metadata": {},
     "outputs": []
    }
   ],
   "metadata": {}
  }
 ]
}
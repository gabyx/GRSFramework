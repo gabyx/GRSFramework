{
 "metadata": {
  "name": ""
 },
 "nbformat": 3,
 "nbformat_minor": 0,
 "worksheets": [
  {
   "cells": [
    {
     "cell_type": "heading",
     "level": 1,
     "metadata": {},
     "source": [
      "Plot Simfile and SimulationData"
     ]
    },
    {
     "cell_type": "code",
     "collapsed": false,
     "input": [
      "import sys,os\n",
      "\n",
      "import numpy as np\n",
      "import matplotlib as mpl\n",
      "import matplotlib.cm as cm\n",
      "import matplotlib.pyplot as plt\n",
      "import matplotlib.colors as colors\n",
      "import matplotlib.cm as cmx\n",
      "\n",
      "#this works apparently only for savefig stuff\n",
      "mpl.rcParams['figure.figsize']=(6.0,4.0)    #(6.0,4.0)\n",
      "mpl.rcParams['font.size']=10                #10 \n",
      "mpl.rcParams['savefig.dpi']=400             #72 \n",
      "mpl.rcParams['figure.subplot.bottom']=.1    #.125\n",
      "\n",
      "\n",
      "plt.rc('font', family='serif')\n",
      "plt.rc('text', usetex=True)\n",
      "\n",
      "#inline Shit\n",
      "%matplotlib inline\n",
      "%config InlineBackend.figure_format='svg'\n",
      "%config InlineBackend.rc = {'figure.facecolor': 'white', 'figure.subplot.bottom': 0.125, 'figure.edgecolor': 'white', 'savefig.dpi': 400, 'figure.figsize': (12.0, 8.0), 'font.size': 10}\n",
      "\n",
      "#GUi shit\n",
      "%matplotlib tk\n",
      "\n",
      "mpl.get_configdir()\n"
     ],
     "language": "python",
     "metadata": {},
     "outputs": [
      {
       "metadata": {},
       "output_type": "pyout",
       "prompt_number": 1,
       "text": [
        "'/home/zfmgpu/.config/matplotlib'"
       ]
      }
     ],
     "prompt_number": 1
    },
    {
     "cell_type": "heading",
     "level": 3,
     "metadata": {},
     "source": [
      "Plot Simulation Data"
     ]
    },
    {
     "cell_type": "code",
     "collapsed": false,
     "input": [
      "from SimFileReader import * \n",
      "\n",
      "def plotDataIteration(simDataIteration,dataRange=[0,1e5],steps=100, plotOpts={'color':'r','marker':'.' }):\n",
      "    \n",
      "    #plot first residual\n",
      "    \n",
      "    iterationDataTime = simDataIteration[0];\n",
      "    \n",
      "    #clamp\n",
      "    dataRange[0] = min(np.shape(iterationDataTime)[0]-1, max(0,dataRange[0]) )\n",
      "    dataRange[1] = max(0,min(np.shape(iterationDataTime)[0]-1,dataRange[1]))\n",
      "    if(dataRange[1]<dataRange[0]): \n",
      "        dataRange[1]=dataRange[0]\n",
      "    \n",
      "    print('DataRange:', dataRange)\n",
      "    nth = int((dataRange[1]-dataRange[0]) / steps);\n",
      "    if(nth<=1.0):\n",
      "        nth = 1;\n",
      "    iterationCounter = np.arange(dataRange[0],dataRange[1]+1,nth,dtype=int)\n",
      "    #print(iterationCounter)\n",
      "    print(\"Orig. Iterations: \", np.shape(iterationDataTime))\n",
      "   \n",
      "        \n",
      "    #iterationDataTime2 = iterationDataTime[dataRange[0]:dataRange[1]:nth]\n",
      "    print(\"Clamped Iterations: \", np.shape(iterationCounter))\n",
      "    plt.semilogy(iterationCounter,iterationDataTime[iterationCounter],**plotOpts)\n",
      "    \n",
      "    "
     ],
     "language": "python",
     "metadata": {},
     "outputs": [],
     "prompt_number": 2
    },
    {
     "cell_type": "code",
     "collapsed": false,
     "input": [
      "plt.close('all')\n",
      "scriptpath = \"./\"\n",
      "# Add the directory containing your module to the Python path (wants absolute paths)\n",
      "sys.path.append(os.path.abspath(scriptpath))\n",
      "\n",
      "from SimFileReader import *   \n",
      "\n",
      "bodyRange = [0,3]\n",
      "timeRange = [0,50]\n",
      "\n",
      "\n",
      "folderNumber=0\n",
      "folderPath = \"SimData_7500DampedTest/Test%d/\" % folderNumber\n",
      "simDataIterationFile = folderPath + \"SimDataIteration.dat\";\n",
      "plt.figure()\n",
      "pltOpt = {'color':'r', 'marker':'.', 'markersize': 2,'markeredgewidth': 0, 'markeredgecolor':'none', 'linewidth':0.4}\n",
      "pltOpt['label']=r'$\\alpha=1.8,d_{N}^{-1}=d_{T}^{-1}=1e-7, \\quad T%d$' % folderNumber\n",
      "simDataIteration = ReadInSimDataIterationFile(simDataIterationFile)\n",
      "plotDataIteration(simDataIteration,[0,10000],5000,pltOpt);\n",
      "\n",
      "\n",
      "folderNumber=1\n",
      "folderPath = \"SimData_7500DampedTest/Test%d/\" % folderNumber\n",
      "simDataIterationFile = folderPath + \"SimDataIteration.dat\";\n",
      "pltOpt['color']='g'\n",
      "pltOpt['label']=r'$\\alpha=1.8,d_{N}^{-1}=d_{T}^{-1}=1e-4, \\quad T%d$' % folderNumber\n",
      "simDataIteration = ReadInSimDataIterationFile(simDataIterationFile)\n",
      "plotDataIteration(simDataIteration,[0,10000],5000,pltOpt);\n",
      "\n",
      "\n",
      "folderNumber=2\n",
      "folderPath = \"SimData_7500DampedTest/Test%d/\" % folderNumber\n",
      "simDataIterationFile = folderPath + \"SimDataIteration.dat\";\n",
      "pltOpt['color']='b'\n",
      "pltOpt['label']=r'$\\alpha=1.1,d_{N}^{-1}=d_{T}^{-1}=1e-4, \\quad T%d$' % folderNumber\n",
      "simDataIteration = ReadInSimDataIterationFile(simDataIterationFile)\n",
      "plotDataIteration(simDataIteration,[0,10000],5000,pltOpt);\n",
      "\n",
      "\n",
      "folderNumber=3\n",
      "folderPath = \"SimData_7500DampedTest/Test%d/\" % folderNumber\n",
      "simDataIterationFile = folderPath + \"SimDataIteration.dat\";\n",
      "pltOpt['color']='y'\n",
      "pltOpt['label']=r'$\\alpha=1.1,d_{N}^{-1}=d_{T}^{-1}=1e-6, \\quad T%d$' % folderNumber\n",
      "simDataIteration = ReadInSimDataIterationFile(simDataIterationFile)\n",
      "plotDataIteration(simDataIteration,[0,10000],5000,pltOpt);\n",
      "\n",
      "\n",
      "folderNumber=4\n",
      "folderPath = \"SimData_7500DampedTest/Test%d/\" % folderNumber\n",
      "simDataIterationFile = folderPath + \"SimDataIteration.dat\";\n",
      "pltOpt['color']='k'\n",
      "pltOpt['label']=r'$\\alpha=1.1,d_{N}^{-1}=d_{T}^{-1}=1e-7, \\quad T%d$' % folderNumber\n",
      "simDataIteration = ReadInSimDataIterationFile(simDataIterationFile)\n",
      "plotDataIteration(simDataIteration,[0,20000],5000,pltOpt);\n",
      "\n",
      "\n",
      "\n",
      "plt.title(r'Simulation Test Problem 7500 Balls, UCFD Model, $\\mu=0.3$' +  '\\n Term. Crit.: Velocity')\n",
      "plt.legend()\n",
      "plt.xlabel('Iteration (without minIter)')\n",
      "plt.ylabel(r'max. Residual $\\| x^{k+1} -x^k\\|$')\n",
      "plt.gca().margins(0.05)\n",
      "plt.gcf().tight_layout()\n",
      "plt.gcf().canvas.draw()\n",
      "plt.savefig('ResidualPlot1Velocity.pdf')"
     ],
     "language": "python",
     "metadata": {},
     "outputs": [
      {
       "output_type": "stream",
       "stream": "stdout",
       "text": [
        "DataRange: [0, 8965]\n",
        "Orig. Iterations:  (8966,)\n",
        "Clamped Iterations:  (8966,)\n",
        "DataRange:"
       ]
      },
      {
       "output_type": "stream",
       "stream": "stdout",
       "text": [
        " [0, 10000]\n",
        "Orig. Iterations:  (11033,)\n",
        "Clamped Iterations:  (5001,)\n",
        "DataRange: [0, 89]\n",
        "Orig. Iterations:  (90,)\n",
        "Clamped Iterations:  (90,)\n",
        "DataRange: [0, 8659]\n",
        "Orig. Iterations:  (8660,)\n",
        "Clamped Iterations:  (8660,)\n",
        "DataRange:"
       ]
      },
      {
       "output_type": "stream",
       "stream": "stdout",
       "text": [
        " [0, 20000]\n",
        "Orig. Iterations:  (64111,)\n",
        "Clamped Iterations:  (5001,)\n"
       ]
      }
     ],
     "prompt_number": 3
    },
    {
     "cell_type": "code",
     "collapsed": false,
     "input": [
      "\n",
      "plt.figure()\n",
      "\n",
      "folderNumber=5\n",
      "folderPath = \"SimData_7500DampedTest/Test%d/\" % folderNumber\n",
      "simDataIterationFile = folderPath + \"SimDataIteration.dat\";\n",
      "pltOpt['color']='r'\n",
      "pltOpt['label']=r'$\\alpha=1.5,d_{N}^{-1},d_{T}^{-1}=10^{-4}, \\quad T%d$' % folderNumber\n",
      "simDataIteration = ReadInSimDataIterationFile(simDataIterationFile)\n",
      "plotDataIteration(simDataIteration,[0,20000],5000,pltOpt);\n",
      "\n",
      "\n",
      "folderNumber=6\n",
      "folderPath = \"SimData_7500DampedTest/Test%d/\" % folderNumber\n",
      "simDataIterationFile = folderPath + \"SimDataIteration.dat\";\n",
      "pltOpt['color']='g'\n",
      "pltOpt['label']=r'$\\alpha=1.5,d_{N}^{-1},d_{T}^{-1}=10^{-5}, \\quad T%d$' % folderNumber\n",
      "simDataIteration = ReadInSimDataIterationFile(simDataIterationFile)\n",
      "plotDataIteration(simDataIteration,[0,10000],5000,pltOpt);\n",
      "\n",
      "\n",
      "folderNumber=7\n",
      "folderPath = \"SimData_7500DampedTest/Test%d/\" % folderNumber\n",
      "simDataIterationFile = folderPath + \"SimDataIteration.dat\";\n",
      "pltOpt['color']='b'\n",
      "pltOpt['label']=r'$\\alpha=1.5,d_{N}^{-1},d_{T}^{-1}=10^{-6}, \\quad T%d$' % folderNumber\n",
      "simDataIteration = ReadInSimDataIterationFile(simDataIterationFile)\n",
      "plotDataIteration(simDataIteration,[0,10000],5000,pltOpt);\n",
      "\n",
      "\n",
      "folderNumber=8\n",
      "folderPath = \"SimData_7500DampedTest/Test%d/\" % folderNumber\n",
      "simDataIterationFile = folderPath + \"SimDataIteration.dat\";\n",
      "pltOpt['color']='y'\n",
      "pltOpt['label']=r'$\\alpha=1.5,d_{N}^{-1}=d_{T}^{-1}=10^{-5} \\rightarrow 10^{-6} (warm), \\quad T%d$' % folderNumber\n",
      "simDataIteration = ReadInSimDataIterationFile(simDataIterationFile)\n",
      "plotDataIteration(simDataIteration,[0,10000],5000,pltOpt);\n",
      "\n",
      "\n",
      "folderNumber=9\n",
      "folderPath = \"SimData_7500DampedTest/Test%d/\" % folderNumber\n",
      "simDataIterationFile = folderPath + \"SimDataIteration.dat\";\n",
      "pltOpt['color']='k'\n",
      "pltOpt['label']=r'$\\alpha=1.5,d_{N}^{-1}=d_{T}^{-1}=10^{-5} \\rightarrow 10^{-6} (warm), \\quad T%d$' % folderNumber\n",
      "simDataIteration = ReadInSimDataIterationFile(simDataIterationFile)\n",
      "plotDataIteration(simDataIteration,[0,10000],5000,pltOpt);\n",
      "\n",
      "\n",
      "\n",
      "plt.title(r'Simulation Test Problem 7500 Balls, UCFD Model, $\\mu=0.3$' +  '\\n Term. Crit.: Lambda')\n",
      "plt.legend()\n",
      "plt.xlabel('Iteration (without minIter)')\n",
      "plt.ylabel(r'Residual $\\| x^{k+1} -x^k\\|$')\n",
      "plt.gca().margins(0.05)\n",
      "plt.gcf().tight_layout()\n",
      "plt.gcf().canvas.draw()\n",
      "plt.savefig('ResidualPlot2Lambda.pdf')"
     ],
     "language": "python",
     "metadata": {},
     "outputs": [
      {
       "output_type": "stream",
       "stream": "stdout",
       "text": [
        "DataRange: [0, 68]\n",
        "Orig. Iterations:  (69,)\n",
        "Clamped Iterations:  (69,)\n",
        "DataRange:"
       ]
      },
      {
       "output_type": "stream",
       "stream": "stdout",
       "text": [
        " [0, 691]\n",
        "Orig. Iterations:  (692,)\n",
        "Clamped Iterations:  (692,)\n",
        "DataRange: [0, 5083]\n",
        "Orig. Iterations:  (5084,)\n",
        "Clamped Iterations:  (5084,)\n",
        "DataRange: [0, 5543]\n",
        "Orig. Iterations:  (5544,)\n",
        "Clamped Iterations:  (5544,)\n",
        "DataRange: [0, 5168]\n",
        "Orig. Iterations:  (5169,)\n",
        "Clamped Iterations:  (5169,)\n"
       ]
      }
     ],
     "prompt_number": 4
    },
    {
     "cell_type": "code",
     "collapsed": false,
     "input": [
      "plt.figure()\n",
      "\n",
      "folderNumber=10\n",
      "folderPath = \"SimData_7500DampedTest/Test%d/\" % folderNumber\n",
      "simDataIterationFile = folderPath + \"SimDataIteration.dat\";\n",
      "pltOpt['color']='r'\n",
      "pltOpt['label']=r'$\\alpha=1.5,d_{N}^{-1}=10^{-7},d_{T}^{-1}=10^{-3}, \\quad T%d$' % folderNumber\n",
      "simDataIteration = ReadInSimDataIterationFile(simDataIterationFile)\n",
      "plotDataIteration(simDataIteration,[0,20000],5000,pltOpt);\n",
      "\n",
      "folderNumber=11\n",
      "folderPath = \"SimData_7500DampedTest/Test%d/\" % folderNumber\n",
      "simDataIterationFile = folderPath + \"SimDataIteration.dat\";\n",
      "pltOpt['color']='g'\n",
      "pltOpt['label']=r'$\\alpha=1.5,d_{N}^{-1}=10^{-8},d_{T}^{-1}=10^{-2}, \\quad T%d$' % folderNumber\n",
      "simDataIteration = ReadInSimDataIterationFile(simDataIterationFile)\n",
      "plotDataIteration(simDataIteration,[0,20000],5000,pltOpt);\n",
      "\n",
      "\n",
      "folderNumber=12\n",
      "folderPath = \"SimData_7500DampedTest/Test%d/\" % folderNumber\n",
      "simDataIterationFile = folderPath + \"SimDataIteration.dat\";\n",
      "pltOpt['color']='b'\n",
      "pltOpt['label']=r'$\\alpha=1.5,d_{N}^{-1}=10^{-10},d_{T}^{-1}=10^{-2}, \\quad T%d$' % folderNumber\n",
      "simDataIteration = ReadInSimDataIterationFile(simDataIterationFile)\n",
      "plotDataIteration(simDataIteration,[0,20000],5000,pltOpt);\n",
      "\n",
      "folderNumber=13\n",
      "folderPath = \"SimData_7500DampedTest/Test%d/\" % folderNumber\n",
      "simDataIterationFile = folderPath + \"SimDataIteration.dat\";\n",
      "pltOpt['color']='y'\n",
      "pltOpt['label']=r'$\\alpha=1.5,d_{N}^{-1}=10^{-10},d_{T}^{-1}=10^{-4}, \\quad T%d$' % folderNumber\n",
      "simDataIteration = ReadInSimDataIterationFile(simDataIterationFile)\n",
      "plotDataIteration(simDataIteration,[0,20000],5000,pltOpt);\n",
      "\n",
      "\n",
      "plt.title(r'Simulation Test Problem 7500 Balls, UCFD Model, $\\mu=0.3$' +  '\\n Term. Crit.: Lambda')\n",
      "plt.legend()\n",
      "plt.xlabel('Iteration (without minIter)')\n",
      "plt.ylabel(r'Residual $\\| x^{k+1} -x^k\\|$')\n",
      "plt.gca().margins(0.05)\n",
      "plt.gcf().tight_layout()\n",
      "plt.gcf().canvas.draw()\n",
      "plt.savefig('ResidualPlot2Lambda.pdf')"
     ],
     "language": "python",
     "metadata": {},
     "outputs": [
      {
       "output_type": "stream",
       "stream": "stdout",
       "text": [
        "DataRange: [0, 2339]\n",
        "Orig. Iterations:  (2340,)\n",
        "Clamped Iterations:  (2340,)\n",
        "DataRange:"
       ]
      },
      {
       "output_type": "stream",
       "stream": "stdout",
       "text": [
        " [0, 1309]\n",
        "Orig. Iterations:  (1310,)\n",
        "Clamped Iterations:  (1310,)\n",
        "DataRange: [0, 1321]\n",
        "Orig. Iterations:  (1322,)\n",
        "Clamped Iterations:  (1322,)\n",
        "DataRange: [0, 9918]\n",
        "Orig. Iterations:  (9919,)\n",
        "Clamped Iterations:  (9919,)\n"
       ]
      }
     ],
     "prompt_number": 5
    },
    {
     "cell_type": "code",
     "collapsed": false,
     "input": [
      "plt.figure()\n",
      "\n",
      "folderNumber=14\n",
      "folderPath = \"SimData_7500DampedTest/Test%d/\" % folderNumber\n",
      "simDataIterationFile = folderPath + \"SimDataIteration.dat\";\n",
      "pltOpt['color']='r'\n",
      "pltOpt['label']=r'$\\alpha=1.5,d_{N}^{-1}=10^{-6},d_{T}^{-1}=10^{-6} (\\Lambda^{k+1}-\\Lambda^{k}), \\quad T%d$' % folderNumber\n",
      "simDataIteration = ReadInSimDataIterationFile(simDataIterationFile)\n",
      "plotDataIteration(simDataIteration,[0,20000],5000,pltOpt);\n",
      "\n",
      "folderNumber=15\n",
      "folderPath = \"SimData_7500DampedTest/Test%d/\" % folderNumber\n",
      "simDataIterationFile = folderPath + \"SimDataIteration.dat\";\n",
      "pltOpt['color']='g'\n",
      "pltOpt['label']=r'$\\alpha=1.5,d_{N}^{-1}=10^{-6},d_{T}^{-1}=10^{-6} (+\\mathbf{M}^{-1}\\mathbf{W} \\Lambda^k ), \\quad T%d$' % folderNumber\n",
      "simDataIteration = ReadInSimDataIterationFile(simDataIterationFile)\n",
      "plotDataIteration(simDataIteration,[0,20000],5000,pltOpt);\n",
      "\n",
      "\n",
      "plt.title(r'Simulation Test Problem 7500 Balls, UCFD Model, $\\mu=0.3$' +  '\\n Term. Crit.: Lambda')\n",
      "plt.legend()\n",
      "plt.xlabel('Iteration (without minIter)')\n",
      "plt.ylabel(r'Residual $\\| x^{k+1} -x^k\\|$')\n",
      "plt.gca().margins(0.05)\n",
      "plt.gcf().tight_layout()\n",
      "plt.gcf().canvas.draw()\n",
      "plt.savefig('ResidualPlot4Ausl\u00f6schung.pdf')"
     ],
     "language": "python",
     "metadata": {},
     "outputs": [
      {
       "output_type": "stream",
       "stream": "stdout",
       "text": [
        "DataRange: [0, 5083]\n",
        "Orig. Iterations:  (5084,)\n",
        "Clamped Iterations:  (5084,)\n",
        "DataRange:"
       ]
      },
      {
       "output_type": "stream",
       "stream": "stdout",
       "text": [
        " [0, 5083]\n",
        "Orig. Iterations:  (5084,)\n",
        "Clamped Iterations:  (5084,)\n"
       ]
      }
     ],
     "prompt_number": 6
    },
    {
     "cell_type": "code",
     "collapsed": false,
     "input": [
      "plt.figure()\n",
      "\n",
      "pltOpt = {'color':'r', 'marker':'.', 'markersize': 2,'markeredgewidth': 0, 'markeredgecolor':'none', 'linewidth':0.4}\n",
      "\n",
      "folderPath = \"../SimFiles/SimDataRECORD_0/\"\n",
      "simDataIterationFile = folderPath + \"SimDataIteration.dat\";\n",
      "pltOpt['color']='b'\n",
      "pltOpt['label']=r'$\\alpha=1.5,d_{N}^{-1}=10^{-10},d_{T}^{-1}=10^{-4},m=1$' \n",
      "simDataIteration = ReadInSimDataIterationFile(simDataIterationFile)\n",
      "plotDataIteration(simDataIteration,[0,100000],5000,pltOpt);\n",
      "\n",
      "# folderPath = \"../SimFiles/SimDataRECORD_24/\"\n",
      "# simDataIterationFile = folderPath + \"SimDataIteration.dat\";\n",
      "# pltOpt['color']='r'\n",
      "# pltOpt['label']=r'$\\alpha=1.5,d_{N}^{-1}=10^{-10},d_{T}^{-1}=10^{-4},m=1$' \n",
      "# simDataIteration = ReadInSimDataIterationFile(simDataIterationFile)\n",
      "# plotDataIteration(simDataIteration,[0,100000],5000,pltOpt);\n",
      "\n",
      "# folderPath = \"../SimFiles/SimDataRECORD_25/\"\n",
      "# simDataIterationFile = folderPath + \"SimDataIteration.dat\";\n",
      "# pltOpt['color']='g'\n",
      "# pltOpt['label']=r'$\\alpha=1.5,d_{N}^{-1}=10^{-10},d_{T}^{-1}=10^{-4},m=1$'\n",
      "# simDataIteration = ReadInSimDataIterationFile(simDataIterationFile)\n",
      "# plotDataIteration(simDataIteration,[0,100000],5000,pltOpt);\n",
      "\n",
      "folderPath = \"../SimFiles/SimDataRECORD_41/\"\n",
      "simDataIterationFile = folderPath + \"SimDataIteration.dat\";\n",
      "pltOpt['color']='y'\n",
      "pltOpt['label']=r'$\\alpha=1.5,d_{N}^{-1}=10^{-10},d_{T}^{-1}=10^{-4},descending$' \n",
      "simDataIteration = ReadInSimDataIterationFile(simDataIterationFile)\n",
      "plotDataIteration(simDataIteration,[0,100000],5000,pltOpt);\n",
      "\n",
      "folderPath = \"../SimFiles/SimDataRECORD_42/\"\n",
      "simDataIterationFile = folderPath + \"SimDataIteration.dat\";\n",
      "pltOpt['color']='y'\n",
      "pltOpt['label']=r'$\\alpha=1.5,d_{N}^{-1}=10^{-10},d_{T}^{-1}=10^{-4},ascending$'\n",
      "simDataIteration = ReadInSimDataIterationFile(simDataIterationFile)\n",
      "plotDataIteration(simDataIteration,[0,100000],5000,pltOpt);\n",
      "\n",
      "plt.title(r'Simulation Test Problem 7500 Balls, UCFD Model, $\\mu=0.3$' +  '\\n Term. Crit.: Lambda')\n",
      "plt.legend()\n",
      "plt.xlabel('Iteration (without minIter)')\n",
      "plt.ylabel(r'Residual $\\| x^{k+1} -x^k\\|$')\n",
      "plt.gca().margins(0.05)\n",
      "plt.gcf().tight_layout()\n",
      "plt.gcf().canvas.draw()\n",
      "plt.savefig('ResidualPlot5UCFCD.pdf')"
     ],
     "language": "python",
     "metadata": {},
     "outputs": [
      {
       "output_type": "stream",
       "stream": "stdout",
       "text": [
        "DataRange: [0, 8152]\n",
        "Orig. Iterations:  (8153,)\n",
        "Clamped Iterations:  (8153,)\n",
        "DataRange:"
       ]
      },
      {
       "output_type": "stream",
       "stream": "stdout",
       "text": [
        " [0, 18679]\n",
        "Orig. Iterations:  (18680,)\n",
        "Clamped Iterations:  (6227,)\n",
        "DataRange: [0, 12993]\n",
        "Orig. Iterations:  (12994,)\n",
        "Clamped Iterations:  (6497,)\n"
       ]
      }
     ],
     "prompt_number": 7
    },
    {
     "cell_type": "code",
     "collapsed": false,
     "input": [],
     "language": "python",
     "metadata": {},
     "outputs": [],
     "prompt_number": 7
    }
   ],
   "metadata": {}
  }
 ]
}